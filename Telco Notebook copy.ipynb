{
 "cells": [
  {
   "cell_type": "code",
   "execution_count": 1,
   "id": "a7360fea",
   "metadata": {},
   "outputs": [],
   "source": [
    "import pandas as pd\n",
    "import numpy as np\n",
    "from scipy import stats\n",
    "import math\n",
    "\n",
    "import matplotlib.pyplot as plt\n",
    "import seaborn as sns\n",
    "\n",
    "from sklearn.preprocessing import LabelEncoder\n",
    "from sklearn.preprocessing import MinMaxScaler\n",
    "\n",
    "from sklearn.model_selection import train_test_split\n",
    "\n",
    "from sklearn.ensemble import RandomForestClassifier\n",
    "from sklearn.neighbors import KNeighborsClassifier\n",
    "from sklearn.metrics import confusion_matrix\n",
    "from sklearn.linear_model import LogisticRegression\n",
    "from sklearn.metrics import classification_report, recall_score\n",
    "from sklearn.tree import DecisionTreeClassifier\n",
    "from sklearn.metrics import f1_score\n",
    "\n",
    "import prepare\n",
    "import prepare_telco\n",
    "\n",
    "# ignore warnings\n",
    "import warnings\n",
    "warnings.filterwarnings(\"ignore\")\n"
   ]
  },
  {
   "cell_type": "markdown",
   "id": "c4a314fc",
   "metadata": {},
   "source": [
    "# Plan"
   ]
  },
  {
   "cell_type": "markdown",
   "id": "8ae18976",
   "metadata": {},
   "source": [
    "### Summary"
   ]
  },
  {
   "cell_type": "markdown",
   "id": "14f43e73",
   "metadata": {},
   "source": [
    "Telco Company's last report reflects a high customer churn rate. This notebook is an evaluation of the main drivers of churn for Telco Co. "
   ]
  },
  {
   "cell_type": "markdown",
   "id": "6311ddaa",
   "metadata": {},
   "source": [
    "### Goals"
   ]
  },
  {
   "cell_type": "markdown",
   "id": "3bbbe8b1",
   "metadata": {},
   "source": [
    "- Identify main drivers of churn \n",
    "- Create a MVP that accurately predicts a customer's likelihood to churn"
   ]
  },
  {
   "cell_type": "markdown",
   "id": "93b15e17",
   "metadata": {},
   "source": [
    "# Acquire"
   ]
  },
  {
   "cell_type": "code",
   "execution_count": 78,
   "id": "72506379",
   "metadata": {},
   "outputs": [],
   "source": [
    "import acquire_telco"
   ]
  },
  {
   "cell_type": "code",
   "execution_count": 79,
   "id": "002adf85",
   "metadata": {},
   "outputs": [
    {
     "name": "stdout",
     "output_type": "stream",
     "text": [
      "Using cached csv\n"
     ]
    }
   ],
   "source": [
    "df = acquire_telco.get_telco_data()\n"
   ]
  },
  {
   "cell_type": "markdown",
   "id": "3e7572dc",
   "metadata": {},
   "source": [
    "# Prepare"
   ]
  },
  {
   "cell_type": "markdown",
   "id": "3c504695",
   "metadata": {},
   "source": [
    "Prepare.py accomplishes the following: \n",
    "- Strips total charges of white space \n",
    "- Changes total charges datatype from object to float \n",
    "- splits the data: train, validate, test"
   ]
  },
  {
   "cell_type": "code",
   "execution_count": 80,
   "id": "c5211993",
   "metadata": {},
   "outputs": [],
   "source": [
    " df.drop(columns=['payment_type_id', 'internet_service_type_id', 'contract_type_id', 'customer_id'], inplace=True)"
   ]
  },
  {
   "cell_type": "code",
   "execution_count": 81,
   "id": "f8fccc0e",
   "metadata": {},
   "outputs": [],
   "source": [
    "df['total_charges'] = df['total_charges'].str.strip()\n",
    "df = df[df.total_charges != '']"
   ]
  },
  {
   "cell_type": "code",
   "execution_count": 82,
   "id": "971de5f6",
   "metadata": {},
   "outputs": [],
   "source": [
    "df['total_charges'] = df.total_charges.astype(float)"
   ]
  },
  {
   "cell_type": "code",
   "execution_count": 83,
   "id": "bef60989",
   "metadata": {},
   "outputs": [],
   "source": [
    "df['gender_encoded'] = df.gender.map({'Female': 1, 'Male': 0})\n",
    "df['partner_encoded'] = df.partner.map({'Yes': 1, 'No': 0})\n",
    "df['dependents_encoded'] = df.dependents.map({'Yes': 1, 'No': 0})\n",
    "df['phone_service_encoded'] = df.phone_service.map({'Yes': 1, 'No': 0})\n",
    "df['paperless_billing_encoded'] = df.paperless_billing.map({'Yes': 1, 'No': 0})\n",
    "df['churn_encoded'] = df.churn.map({'Yes': 1, 'No': 0})"
   ]
  },
  {
   "cell_type": "code",
   "execution_count": 84,
   "id": "3a879705",
   "metadata": {},
   "outputs": [],
   "source": [
    " dummy_df = pd.get_dummies(df[['multiple_lines', \\\n",
    "                              'online_security', \\\n",
    "                              'online_backup', \\\n",
    "                              'device_protection', \\\n",
    "                              'tech_support', \\\n",
    "                              'streaming_tv', \\\n",
    "                              'streaming_movies', \\\n",
    "                              'contract_type', \\\n",
    "                              'internet_service_type', \\\n",
    "                              'payment_type']], dummy_na=False, \\\n",
    "                              drop_first=True)"
   ]
  },
  {
   "cell_type": "code",
   "execution_count": 85,
   "id": "2254e80e",
   "metadata": {},
   "outputs": [],
   "source": [
    "df = pd.concat([df, dummy_df], axis=1)"
   ]
  },
  {
   "cell_type": "code",
   "execution_count": 86,
   "id": "93f0472f",
   "metadata": {},
   "outputs": [
    {
     "data": {
      "text/plain": [
       "Index(['gender', 'senior_citizen', 'partner', 'dependents', 'tenure',\n",
       "       'phone_service', 'multiple_lines', 'online_security', 'online_backup',\n",
       "       'device_protection', 'tech_support', 'streaming_tv', 'streaming_movies',\n",
       "       'paperless_billing', 'monthly_charges', 'total_charges', 'churn',\n",
       "       'internet_service_type', 'contract_type', 'payment_type',\n",
       "       'gender_encoded', 'partner_encoded', 'dependents_encoded',\n",
       "       'phone_service_encoded', 'paperless_billing_encoded', 'churn_encoded',\n",
       "       'multiple_lines_No phone service', 'multiple_lines_Yes',\n",
       "       'online_security_No internet service', 'online_security_Yes',\n",
       "       'online_backup_No internet service', 'online_backup_Yes',\n",
       "       'device_protection_No internet service', 'device_protection_Yes',\n",
       "       'tech_support_No internet service', 'tech_support_Yes',\n",
       "       'streaming_tv_No internet service', 'streaming_tv_Yes',\n",
       "       'streaming_movies_No internet service', 'streaming_movies_Yes',\n",
       "       'contract_type_One year', 'contract_type_Two year',\n",
       "       'internet_service_type_Fiber optic', 'internet_service_type_None',\n",
       "       'payment_type_Credit card (automatic)', 'payment_type_Electronic check',\n",
       "       'payment_type_Mailed check'],\n",
       "      dtype='object')"
      ]
     },
     "execution_count": 86,
     "metadata": {},
     "output_type": "execute_result"
    }
   ],
   "source": [
    "df.columns"
   ]
  },
  {
   "cell_type": "code",
   "execution_count": 87,
   "id": "6a000eb3",
   "metadata": {},
   "outputs": [],
   "source": [
    "df.drop(columns=['gender', 'senior_citizen', 'partner', 'dependents',\n",
    "       'phone_service', 'multiple_lines', 'online_security', 'online_backup',\n",
    "       'device_protection', 'tech_support', 'streaming_tv', 'streaming_movies',\n",
    "       'paperless_billing', 'churn',\n",
    "       'internet_service_type', 'contract_type', 'payment_type'], inplace=True)"
   ]
  },
  {
   "cell_type": "code",
   "execution_count": 88,
   "id": "13af40d8",
   "metadata": {},
   "outputs": [
    {
     "data": {
      "text/html": [
       "<div>\n",
       "<style scoped>\n",
       "    .dataframe tbody tr th:only-of-type {\n",
       "        vertical-align: middle;\n",
       "    }\n",
       "\n",
       "    .dataframe tbody tr th {\n",
       "        vertical-align: top;\n",
       "    }\n",
       "\n",
       "    .dataframe thead th {\n",
       "        text-align: right;\n",
       "    }\n",
       "</style>\n",
       "<table border=\"1\" class=\"dataframe\">\n",
       "  <thead>\n",
       "    <tr style=\"text-align: right;\">\n",
       "      <th></th>\n",
       "      <th>tenure</th>\n",
       "      <th>monthly_charges</th>\n",
       "      <th>total_charges</th>\n",
       "      <th>gender_encoded</th>\n",
       "      <th>partner_encoded</th>\n",
       "      <th>dependents_encoded</th>\n",
       "      <th>phone_service_encoded</th>\n",
       "      <th>paperless_billing_encoded</th>\n",
       "      <th>churn_encoded</th>\n",
       "      <th>multiple_lines_No phone service</th>\n",
       "      <th>...</th>\n",
       "      <th>streaming_tv_Yes</th>\n",
       "      <th>streaming_movies_No internet service</th>\n",
       "      <th>streaming_movies_Yes</th>\n",
       "      <th>contract_type_One year</th>\n",
       "      <th>contract_type_Two year</th>\n",
       "      <th>internet_service_type_Fiber optic</th>\n",
       "      <th>internet_service_type_None</th>\n",
       "      <th>payment_type_Credit card (automatic)</th>\n",
       "      <th>payment_type_Electronic check</th>\n",
       "      <th>payment_type_Mailed check</th>\n",
       "    </tr>\n",
       "  </thead>\n",
       "  <tbody>\n",
       "    <tr>\n",
       "      <th>0</th>\n",
       "      <td>9</td>\n",
       "      <td>65.6</td>\n",
       "      <td>593.30</td>\n",
       "      <td>1</td>\n",
       "      <td>1</td>\n",
       "      <td>1</td>\n",
       "      <td>1</td>\n",
       "      <td>1</td>\n",
       "      <td>0</td>\n",
       "      <td>0</td>\n",
       "      <td>...</td>\n",
       "      <td>1</td>\n",
       "      <td>0</td>\n",
       "      <td>0</td>\n",
       "      <td>1</td>\n",
       "      <td>0</td>\n",
       "      <td>0</td>\n",
       "      <td>0</td>\n",
       "      <td>0</td>\n",
       "      <td>0</td>\n",
       "      <td>1</td>\n",
       "    </tr>\n",
       "    <tr>\n",
       "      <th>1</th>\n",
       "      <td>9</td>\n",
       "      <td>59.9</td>\n",
       "      <td>542.40</td>\n",
       "      <td>0</td>\n",
       "      <td>0</td>\n",
       "      <td>0</td>\n",
       "      <td>1</td>\n",
       "      <td>0</td>\n",
       "      <td>0</td>\n",
       "      <td>0</td>\n",
       "      <td>...</td>\n",
       "      <td>0</td>\n",
       "      <td>0</td>\n",
       "      <td>1</td>\n",
       "      <td>0</td>\n",
       "      <td>0</td>\n",
       "      <td>0</td>\n",
       "      <td>0</td>\n",
       "      <td>0</td>\n",
       "      <td>0</td>\n",
       "      <td>1</td>\n",
       "    </tr>\n",
       "    <tr>\n",
       "      <th>2</th>\n",
       "      <td>4</td>\n",
       "      <td>73.9</td>\n",
       "      <td>280.85</td>\n",
       "      <td>0</td>\n",
       "      <td>0</td>\n",
       "      <td>0</td>\n",
       "      <td>1</td>\n",
       "      <td>1</td>\n",
       "      <td>1</td>\n",
       "      <td>0</td>\n",
       "      <td>...</td>\n",
       "      <td>0</td>\n",
       "      <td>0</td>\n",
       "      <td>0</td>\n",
       "      <td>0</td>\n",
       "      <td>0</td>\n",
       "      <td>1</td>\n",
       "      <td>0</td>\n",
       "      <td>0</td>\n",
       "      <td>1</td>\n",
       "      <td>0</td>\n",
       "    </tr>\n",
       "    <tr>\n",
       "      <th>3</th>\n",
       "      <td>13</td>\n",
       "      <td>98.0</td>\n",
       "      <td>1237.85</td>\n",
       "      <td>0</td>\n",
       "      <td>1</td>\n",
       "      <td>0</td>\n",
       "      <td>1</td>\n",
       "      <td>1</td>\n",
       "      <td>1</td>\n",
       "      <td>0</td>\n",
       "      <td>...</td>\n",
       "      <td>1</td>\n",
       "      <td>0</td>\n",
       "      <td>1</td>\n",
       "      <td>0</td>\n",
       "      <td>0</td>\n",
       "      <td>1</td>\n",
       "      <td>0</td>\n",
       "      <td>0</td>\n",
       "      <td>1</td>\n",
       "      <td>0</td>\n",
       "    </tr>\n",
       "    <tr>\n",
       "      <th>4</th>\n",
       "      <td>3</td>\n",
       "      <td>83.9</td>\n",
       "      <td>267.40</td>\n",
       "      <td>1</td>\n",
       "      <td>1</td>\n",
       "      <td>0</td>\n",
       "      <td>1</td>\n",
       "      <td>1</td>\n",
       "      <td>1</td>\n",
       "      <td>0</td>\n",
       "      <td>...</td>\n",
       "      <td>1</td>\n",
       "      <td>0</td>\n",
       "      <td>0</td>\n",
       "      <td>0</td>\n",
       "      <td>0</td>\n",
       "      <td>1</td>\n",
       "      <td>0</td>\n",
       "      <td>0</td>\n",
       "      <td>0</td>\n",
       "      <td>1</td>\n",
       "    </tr>\n",
       "  </tbody>\n",
       "</table>\n",
       "<p>5 rows × 30 columns</p>\n",
       "</div>"
      ],
      "text/plain": [
       "   tenure  monthly_charges  total_charges  gender_encoded  partner_encoded  \\\n",
       "0       9             65.6         593.30               1                1   \n",
       "1       9             59.9         542.40               0                0   \n",
       "2       4             73.9         280.85               0                0   \n",
       "3      13             98.0        1237.85               0                1   \n",
       "4       3             83.9         267.40               1                1   \n",
       "\n",
       "   dependents_encoded  phone_service_encoded  paperless_billing_encoded  \\\n",
       "0                   1                      1                          1   \n",
       "1                   0                      1                          0   \n",
       "2                   0                      1                          1   \n",
       "3                   0                      1                          1   \n",
       "4                   0                      1                          1   \n",
       "\n",
       "   churn_encoded  multiple_lines_No phone service  ...  streaming_tv_Yes  \\\n",
       "0              0                                0  ...                 1   \n",
       "1              0                                0  ...                 0   \n",
       "2              1                                0  ...                 0   \n",
       "3              1                                0  ...                 1   \n",
       "4              1                                0  ...                 1   \n",
       "\n",
       "   streaming_movies_No internet service  streaming_movies_Yes  \\\n",
       "0                                     0                     0   \n",
       "1                                     0                     1   \n",
       "2                                     0                     0   \n",
       "3                                     0                     1   \n",
       "4                                     0                     0   \n",
       "\n",
       "   contract_type_One year  contract_type_Two year  \\\n",
       "0                       1                       0   \n",
       "1                       0                       0   \n",
       "2                       0                       0   \n",
       "3                       0                       0   \n",
       "4                       0                       0   \n",
       "\n",
       "   internet_service_type_Fiber optic  internet_service_type_None  \\\n",
       "0                                  0                           0   \n",
       "1                                  0                           0   \n",
       "2                                  1                           0   \n",
       "3                                  1                           0   \n",
       "4                                  1                           0   \n",
       "\n",
       "   payment_type_Credit card (automatic)  payment_type_Electronic check  \\\n",
       "0                                     0                              0   \n",
       "1                                     0                              0   \n",
       "2                                     0                              1   \n",
       "3                                     0                              1   \n",
       "4                                     0                              0   \n",
       "\n",
       "   payment_type_Mailed check  \n",
       "0                          1  \n",
       "1                          1  \n",
       "2                          0  \n",
       "3                          0  \n",
       "4                          1  \n",
       "\n",
       "[5 rows x 30 columns]"
      ]
     },
     "execution_count": 88,
     "metadata": {},
     "output_type": "execute_result"
    }
   ],
   "source": [
    "df.head()"
   ]
  },
  {
   "cell_type": "markdown",
   "id": "e94d21dd",
   "metadata": {},
   "source": [
    "### Sort customers into two categories before train/validate split"
   ]
  },
  {
   "cell_type": "code",
   "execution_count": 89,
   "id": "2237ab27",
   "metadata": {},
   "outputs": [],
   "source": [
    "def bin_tenure(tenure):\n",
    "    if tenure <= 3: \n",
    "        return \"brand_new\"\n",
    "    else: \n",
    "        return 'not_new'"
   ]
  },
  {
   "cell_type": "code",
   "execution_count": 90,
   "id": "3eca59a5",
   "metadata": {},
   "outputs": [],
   "source": [
    "df[\"tenure_bin\"] = df.tenure.apply(bin_tenure)"
   ]
  },
  {
   "cell_type": "code",
   "execution_count": 91,
   "id": "f3dedeec",
   "metadata": {},
   "outputs": [],
   "source": [
    "new_customers = df[df.tenure_bin == \"brand_new\"]\n",
    "old_customers = df[df.tenure_bin == \"not_new\"]"
   ]
  },
  {
   "cell_type": "markdown",
   "id": "2c5893dc",
   "metadata": {},
   "source": [
    "### New Customers"
   ]
  },
  {
   "cell_type": "code",
   "execution_count": 93,
   "id": "713cf934",
   "metadata": {},
   "outputs": [],
   "source": [
    "train_validate, test = train_test_split(new_customers, test_size=.2, random_state=123, stratify=new_customers.churn_encoded)"
   ]
  },
  {
   "cell_type": "code",
   "execution_count": 94,
   "id": "473d481f",
   "metadata": {},
   "outputs": [],
   "source": [
    "train, validate = train_test_split(train_validate, test_size=.3, random_state=123, stratify=train_validate.churn_encoded)"
   ]
  },
  {
   "cell_type": "code",
   "execution_count": 96,
   "id": "a02fb3b6",
   "metadata": {},
   "outputs": [],
   "source": [
    "X_train_new = train.drop(columns=['churn_encoded'])\n",
    "y_train_new = train.churn_encoded\n",
    "\n",
    "X_validate_new = validate.drop(columns=['churn_encoded'])\n",
    "y_validate_new = validate.churn_encoded\n",
    "\n",
    "X_test_new = test.drop(columns=['churn_encoded'])\n",
    "y_test_new = test.churn_encoded"
   ]
  },
  {
   "cell_type": "markdown",
   "id": "849b13ff",
   "metadata": {},
   "source": [
    "### Old Customers"
   ]
  },
  {
   "cell_type": "code",
   "execution_count": 97,
   "id": "51e24f7c",
   "metadata": {},
   "outputs": [],
   "source": [
    "train_validate, test = train_test_split(old_customers, test_size=.2, random_state=123, stratify=old_customers.churn_encoded)"
   ]
  },
  {
   "cell_type": "code",
   "execution_count": 98,
   "id": "6ae65557",
   "metadata": {},
   "outputs": [],
   "source": [
    "train, validate = train_test_split(train_validate, test_size=.3, random_state=123, stratify=train_validate.churn_encoded)"
   ]
  },
  {
   "cell_type": "code",
   "execution_count": 99,
   "id": "85852d27",
   "metadata": {},
   "outputs": [],
   "source": [
    "X_train_old = train.drop(columns=['churn_encoded'])\n",
    "y_train_old = train.churn_encoded\n",
    "\n",
    "X_validate_old = validate.drop(columns=['churn_encoded'])\n",
    "y_validate_old = validate.churn_encoded\n",
    "\n",
    "X_test_old = test.drop(columns=['churn_encoded'])\n",
    "y_test_old = test.churn_encoded"
   ]
  },
  {
   "cell_type": "markdown",
   "id": "7befc6f9",
   "metadata": {},
   "source": [
    "# Explore"
   ]
  },
  {
   "cell_type": "markdown",
   "id": "f48ab036",
   "metadata": {},
   "source": [
    "### Import original dataframe for exploratory purposes. "
   ]
  },
  {
   "cell_type": "code",
   "execution_count": 26,
   "id": "e3406af7",
   "metadata": {},
   "outputs": [
    {
     "name": "stdout",
     "output_type": "stream",
     "text": [
      "Using cached csv\n"
     ]
    }
   ],
   "source": [
    "df_explore = acquire_telco.get_telco_data()"
   ]
  },
  {
   "cell_type": "code",
   "execution_count": 27,
   "id": "a408424f",
   "metadata": {},
   "outputs": [],
   "source": [
    "train_validate, test = train_test_split(df_explore, test_size=.2, random_state=123, stratify=df_explore.churn)"
   ]
  },
  {
   "cell_type": "code",
   "execution_count": 28,
   "id": "0ee3f8e2",
   "metadata": {},
   "outputs": [],
   "source": [
    "train, validate = train_test_split(train_validate, test_size=.3, random_state=123, stratify=train_validate.churn)"
   ]
  },
  {
   "cell_type": "markdown",
   "id": "3481e422",
   "metadata": {},
   "source": [
    "How many customers overall churned?"
   ]
  },
  {
   "cell_type": "code",
   "execution_count": 208,
   "id": "b5817a5d",
   "metadata": {},
   "outputs": [
    {
     "data": {
      "text/plain": [
       "No     2897\n",
       "Yes    1046\n",
       "Name: churn, dtype: int64"
      ]
     },
     "execution_count": 208,
     "metadata": {},
     "output_type": "execute_result"
    }
   ],
   "source": [
    "train.churn.value_counts()"
   ]
  },
  {
   "cell_type": "markdown",
   "id": "27895f22",
   "metadata": {},
   "source": [
    "Takeaway: In this dataset 26.5% of customer's churned"
   ]
  },
  {
   "cell_type": "markdown",
   "id": "551e071f",
   "metadata": {},
   "source": [
    "For a complete set of visual comparisons of features to churn rate please see original notebook."
   ]
  },
  {
   "cell_type": "markdown",
   "id": "3fddcadf",
   "metadata": {},
   "source": [
    "### Churn by Feature"
   ]
  },
  {
   "cell_type": "markdown",
   "id": "09b15a36",
   "metadata": {},
   "source": [
    "Divide tenure: First 90 day customers vs customers over 90 days. "
   ]
  },
  {
   "cell_type": "code",
   "execution_count": 213,
   "id": "6dab6f4b",
   "metadata": {},
   "outputs": [],
   "source": [
    "def bin_tenure(tenure):\n",
    "    if tenure <= 3: \n",
    "        return \"brand_new\"\n",
    "    else: \n",
    "        return 'not_new'"
   ]
  },
  {
   "cell_type": "code",
   "execution_count": 214,
   "id": "c35b202b",
   "metadata": {},
   "outputs": [],
   "source": [
    "train[\"tenure_bin\"] = train.tenure.apply(bin_tenure)"
   ]
  },
  {
   "cell_type": "code",
   "execution_count": 215,
   "id": "bba303d7",
   "metadata": {},
   "outputs": [],
   "source": [
    "new_customers = train[train.tenure_bin == \"brand_new\"]\n",
    "old_customers = train[train.tenure_bin == \"not_new\"]"
   ]
  },
  {
   "cell_type": "markdown",
   "id": "33f55c22",
   "metadata": {},
   "source": [
    "### What can be learned from customers who churn in their first 90 days? "
   ]
  },
  {
   "cell_type": "code",
   "execution_count": 216,
   "id": "1a02669e",
   "metadata": {},
   "outputs": [
    {
     "data": {
      "text/plain": [
       "<AxesSubplot:xlabel='senior_citizen'>"
      ]
     },
     "execution_count": 216,
     "metadata": {},
     "output_type": "execute_result"
    },
    {
     "data": {
      "image/png": "[encoded data removed]",
      "text/plain": [
       "<Figure size 432x288 with 1 Axes>"
      ]
     },
     "metadata": {
      "needs_background": "light"
     },
     "output_type": "display_data"
    }
   ],
   "source": [
    "pd.crosstab(new_customers.senior_citizen, new_customers.churn, normalize=\"index\").plot.bar()"
   ]
  },
  {
   "cell_type": "markdown",
   "id": "b4c95f2a",
   "metadata": {},
   "source": [
    "Takeaway: Senior citizens churn at a high rate in the first 90 days. Further investigation required."
   ]
  },
  {
   "cell_type": "code",
   "execution_count": 219,
   "id": "b0a31a45",
   "metadata": {},
   "outputs": [
    {
     "data": {
      "text/plain": [
       "<AxesSubplot:xlabel='online_security'>"
      ]
     },
     "execution_count": 219,
     "metadata": {},
     "output_type": "execute_result"
    },
    {
     "data": {
      "image/png": "[encoded data removed]",
      "text/plain": [
       "<Figure size 432x288 with 1 Axes>"
      ]
     },
     "metadata": {
      "needs_background": "light"
     },
     "output_type": "display_data"
    }
   ],
   "source": [
    "pd.crosstab(new_customers.online_security, new_customers.churn, normalize=\"index\").plot.bar()"
   ]
  },
  {
   "cell_type": "markdown",
   "id": "446664d3",
   "metadata": {},
   "source": [
    "Takeaway: Online security churn rate in the first 90 days is similar to overall online security churn rate. No further investigation is required."
   ]
  },
  {
   "cell_type": "code",
   "execution_count": 31,
   "id": "f5343b96",
   "metadata": {},
   "outputs": [
    {
     "data": {
      "text/plain": [
       "<AxesSubplot:xlabel='tech_support'>"
      ]
     },
     "execution_count": 31,
     "metadata": {},
     "output_type": "execute_result"
    },
    {
     "data": {
      "image/png": "[encoded data removed]",
      "text/plain": [
       "<Figure size 432x288 with 1 Axes>"
      ]
     },
     "metadata": {
      "needs_background": "light"
     },
     "output_type": "display_data"
    }
   ],
   "source": [
    "pd.crosstab(new_customers.tech_support, new_customers.churn, normalize=\"index\").plot.bar()"
   ]
  },
  {
   "cell_type": "markdown",
   "id": "110ef896",
   "metadata": {},
   "source": [
    "Takeaway: Customers without tech support churn at a higher rate than those with tech support; customers without tech support in the first ninety days churn at a rate nearly twice that of those with tech support. Further investigation is required"
   ]
  },
  {
   "cell_type": "markdown",
   "id": "27239ba6",
   "metadata": {},
   "source": [
    "### What can be learned about customers who churned after 90 days?"
   ]
  },
  {
   "cell_type": "code",
   "execution_count": 33,
   "id": "b45debc0",
   "metadata": {},
   "outputs": [
    {
     "data": {
      "text/plain": [
       "<AxesSubplot:xlabel='senior_citizen'>"
      ]
     },
     "execution_count": 33,
     "metadata": {},
     "output_type": "execute_result"
    },
    {
     "data": {
      "image/png": "[encoded data removed]",
      "text/plain": [
       "<Figure size 432x288 with 1 Axes>"
      ]
     },
     "metadata": {
      "needs_background": "light"
     },
     "output_type": "display_data"
    }
   ],
   "source": [
    "pd.crosstab(old_customers.senior_citizen, old_customers.churn, normalize=\"index\").plot.bar()"
   ]
  },
  {
   "cell_type": "markdown",
   "id": "e4589228",
   "metadata": {},
   "source": [
    "Takeaway: Senior citizens still churn at a higher rate than non senior citizens."
   ]
  },
  {
   "cell_type": "code",
   "execution_count": 36,
   "id": "40397f35",
   "metadata": {},
   "outputs": [
    {
     "data": {
      "text/plain": [
       "<AxesSubplot:xlabel='online_security'>"
      ]
     },
     "execution_count": 36,
     "metadata": {},
     "output_type": "execute_result"
    },
    {
     "data": {
      "image/png": "[encoded data removed]",
      "text/plain": [
       "<Figure size 432x288 with 1 Axes>"
      ]
     },
     "metadata": {
      "needs_background": "light"
     },
     "output_type": "display_data"
    }
   ],
   "source": [
    "pd.crosstab(old_customers.online_security, old_customers.churn, normalize=\"index\").plot.bar()"
   ]
  },
  {
   "cell_type": "markdown",
   "id": "b1acc711",
   "metadata": {},
   "source": [
    "Takeaway: Customers without online security churn at a higher rate than customers with online security. Further investigation required. "
   ]
  },
  {
   "cell_type": "code",
   "execution_count": 39,
   "id": "da59925d",
   "metadata": {},
   "outputs": [
    {
     "data": {
      "text/plain": [
       "<AxesSubplot:xlabel='tech_support'>"
      ]
     },
     "execution_count": 39,
     "metadata": {},
     "output_type": "execute_result"
    },
    {
     "data": {
      "image/png": "[encoded data removed]",
      "text/plain": [
       "<Figure size 432x288 with 1 Axes>"
      ]
     },
     "metadata": {
      "needs_background": "light"
     },
     "output_type": "display_data"
    }
   ],
   "source": [
    "pd.crosstab(old_customers.tech_support, old_customers.churn, normalize=\"index\").plot.bar()"
   ]
  },
  {
   "cell_type": "markdown",
   "id": "b7d43978",
   "metadata": {},
   "source": [
    "Takeaway: Customers without tech support churn at a higher rate than customers with tech support. Further investigation required.\n"
   ]
  },
  {
   "cell_type": "markdown",
   "id": "4fd62747",
   "metadata": {},
   "source": [
    "# Statistical Analysis"
   ]
  },
  {
   "cell_type": "markdown",
   "id": "10ee331a",
   "metadata": {},
   "source": [
    "### Statistical Analysis will only be performed on features that appear to have a significant relationship with churn: \n",
    "- Senior Citizen \n",
    "- Online Security \n",
    "- Tech Support \n",
    "- Online Backup \n",
    "- Device Protection\n",
    "\n"
   ]
  },
  {
   "cell_type": "markdown",
   "id": "9c61995b",
   "metadata": {},
   "source": [
    "### Chi Square test for overall train set"
   ]
  },
  {
   "cell_type": "code",
   "execution_count": 41,
   "id": "80109682",
   "metadata": {},
   "outputs": [],
   "source": [
    "alpha = 0.05"
   ]
  },
  {
   "cell_type": "markdown",
   "id": "a1de8a45",
   "metadata": {},
   "source": [
    "### Senior Citizen"
   ]
  },
  {
   "cell_type": "markdown",
   "id": "8a38370f",
   "metadata": {},
   "source": [
    "Initial Hypothesis: \n",
    "- H_0: Rate of churn is independent of being a senior citizen. \n",
    "- H_a: Rate of churn is not independent of being a senior citizen. "
   ]
  },
  {
   "cell_type": "code",
   "execution_count": 42,
   "id": "dba32f6d",
   "metadata": {},
   "outputs": [
    {
     "data": {
      "text/html": [
       "<div>\n",
       "<style scoped>\n",
       "    .dataframe tbody tr th:only-of-type {\n",
       "        vertical-align: middle;\n",
       "    }\n",
       "\n",
       "    .dataframe tbody tr th {\n",
       "        vertical-align: top;\n",
       "    }\n",
       "\n",
       "    .dataframe thead th {\n",
       "        text-align: right;\n",
       "    }\n",
       "</style>\n",
       "<table border=\"1\" class=\"dataframe\">\n",
       "  <thead>\n",
       "    <tr style=\"text-align: right;\">\n",
       "      <th>churn</th>\n",
       "      <th>No</th>\n",
       "      <th>Yes</th>\n",
       "    </tr>\n",
       "    <tr>\n",
       "      <th>senior_citizen</th>\n",
       "      <th></th>\n",
       "      <th></th>\n",
       "    </tr>\n",
       "  </thead>\n",
       "  <tbody>\n",
       "    <tr>\n",
       "      <th>0</th>\n",
       "      <td>2527</td>\n",
       "      <td>775</td>\n",
       "    </tr>\n",
       "    <tr>\n",
       "      <th>1</th>\n",
       "      <td>364</td>\n",
       "      <td>271</td>\n",
       "    </tr>\n",
       "  </tbody>\n",
       "</table>\n",
       "</div>"
      ],
      "text/plain": [
       "churn             No  Yes\n",
       "senior_citizen           \n",
       "0               2527  775\n",
       "1                364  271"
      ]
     },
     "execution_count": 42,
     "metadata": {},
     "output_type": "execute_result"
    }
   ],
   "source": [
    "senior_citizen_customer = pd.crosstab(train.senior_citizen, train.churn)\n",
    "senior_citizen_customer"
   ]
  },
  {
   "cell_type": "code",
   "execution_count": 43,
   "id": "37beb561",
   "metadata": {},
   "outputs": [
    {
     "name": "stdout",
     "output_type": "stream",
     "text": [
      "[[2424.70967742  877.29032258]\n",
      " [ 466.29032258  168.70967742]]\n",
      "p-val: 1.7561315684822695e-23\n"
     ]
    }
   ],
   "source": [
    "chi2, senior, degf, expected_senior = stats.chi2_contingency(senior_citizen_customer)\n",
    "print(expected_senior)\n",
    "print(f\"p-val: {senior}\")"
   ]
  },
  {
   "cell_type": "code",
   "execution_count": 44,
   "id": "f042fead",
   "metadata": {},
   "outputs": [
    {
     "name": "stdout",
     "output_type": "stream",
     "text": [
      "We reject the null hypothesis.\n"
     ]
    }
   ],
   "source": [
    "if senior < alpha:\n",
    "    print(\"We reject the null hypothesis.\")\n",
    "else:\n",
    "    print(\"We fail to reject the null hypothesis.\")"
   ]
  },
  {
   "cell_type": "markdown",
   "id": "a16df8f5",
   "metadata": {},
   "source": [
    "### Online Security"
   ]
  },
  {
   "cell_type": "markdown",
   "id": "8e9ffbec",
   "metadata": {},
   "source": [
    "Initial Hypothesis: \n",
    "- H_0: Rate of churn is independent of having online security. \n",
    "- H_a: Rate of churn is not independent of having online security. "
   ]
  },
  {
   "cell_type": "code",
   "execution_count": 45,
   "id": "ef8f7987",
   "metadata": {},
   "outputs": [
    {
     "data": {
      "text/html": [
       "<div>\n",
       "<style scoped>\n",
       "    .dataframe tbody tr th:only-of-type {\n",
       "        vertical-align: middle;\n",
       "    }\n",
       "\n",
       "    .dataframe tbody tr th {\n",
       "        vertical-align: top;\n",
       "    }\n",
       "\n",
       "    .dataframe thead th {\n",
       "        text-align: right;\n",
       "    }\n",
       "</style>\n",
       "<table border=\"1\" class=\"dataframe\">\n",
       "  <thead>\n",
       "    <tr style=\"text-align: right;\">\n",
       "      <th>churn</th>\n",
       "      <th>No</th>\n",
       "      <th>Yes</th>\n",
       "    </tr>\n",
       "    <tr>\n",
       "      <th>online_security</th>\n",
       "      <th></th>\n",
       "      <th></th>\n",
       "    </tr>\n",
       "  </thead>\n",
       "  <tbody>\n",
       "    <tr>\n",
       "      <th>No</th>\n",
       "      <td>1099</td>\n",
       "      <td>819</td>\n",
       "    </tr>\n",
       "    <tr>\n",
       "      <th>No internet service</th>\n",
       "      <td>803</td>\n",
       "      <td>64</td>\n",
       "    </tr>\n",
       "    <tr>\n",
       "      <th>Yes</th>\n",
       "      <td>989</td>\n",
       "      <td>163</td>\n",
       "    </tr>\n",
       "  </tbody>\n",
       "</table>\n",
       "</div>"
      ],
      "text/plain": [
       "churn                  No  Yes\n",
       "online_security               \n",
       "No                   1099  819\n",
       "No internet service   803   64\n",
       "Yes                   989  163"
      ]
     },
     "execution_count": 45,
     "metadata": {},
     "output_type": "execute_result"
    }
   ],
   "source": [
    "online_security_customer = pd.crosstab(train.online_security, train.churn)\n",
    "online_security_customer"
   ]
  },
  {
   "cell_type": "code",
   "execution_count": 46,
   "id": "99396204",
   "metadata": {},
   "outputs": [
    {
     "name": "stdout",
     "output_type": "stream",
     "text": [
      "[[1408.41706883  509.58293117]\n",
      " [ 636.6515113   230.3484887 ]\n",
      " [ 845.93141986  306.06858014]]\n",
      "p-val: 1.3862996282206897e-111\n"
     ]
    }
   ],
   "source": [
    "chi2, online_security, degf, expected_online_security = stats.chi2_contingency(online_security_customer)\n",
    "print(expected_online_security)\n",
    "print(f\"p-val: {online_security}\")"
   ]
  },
  {
   "cell_type": "code",
   "execution_count": 47,
   "id": "93fc6517",
   "metadata": {},
   "outputs": [
    {
     "name": "stdout",
     "output_type": "stream",
     "text": [
      "We reject the null hypothesis.\n"
     ]
    }
   ],
   "source": [
    "if online_security < alpha:\n",
    "    print(\"We reject the null hypothesis.\")\n",
    "else:\n",
    "    print(\"We fail to reject the null hypothesis.\")"
   ]
  },
  {
   "cell_type": "markdown",
   "id": "8f959bec",
   "metadata": {},
   "source": [
    "### Tech Support"
   ]
  },
  {
   "cell_type": "markdown",
   "id": "32d48c0a",
   "metadata": {},
   "source": [
    "Initial Hypothesis: \n",
    "- H_0: Rate of churn is independent of having tech support. \n",
    "- H_a: Rate of churn is not independent of having tech support. "
   ]
  },
  {
   "cell_type": "code",
   "execution_count": 48,
   "id": "004f9c18",
   "metadata": {},
   "outputs": [
    {
     "data": {
      "text/html": [
       "<div>\n",
       "<style scoped>\n",
       "    .dataframe tbody tr th:only-of-type {\n",
       "        vertical-align: middle;\n",
       "    }\n",
       "\n",
       "    .dataframe tbody tr th {\n",
       "        vertical-align: top;\n",
       "    }\n",
       "\n",
       "    .dataframe thead th {\n",
       "        text-align: right;\n",
       "    }\n",
       "</style>\n",
       "<table border=\"1\" class=\"dataframe\">\n",
       "  <thead>\n",
       "    <tr style=\"text-align: right;\">\n",
       "      <th>churn</th>\n",
       "      <th>No</th>\n",
       "      <th>Yes</th>\n",
       "    </tr>\n",
       "    <tr>\n",
       "      <th>tech_support</th>\n",
       "      <th></th>\n",
       "      <th></th>\n",
       "    </tr>\n",
       "  </thead>\n",
       "  <tbody>\n",
       "    <tr>\n",
       "      <th>No</th>\n",
       "      <td>1126</td>\n",
       "      <td>805</td>\n",
       "    </tr>\n",
       "    <tr>\n",
       "      <th>No internet service</th>\n",
       "      <td>803</td>\n",
       "      <td>64</td>\n",
       "    </tr>\n",
       "    <tr>\n",
       "      <th>Yes</th>\n",
       "      <td>962</td>\n",
       "      <td>177</td>\n",
       "    </tr>\n",
       "  </tbody>\n",
       "</table>\n",
       "</div>"
      ],
      "text/plain": [
       "churn                  No  Yes\n",
       "tech_support                  \n",
       "No                   1126  805\n",
       "No internet service   803   64\n",
       "Yes                   962  177"
      ]
     },
     "execution_count": 48,
     "metadata": {},
     "output_type": "execute_result"
    }
   ],
   "source": [
    "tech_support_customer = pd.crosstab(train.tech_support, train.churn)\n",
    "tech_support_customer "
   ]
  },
  {
   "cell_type": "code",
   "execution_count": 49,
   "id": "176249bd",
   "metadata": {},
   "outputs": [
    {
     "name": "stdout",
     "output_type": "stream",
     "text": [
      "[[1417.96316993  513.03683007]\n",
      " [ 636.6515113   230.3484887 ]\n",
      " [ 836.38531877  302.61468123]]\n",
      "p-val: 8.373959266633126e-101\n"
     ]
    }
   ],
   "source": [
    "chi2, tech_support, degf, expected_tech_support = stats.chi2_contingency(tech_support_customer)\n",
    "print(expected_tech_support)\n",
    "print(f\"p-val: {tech_support}\")"
   ]
  },
  {
   "cell_type": "code",
   "execution_count": 50,
   "id": "d603c83a",
   "metadata": {},
   "outputs": [
    {
     "name": "stdout",
     "output_type": "stream",
     "text": [
      "We reject the null hypothesis.\n"
     ]
    }
   ],
   "source": [
    "if tech_support < alpha:\n",
    "    print(\"We reject the null hypothesis.\")\n",
    "else:\n",
    "    print(\"We fail to reject the null hypothesis.\")"
   ]
  },
  {
   "cell_type": "markdown",
   "id": "4fd39b37",
   "metadata": {},
   "source": [
    "### Online Backup "
   ]
  },
  {
   "cell_type": "markdown",
   "id": "f83b4371",
   "metadata": {},
   "source": [
    "Initial Hypothesis: \n",
    "- H_0: Rate of churn is independent of having online backup. \n",
    "- H_a: Rate of churn is not independent of having online backup. "
   ]
  },
  {
   "cell_type": "code",
   "execution_count": 51,
   "id": "5998e799",
   "metadata": {},
   "outputs": [
    {
     "data": {
      "text/html": [
       "<div>\n",
       "<style scoped>\n",
       "    .dataframe tbody tr th:only-of-type {\n",
       "        vertical-align: middle;\n",
       "    }\n",
       "\n",
       "    .dataframe tbody tr th {\n",
       "        vertical-align: top;\n",
       "    }\n",
       "\n",
       "    .dataframe thead th {\n",
       "        text-align: right;\n",
       "    }\n",
       "</style>\n",
       "<table border=\"1\" class=\"dataframe\">\n",
       "  <thead>\n",
       "    <tr style=\"text-align: right;\">\n",
       "      <th>churn</th>\n",
       "      <th>No</th>\n",
       "      <th>Yes</th>\n",
       "    </tr>\n",
       "    <tr>\n",
       "      <th>online_backup</th>\n",
       "      <th></th>\n",
       "      <th></th>\n",
       "    </tr>\n",
       "  </thead>\n",
       "  <tbody>\n",
       "    <tr>\n",
       "      <th>No</th>\n",
       "      <td>1023</td>\n",
       "      <td>674</td>\n",
       "    </tr>\n",
       "    <tr>\n",
       "      <th>No internet service</th>\n",
       "      <td>803</td>\n",
       "      <td>64</td>\n",
       "    </tr>\n",
       "    <tr>\n",
       "      <th>Yes</th>\n",
       "      <td>1065</td>\n",
       "      <td>308</td>\n",
       "    </tr>\n",
       "  </tbody>\n",
       "</table>\n",
       "</div>"
      ],
      "text/plain": [
       "churn                  No  Yes\n",
       "online_backup                 \n",
       "No                   1023  674\n",
       "No internet service   803   64\n",
       "Yes                  1065  308"
      ]
     },
     "execution_count": 51,
     "metadata": {},
     "output_type": "execute_result"
    }
   ],
   "source": [
    "online_backup_customer = pd.crosstab(train.online_backup, train.churn)\n",
    "online_backup_customer "
   ]
  },
  {
   "cell_type": "code",
   "execution_count": 52,
   "id": "2c16aee7",
   "metadata": {},
   "outputs": [
    {
     "name": "stdout",
     "output_type": "stream",
     "text": [
      "[[1246.13335027  450.86664973]\n",
      " [ 636.6515113   230.3484887 ]\n",
      " [1008.21513843  364.78486157]]\n",
      "p-val: 1.6093415124241013e-71\n"
     ]
    }
   ],
   "source": [
    "chi2, online_backup, degf, expected_online_backup = stats.chi2_contingency(online_backup_customer)\n",
    "print(expected_online_backup)\n",
    "print(f\"p-val: {online_backup}\")"
   ]
  },
  {
   "cell_type": "code",
   "execution_count": 53,
   "id": "c48f7d6b",
   "metadata": {},
   "outputs": [
    {
     "name": "stdout",
     "output_type": "stream",
     "text": [
      "We reject the null hypothesis.\n"
     ]
    }
   ],
   "source": [
    "if online_backup < alpha:\n",
    "    print(\"We reject the null hypothesis.\")\n",
    "else:\n",
    "    print(\"We fail to reject the null hypothesis.\")"
   ]
  },
  {
   "cell_type": "markdown",
   "id": "d7edb3fc",
   "metadata": {},
   "source": [
    "### Device Protection"
   ]
  },
  {
   "cell_type": "markdown",
   "id": "a93c8b2f",
   "metadata": {},
   "source": [
    "Initial Hypothesis: \n",
    "- H_0: Rate of churn is independent of having device protection. \n",
    "- H_a: Rate of churn is not independent of having device protection. "
   ]
  },
  {
   "cell_type": "code",
   "execution_count": 54,
   "id": "f34082c7",
   "metadata": {},
   "outputs": [
    {
     "data": {
      "text/html": [
       "<div>\n",
       "<style scoped>\n",
       "    .dataframe tbody tr th:only-of-type {\n",
       "        vertical-align: middle;\n",
       "    }\n",
       "\n",
       "    .dataframe tbody tr th {\n",
       "        vertical-align: top;\n",
       "    }\n",
       "\n",
       "    .dataframe thead th {\n",
       "        text-align: right;\n",
       "    }\n",
       "</style>\n",
       "<table border=\"1\" class=\"dataframe\">\n",
       "  <thead>\n",
       "    <tr style=\"text-align: right;\">\n",
       "      <th>churn</th>\n",
       "      <th>No</th>\n",
       "      <th>Yes</th>\n",
       "    </tr>\n",
       "    <tr>\n",
       "      <th>device_protection</th>\n",
       "      <th></th>\n",
       "      <th></th>\n",
       "    </tr>\n",
       "  </thead>\n",
       "  <tbody>\n",
       "    <tr>\n",
       "      <th>No</th>\n",
       "      <td>1027</td>\n",
       "      <td>666</td>\n",
       "    </tr>\n",
       "    <tr>\n",
       "      <th>No internet service</th>\n",
       "      <td>803</td>\n",
       "      <td>64</td>\n",
       "    </tr>\n",
       "    <tr>\n",
       "      <th>Yes</th>\n",
       "      <td>1061</td>\n",
       "      <td>316</td>\n",
       "    </tr>\n",
       "  </tbody>\n",
       "</table>\n",
       "</div>"
      ],
      "text/plain": [
       "churn                  No  Yes\n",
       "device_protection             \n",
       "No                   1027  666\n",
       "No internet service   803   64\n",
       "Yes                  1061  316"
      ]
     },
     "execution_count": 54,
     "metadata": {},
     "output_type": "execute_result"
    }
   ],
   "source": [
    "device_protected_customer = pd.crosstab(train.device_protection, train.churn)\n",
    "device_protected_customer"
   ]
  },
  {
   "cell_type": "code",
   "execution_count": 55,
   "id": "aa3b441f",
   "metadata": {},
   "outputs": [
    {
     "name": "stdout",
     "output_type": "stream",
     "text": [
      "[[1243.19608839  449.80391161]\n",
      " [ 636.6515113   230.3484887 ]\n",
      " [1011.1524003   365.8475997 ]]\n",
      "p-val: 5.47884290275652e-69\n"
     ]
    }
   ],
   "source": [
    "chi2, device_protection, degf, expected_device_protection = stats.chi2_contingency(device_protected_customer)\n",
    "print(expected_device_protection)\n",
    "print(f\"p-val: {device_protection}\")"
   ]
  },
  {
   "cell_type": "code",
   "execution_count": 56,
   "id": "10fc3660",
   "metadata": {},
   "outputs": [
    {
     "name": "stdout",
     "output_type": "stream",
     "text": [
      "We reject the null hypothesis.\n"
     ]
    }
   ],
   "source": [
    "if device_protection < alpha:\n",
    "    print(\"We reject the null hypothesis.\")\n",
    "else:\n",
    "    print(\"We fail to reject the null hypothesis.\")"
   ]
  },
  {
   "cell_type": "markdown",
   "id": "54ccc18f",
   "metadata": {},
   "source": [
    "### Tech Support New Customer "
   ]
  },
  {
   "cell_type": "markdown",
   "id": "6e4a240d",
   "metadata": {},
   "source": [
    "Initial Hypothesis: \n",
    "- H_0: Rate of churn for new customers is independent of having tech support. \n",
    "- H_a: Rate of churn for new customers is not independent of having tech support. "
   ]
  },
  {
   "cell_type": "code",
   "execution_count": 221,
   "id": "e6254a50",
   "metadata": {},
   "outputs": [
    {
     "data": {
      "text/html": [
       "<div>\n",
       "<style scoped>\n",
       "    .dataframe tbody tr th:only-of-type {\n",
       "        vertical-align: middle;\n",
       "    }\n",
       "\n",
       "    .dataframe tbody tr th {\n",
       "        vertical-align: top;\n",
       "    }\n",
       "\n",
       "    .dataframe thead th {\n",
       "        text-align: right;\n",
       "    }\n",
       "</style>\n",
       "<table border=\"1\" class=\"dataframe\">\n",
       "  <thead>\n",
       "    <tr style=\"text-align: right;\">\n",
       "      <th>churn</th>\n",
       "      <th>No</th>\n",
       "      <th>Yes</th>\n",
       "    </tr>\n",
       "    <tr>\n",
       "      <th>tech_support</th>\n",
       "      <th></th>\n",
       "      <th></th>\n",
       "    </tr>\n",
       "  </thead>\n",
       "  <tbody>\n",
       "    <tr>\n",
       "      <th>No</th>\n",
       "      <td>116</td>\n",
       "      <td>269</td>\n",
       "    </tr>\n",
       "    <tr>\n",
       "      <th>No internet service</th>\n",
       "      <td>97</td>\n",
       "      <td>44</td>\n",
       "    </tr>\n",
       "    <tr>\n",
       "      <th>Yes</th>\n",
       "      <td>32</td>\n",
       "      <td>20</td>\n",
       "    </tr>\n",
       "  </tbody>\n",
       "</table>\n",
       "</div>"
      ],
      "text/plain": [
       "churn                 No  Yes\n",
       "tech_support                 \n",
       "No                   116  269\n",
       "No internet service   97   44\n",
       "Yes                   32   20"
      ]
     },
     "execution_count": 221,
     "metadata": {},
     "output_type": "execute_result"
    }
   ],
   "source": [
    "tech_support_customer = pd.crosstab(new_customers.tech_support, new_customers.churn)\n",
    "tech_support_customer "
   ]
  },
  {
   "cell_type": "code",
   "execution_count": 222,
   "id": "5cf040de",
   "metadata": {},
   "outputs": [
    {
     "name": "stdout",
     "output_type": "stream",
     "text": [
      "[[163.19204152 221.80795848]\n",
      " [ 59.76643599  81.23356401]\n",
      " [ 22.04152249  29.95847751]]\n",
      "p-val: 2.6162287495568325e-16\n"
     ]
    }
   ],
   "source": [
    "chi2, tech_support, degf, expected_tech_support = stats.chi2_contingency(tech_support_customer)\n",
    "print(expected_tech_support)\n",
    "print(f\"p-val: {tech_support}\")"
   ]
  },
  {
   "cell_type": "code",
   "execution_count": 223,
   "id": "f78e2720",
   "metadata": {},
   "outputs": [
    {
     "name": "stdout",
     "output_type": "stream",
     "text": [
      "We reject the null hypothesis.\n"
     ]
    }
   ],
   "source": [
    "if tech_support < alpha:\n",
    "    print(\"We reject the null hypothesis.\")\n",
    "else:\n",
    "    print(\"We fail to reject the null hypothesis.\")"
   ]
  },
  {
   "cell_type": "markdown",
   "id": "de111cfa",
   "metadata": {},
   "source": [
    "### Senior Citizen New Customer"
   ]
  },
  {
   "cell_type": "markdown",
   "id": "9797c950",
   "metadata": {},
   "source": [
    "Initial Hypothesis: \n",
    "- H_0: Rate of churn for new customers is independent of being a senior citizen. \n",
    "- H_a: Rate of churn for new customers is not independent of being a senior citizen. "
   ]
  },
  {
   "cell_type": "code",
   "execution_count": 224,
   "id": "a6b1c733",
   "metadata": {},
   "outputs": [
    {
     "data": {
      "text/html": [
       "<div>\n",
       "<style scoped>\n",
       "    .dataframe tbody tr th:only-of-type {\n",
       "        vertical-align: middle;\n",
       "    }\n",
       "\n",
       "    .dataframe tbody tr th {\n",
       "        vertical-align: top;\n",
       "    }\n",
       "\n",
       "    .dataframe thead th {\n",
       "        text-align: right;\n",
       "    }\n",
       "</style>\n",
       "<table border=\"1\" class=\"dataframe\">\n",
       "  <thead>\n",
       "    <tr style=\"text-align: right;\">\n",
       "      <th>churn</th>\n",
       "      <th>No</th>\n",
       "      <th>Yes</th>\n",
       "    </tr>\n",
       "    <tr>\n",
       "      <th>senior_citizen</th>\n",
       "      <th></th>\n",
       "      <th></th>\n",
       "    </tr>\n",
       "  </thead>\n",
       "  <tbody>\n",
       "    <tr>\n",
       "      <th>0</th>\n",
       "      <td>232</td>\n",
       "      <td>266</td>\n",
       "    </tr>\n",
       "    <tr>\n",
       "      <th>1</th>\n",
       "      <td>13</td>\n",
       "      <td>67</td>\n",
       "    </tr>\n",
       "  </tbody>\n",
       "</table>\n",
       "</div>"
      ],
      "text/plain": [
       "churn            No  Yes\n",
       "senior_citizen          \n",
       "0               232  266\n",
       "1                13   67"
      ]
     },
     "execution_count": 224,
     "metadata": {},
     "output_type": "execute_result"
    }
   ],
   "source": [
    "senior_citizen_customer = pd.crosstab(new_customers.senior_citizen, new_customers.churn)\n",
    "senior_citizen_customer"
   ]
  },
  {
   "cell_type": "code",
   "execution_count": 225,
   "id": "a57560b6",
   "metadata": {},
   "outputs": [
    {
     "name": "stdout",
     "output_type": "stream",
     "text": [
      "[[211.0899654 286.9100346]\n",
      " [ 33.9100346  46.0899654]]\n",
      "p-val: 6.533416300990865e-07\n"
     ]
    }
   ],
   "source": [
    "chi2, senior, degf, expected_senior = stats.chi2_contingency(senior_citizen_customer)\n",
    "print(expected_senior)\n",
    "print(f\"p-val: {senior}\")"
   ]
  },
  {
   "cell_type": "code",
   "execution_count": 226,
   "id": "aa2cbaaa",
   "metadata": {},
   "outputs": [
    {
     "name": "stdout",
     "output_type": "stream",
     "text": [
      "We reject the null hypothesis.\n"
     ]
    }
   ],
   "source": [
    "if senior < alpha:\n",
    "    print(\"We reject the null hypothesis.\")\n",
    "else:\n",
    "    print(\"We fail to reject the null hypothesis.\")"
   ]
  },
  {
   "cell_type": "markdown",
   "id": "3f31ff2a",
   "metadata": {},
   "source": [
    "Takeaways: "
   ]
  },
  {
   "cell_type": "markdown",
   "id": "9a0e69cf",
   "metadata": {},
   "source": [
    "# Modeling\n"
   ]
  },
  {
   "cell_type": "markdown",
   "id": "01b47e9d",
   "metadata": {},
   "source": [
    "Baseline Model"
   ]
  },
  {
   "cell_type": "markdown",
   "id": "c4482446",
   "metadata": {},
   "source": [
    "Because approximately 27% of customers churn, the baseline model is 1-0.27 = 0.73"
   ]
  },
  {
   "cell_type": "markdown",
   "id": "9d45ca87",
   "metadata": {},
   "source": [
    "# Decision Trees "
   ]
  },
  {
   "cell_type": "markdown",
   "id": "56d83727",
   "metadata": {},
   "source": [
    "### Under 90 day customer"
   ]
  },
  {
   "cell_type": "code",
   "execution_count": 100,
   "id": "2dcbd238",
   "metadata": {},
   "outputs": [],
   "source": [
    "from sklearn.tree import DecisionTreeClassifier, plot_tree"
   ]
  },
  {
   "cell_type": "code",
   "execution_count": 101,
   "id": "cffe3fcd",
   "metadata": {},
   "outputs": [],
   "source": [
    "clf = DecisionTreeClassifier(max_depth=6, random_state=123)"
   ]
  },
  {
   "cell_type": "code",
   "execution_count": 102,
   "id": "92fdba0d",
   "metadata": {},
   "outputs": [],
   "source": [
    "\n",
    "X_train_new = X_train_new.drop(columns=['tenure_bin'])\n"
   ]
  },
  {
   "cell_type": "code",
   "execution_count": 103,
   "id": "c5f2f061",
   "metadata": {},
   "outputs": [],
   "source": [
    "y_train_new = y_train_new.drop(columns=['tenure_bin'])\n"
   ]
  },
  {
   "cell_type": "code",
   "execution_count": 105,
   "id": "b75a5532",
   "metadata": {},
   "outputs": [],
   "source": [
    "clf = clf.fit(X_train_new, y_train_new)"
   ]
  },
  {
   "cell_type": "code",
   "execution_count": 107,
   "id": "1495df7c",
   "metadata": {},
   "outputs": [
    {
     "data": {
      "text/plain": [
       "array([0, 0, 1, 0, 0])"
      ]
     },
     "execution_count": 107,
     "metadata": {},
     "output_type": "execute_result"
    }
   ],
   "source": [
    "y_pred = clf.predict(X_train_new)\n",
    "y_pred[0:5]"
   ]
  },
  {
   "cell_type": "code",
   "execution_count": 108,
   "id": "e5fd0412",
   "metadata": {},
   "outputs": [
    {
     "data": {
      "text/plain": [
       "array([[0.7       , 0.3       ],\n",
       "       [1.        , 0.        ],\n",
       "       [0.11111111, 0.88888889],\n",
       "       [0.5       , 0.5       ],\n",
       "       [0.62      , 0.38      ]])"
      ]
     },
     "execution_count": 108,
     "metadata": {},
     "output_type": "execute_result"
    }
   ],
   "source": [
    "y_pred_proba = clf.predict_proba(X_train_new)\n",
    "y_pred_proba[0:5]"
   ]
  },
  {
   "cell_type": "code",
   "execution_count": 109,
   "id": "bf84fcc5",
   "metadata": {},
   "outputs": [
    {
     "name": "stdout",
     "output_type": "stream",
     "text": [
      "              precision    recall  f1-score   support\n",
      "\n",
      "           0       0.76      0.75      0.75       254\n",
      "           1       0.81      0.82      0.82       334\n",
      "\n",
      "    accuracy                           0.79       588\n",
      "   macro avg       0.79      0.78      0.78       588\n",
      "weighted avg       0.79      0.79      0.79       588\n",
      "\n"
     ]
    }
   ],
   "source": [
    "print(classification_report(y_train_new, y_pred))"
   ]
  },
  {
   "cell_type": "code",
   "execution_count": 111,
   "id": "548de2ac",
   "metadata": {},
   "outputs": [],
   "source": [
    "X_validate_new = X_validate_new.drop(columns=['tenure_bin'])"
   ]
  },
  {
   "cell_type": "code",
   "execution_count": 112,
   "id": "57a772b3",
   "metadata": {},
   "outputs": [],
   "source": [
    "y_validate_new = y_validate_new.drop(columns=['tenure_bin'])"
   ]
  },
  {
   "cell_type": "code",
   "execution_count": 113,
   "id": "6b8635b0",
   "metadata": {},
   "outputs": [
    {
     "name": "stdout",
     "output_type": "stream",
     "text": [
      "Accuracy of random forest classifier on test set: 0.58\n"
     ]
    }
   ],
   "source": [
    "print('Accuracy of random forest classifier on test set: {:.2f}'\n",
    "     .format(clf.score(X_validate_new, y_validate_new)))"
   ]
  },
  {
   "cell_type": "markdown",
   "id": "fe3c7a87",
   "metadata": {},
   "source": [
    "### Over 90 day customer"
   ]
  },
  {
   "cell_type": "code",
   "execution_count": 114,
   "id": "9e438046",
   "metadata": {},
   "outputs": [],
   "source": [
    "dlf = DecisionTreeClassifier(max_depth=8, random_state=123)"
   ]
  },
  {
   "cell_type": "code",
   "execution_count": 115,
   "id": "0ba292fb",
   "metadata": {},
   "outputs": [],
   "source": [
    "X_train_old = X_train_old.drop(columns=['tenure_bin'])"
   ]
  },
  {
   "cell_type": "code",
   "execution_count": 116,
   "id": "d6bded32",
   "metadata": {},
   "outputs": [],
   "source": [
    "y_train_old = y_train_old.drop(columns=['tenure_bin'])"
   ]
  },
  {
   "cell_type": "code",
   "execution_count": 117,
   "id": "7423edee",
   "metadata": {},
   "outputs": [],
   "source": [
    "dlf = dlf.fit(X_train_old, y_train_old)"
   ]
  },
  {
   "cell_type": "code",
   "execution_count": 119,
   "id": "0eae1106",
   "metadata": {},
   "outputs": [
    {
     "data": {
      "text/plain": [
       "array([0, 0, 0, 1, 0])"
      ]
     },
     "execution_count": 119,
     "metadata": {},
     "output_type": "execute_result"
    }
   ],
   "source": [
    "y_pred = dlf.predict(X_train_old)\n",
    "y_pred[0:5]"
   ]
  },
  {
   "cell_type": "code",
   "execution_count": 120,
   "id": "39784aec",
   "metadata": {},
   "outputs": [
    {
     "data": {
      "text/plain": [
       "array([[0.57142857, 0.42857143],\n",
       "       [1.        , 0.        ],\n",
       "       [1.        , 0.        ],\n",
       "       [0.45833333, 0.54166667],\n",
       "       [0.90545455, 0.09454545]])"
      ]
     },
     "execution_count": 120,
     "metadata": {},
     "output_type": "execute_result"
    }
   ],
   "source": [
    "y_pred_proba = dlf.predict_proba(X_train_old)\n",
    "y_pred_proba[0:5]"
   ]
  },
  {
   "cell_type": "code",
   "execution_count": 121,
   "id": "1297e808",
   "metadata": {},
   "outputs": [
    {
     "name": "stdout",
     "output_type": "stream",
     "text": [
      "              precision    recall  f1-score   support\n",
      "\n",
      "           0       0.91      0.93      0.92      2636\n",
      "           1       0.71      0.65      0.68       712\n",
      "\n",
      "    accuracy                           0.87      3348\n",
      "   macro avg       0.81      0.79      0.80      3348\n",
      "weighted avg       0.87      0.87      0.87      3348\n",
      "\n"
     ]
    }
   ],
   "source": [
    "print(classification_report(y_train_old, y_pred))"
   ]
  },
  {
   "cell_type": "code",
   "execution_count": 123,
   "id": "acf25da4",
   "metadata": {},
   "outputs": [],
   "source": [
    "X_validate_old = X_validate_old.drop(columns=['tenure_bin'])"
   ]
  },
  {
   "cell_type": "code",
   "execution_count": 124,
   "id": "3233be25",
   "metadata": {},
   "outputs": [],
   "source": [
    "y_validate_old = y_validate_old.drop(columns=['tenure_bin'])"
   ]
  },
  {
   "cell_type": "code",
   "execution_count": 125,
   "id": "b95212b2",
   "metadata": {},
   "outputs": [
    {
     "name": "stdout",
     "output_type": "stream",
     "text": [
      "Accuracy of random forest classifier on test set: 0.79\n"
     ]
    }
   ],
   "source": [
    "print('Accuracy of random forest classifier on test set: {:.2f}'\n",
    "     .format(dlf.score(X_validate_old, y_validate_old)))"
   ]
  },
  {
   "cell_type": "markdown",
   "id": "6bd0e471",
   "metadata": {},
   "source": [
    "### Random Forest"
   ]
  },
  {
   "cell_type": "markdown",
   "id": "aab902fc",
   "metadata": {},
   "source": [
    "### Under 90 day customer"
   ]
  },
  {
   "cell_type": "code",
   "execution_count": 126,
   "id": "f9c8a296",
   "metadata": {},
   "outputs": [],
   "source": [
    "af = RandomForestClassifier(bootstrap=True, \n",
    "                            class_weight=None, \n",
    "                            criterion='gini',\n",
    "                            min_samples_leaf=3,\n",
    "                            n_estimators=100,\n",
    "                            max_depth=10, \n",
    "                            random_state=123)"
   ]
  },
  {
   "cell_type": "code",
   "execution_count": 127,
   "id": "7b1d9271",
   "metadata": {},
   "outputs": [
    {
     "data": {
      "text/plain": [
       "RandomForestClassifier(max_depth=10, min_samples_leaf=3, random_state=123)"
      ]
     },
     "execution_count": 127,
     "metadata": {},
     "output_type": "execute_result"
    }
   ],
   "source": [
    "af.fit(X_train_new, y_train_new)"
   ]
  },
  {
   "cell_type": "code",
   "execution_count": 129,
   "id": "b93733aa",
   "metadata": {},
   "outputs": [],
   "source": [
    "y_pred = af.predict(X_train_new)"
   ]
  },
  {
   "cell_type": "code",
   "execution_count": 130,
   "id": "7097e08b",
   "metadata": {},
   "outputs": [],
   "source": [
    "y_pred_proba = af.predict_proba(X_train_new)"
   ]
  },
  {
   "cell_type": "code",
   "execution_count": 131,
   "id": "15fbbfa2",
   "metadata": {},
   "outputs": [
    {
     "name": "stdout",
     "output_type": "stream",
     "text": [
      "Accuracy of random forest classifier on training set: 0.82\n"
     ]
    }
   ],
   "source": [
    "print('Accuracy of random forest classifier on training set: {:.2f}'\n",
    "     .format(af.score(X_train_new, y_train_new)))"
   ]
  },
  {
   "cell_type": "code",
   "execution_count": 133,
   "id": "0fd7c87f",
   "metadata": {},
   "outputs": [
    {
     "name": "stdout",
     "output_type": "stream",
     "text": [
      "              precision    recall  f1-score   support\n",
      "\n",
      "           0       0.83      0.75      0.79       254\n",
      "           1       0.82      0.88      0.85       334\n",
      "\n",
      "    accuracy                           0.82       588\n",
      "   macro avg       0.82      0.81      0.82       588\n",
      "weighted avg       0.82      0.82      0.82       588\n",
      "\n"
     ]
    }
   ],
   "source": [
    "print(classification_report(y_train_new, y_pred))"
   ]
  },
  {
   "cell_type": "code",
   "execution_count": 134,
   "id": "5a429ac8",
   "metadata": {},
   "outputs": [
    {
     "name": "stdout",
     "output_type": "stream",
     "text": [
      "Accuracy of random forest classifier on test set: 0.64\n"
     ]
    }
   ],
   "source": [
    "print('Accuracy of random forest classifier on test set: {:.2f}'\n",
    "     .format(af.score(X_validate_new, y_validate_new)))"
   ]
  },
  {
   "cell_type": "markdown",
   "id": "070a89d6",
   "metadata": {},
   "source": [
    "### New Customer Random Forest Precision: 0.95"
   ]
  },
  {
   "cell_type": "code",
   "execution_count": 135,
   "id": "c4e50d3a",
   "metadata": {},
   "outputs": [],
   "source": [
    "X_test_new = X_test_new.drop(columns=['tenure_bin'])"
   ]
  },
  {
   "cell_type": "code",
   "execution_count": 136,
   "id": "83072bf3",
   "metadata": {},
   "outputs": [],
   "source": [
    "y_test_new = y_test_new.drop(columns=['tenure_bin'])"
   ]
  },
  {
   "cell_type": "code",
   "execution_count": 137,
   "id": "7557bc3e",
   "metadata": {},
   "outputs": [
    {
     "name": "stdout",
     "output_type": "stream",
     "text": [
      "Accuracy of random forest classifier on test set: 0.72\n"
     ]
    }
   ],
   "source": [
    "print('Accuracy of random forest classifier on test set: {:.2f}'\n",
    "     .format(af.score(X_test_new, y_test_new)))"
   ]
  },
  {
   "cell_type": "markdown",
   "id": "a1b1ed3f",
   "metadata": {},
   "source": [
    "### Over 90 day customer"
   ]
  },
  {
   "cell_type": "code",
   "execution_count": 138,
   "id": "3e4b7df4",
   "metadata": {},
   "outputs": [],
   "source": [
    "gf = RandomForestClassifier(bootstrap=True, \n",
    "                            class_weight=None, \n",
    "                            criterion='gini',\n",
    "                            min_samples_leaf=1,\n",
    "                            n_estimators=100,\n",
    "                            max_depth=10, \n",
    "                            random_state=123)"
   ]
  },
  {
   "cell_type": "code",
   "execution_count": 139,
   "id": "b8f4fc29",
   "metadata": {},
   "outputs": [
    {
     "data": {
      "text/plain": [
       "RandomForestClassifier(max_depth=10, random_state=123)"
      ]
     },
     "execution_count": 139,
     "metadata": {},
     "output_type": "execute_result"
    }
   ],
   "source": [
    "gf.fit(X_train_old, y_train_old)"
   ]
  },
  {
   "cell_type": "code",
   "execution_count": 141,
   "id": "c9c3ae35",
   "metadata": {},
   "outputs": [],
   "source": [
    "y_pred = gf.predict(X_train_old)"
   ]
  },
  {
   "cell_type": "code",
   "execution_count": 142,
   "id": "1099a70d",
   "metadata": {},
   "outputs": [],
   "source": [
    "y_pred_proba = gf.predict_proba(X_train_old)"
   ]
  },
  {
   "cell_type": "code",
   "execution_count": 143,
   "id": "683c552a",
   "metadata": {},
   "outputs": [
    {
     "name": "stdout",
     "output_type": "stream",
     "text": [
      "Accuracy of random forest classifier on training set: 0.90\n"
     ]
    }
   ],
   "source": [
    "print('Accuracy of random forest classifier on training set: {:.2f}'\n",
    "     .format(gf.score(X_train_old, y_train_old)))"
   ]
  },
  {
   "cell_type": "code",
   "execution_count": 145,
   "id": "c018c00e",
   "metadata": {},
   "outputs": [
    {
     "name": "stdout",
     "output_type": "stream",
     "text": [
      "              precision    recall  f1-score   support\n",
      "\n",
      "           0       0.91      0.97      0.94      2636\n",
      "           1       0.86      0.63      0.73       712\n",
      "\n",
      "    accuracy                           0.90      3348\n",
      "   macro avg       0.88      0.80      0.83      3348\n",
      "weighted avg       0.90      0.90      0.89      3348\n",
      "\n"
     ]
    }
   ],
   "source": [
    "print(classification_report(y_train_old, y_pred))"
   ]
  },
  {
   "cell_type": "code",
   "execution_count": 146,
   "id": "b78d235f",
   "metadata": {},
   "outputs": [
    {
     "name": "stdout",
     "output_type": "stream",
     "text": [
      "Accuracy of random forest classifier on test set: 0.67\n"
     ]
    }
   ],
   "source": [
    "print('Accuracy of random forest classifier on test set: {:.2f}'\n",
    "     .format(af.score(X_validate_old, y_validate_old)))"
   ]
  },
  {
   "cell_type": "markdown",
   "id": "643b2be9",
   "metadata": {},
   "source": [
    "### Old Customer Random Forest Precision 0.89"
   ]
  },
  {
   "cell_type": "code",
   "execution_count": 147,
   "id": "f15d7868",
   "metadata": {},
   "outputs": [],
   "source": [
    "X_test_old = X_test_old.drop(columns=['tenure_bin'])"
   ]
  },
  {
   "cell_type": "code",
   "execution_count": 148,
   "id": "c92e6fdc",
   "metadata": {},
   "outputs": [],
   "source": [
    "y_test_old = y_test_old.drop(columns=['tenure_bin'])"
   ]
  },
  {
   "cell_type": "code",
   "execution_count": 149,
   "id": "2aaaa953",
   "metadata": {},
   "outputs": [
    {
     "name": "stdout",
     "output_type": "stream",
     "text": [
      "Accuracy of random forest classifier on test set: 0.67\n"
     ]
    }
   ],
   "source": [
    "print('Accuracy of random forest classifier on test set: {:.2f}'\n",
    "     .format(af.score(X_test_old, y_test_old)))"
   ]
  },
  {
   "cell_type": "markdown",
   "id": "500e8e8f",
   "metadata": {},
   "source": [
    "# KNN"
   ]
  },
  {
   "cell_type": "markdown",
   "id": "9f325e80",
   "metadata": {},
   "source": [
    "### Under 90 day customer "
   ]
  },
  {
   "cell_type": "code",
   "execution_count": 150,
   "id": "78b6c82b",
   "metadata": {},
   "outputs": [],
   "source": [
    "from sklearn.neighbors import KNeighborsClassifier"
   ]
  },
  {
   "cell_type": "code",
   "execution_count": 151,
   "id": "739d7209",
   "metadata": {},
   "outputs": [],
   "source": [
    "knn = KNeighborsClassifier(n_neighbors=5, weights='uniform')\n"
   ]
  },
  {
   "cell_type": "code",
   "execution_count": 152,
   "id": "adfc1c7b",
   "metadata": {},
   "outputs": [
    {
     "data": {
      "text/plain": [
       "KNeighborsClassifier()"
      ]
     },
     "execution_count": 152,
     "metadata": {},
     "output_type": "execute_result"
    }
   ],
   "source": [
    "knn.fit(X_train_new, y_train_new)"
   ]
  },
  {
   "cell_type": "code",
   "execution_count": 153,
   "id": "1f1c0e13",
   "metadata": {},
   "outputs": [],
   "source": [
    "y_pred = knn.predict(X_train_new)"
   ]
  },
  {
   "cell_type": "code",
   "execution_count": 154,
   "id": "28c1ff21",
   "metadata": {},
   "outputs": [],
   "source": [
    "y_pred_proba = knn.predict_proba(X_train_new)"
   ]
  },
  {
   "cell_type": "code",
   "execution_count": 155,
   "id": "80177979",
   "metadata": {},
   "outputs": [
    {
     "name": "stdout",
     "output_type": "stream",
     "text": [
      "Accuracy of KNN classifier on training set: 0.75\n"
     ]
    }
   ],
   "source": [
    "print('Accuracy of KNN classifier on training set: {:.2f}'.format(knn.score(X_train_new, y_train_new)))"
   ]
  },
  {
   "cell_type": "code",
   "execution_count": 156,
   "id": "05f1f594",
   "metadata": {},
   "outputs": [
    {
     "name": "stdout",
     "output_type": "stream",
     "text": [
      "[[174  80]\n",
      " [ 66 268]]\n"
     ]
    }
   ],
   "source": [
    "print(confusion_matrix(y_train_new, y_pred))"
   ]
  },
  {
   "cell_type": "code",
   "execution_count": 157,
   "id": "80f11d97",
   "metadata": {},
   "outputs": [
    {
     "name": "stdout",
     "output_type": "stream",
     "text": [
      "              precision    recall  f1-score   support\n",
      "\n",
      "           0       0.72      0.69      0.70       254\n",
      "           1       0.77      0.80      0.79       334\n",
      "\n",
      "    accuracy                           0.75       588\n",
      "   macro avg       0.75      0.74      0.75       588\n",
      "weighted avg       0.75      0.75      0.75       588\n",
      "\n"
     ]
    }
   ],
   "source": [
    "print(classification_report(y_train_new, y_pred))"
   ]
  },
  {
   "cell_type": "code",
   "execution_count": 158,
   "id": "7faa4c2f",
   "metadata": {},
   "outputs": [
    {
     "name": "stdout",
     "output_type": "stream",
     "text": [
      "Accuracy of KNN classifier on training set: 0.60\n"
     ]
    }
   ],
   "source": [
    "print('Accuracy of KNN classifier on training set: {:.2f}'.format(knn.score(X_validate_new, y_validate_new)))"
   ]
  },
  {
   "cell_type": "markdown",
   "id": "8677e6b1",
   "metadata": {},
   "source": [
    "### New Customer KNN Precison Score: 0.75"
   ]
  },
  {
   "cell_type": "markdown",
   "id": "c0e2aa01",
   "metadata": {},
   "source": [
    "### Over 90 day customer "
   ]
  },
  {
   "cell_type": "code",
   "execution_count": 159,
   "id": "60e74b5f",
   "metadata": {},
   "outputs": [],
   "source": [
    "knn = KNeighborsClassifier(n_neighbors=5, weights='uniform')"
   ]
  },
  {
   "cell_type": "code",
   "execution_count": 160,
   "id": "bd9e29a2",
   "metadata": {},
   "outputs": [
    {
     "data": {
      "text/plain": [
       "KNeighborsClassifier()"
      ]
     },
     "execution_count": 160,
     "metadata": {},
     "output_type": "execute_result"
    }
   ],
   "source": [
    "knn.fit(X_train_old, y_train_old)"
   ]
  },
  {
   "cell_type": "code",
   "execution_count": 161,
   "id": "e6bfeec5",
   "metadata": {},
   "outputs": [],
   "source": [
    "y_pred = knn.predict(X_train_old)"
   ]
  },
  {
   "cell_type": "code",
   "execution_count": 162,
   "id": "4702ad40",
   "metadata": {},
   "outputs": [],
   "source": [
    "y_pred_proba = knn.predict_proba(X_train_old)"
   ]
  },
  {
   "cell_type": "code",
   "execution_count": 163,
   "id": "533f8de7",
   "metadata": {},
   "outputs": [
    {
     "name": "stdout",
     "output_type": "stream",
     "text": [
      "Accuracy of KNN classifier on training set: 0.84\n"
     ]
    }
   ],
   "source": [
    "print('Accuracy of KNN classifier on training set: {:.2f}'.format(knn.score(X_train_old, y_train_old)))"
   ]
  },
  {
   "cell_type": "code",
   "execution_count": 164,
   "id": "d5559a2b",
   "metadata": {},
   "outputs": [
    {
     "name": "stdout",
     "output_type": "stream",
     "text": [
      "[[2483  153]\n",
      " [ 370  342]]\n"
     ]
    }
   ],
   "source": [
    "print(confusion_matrix(y_train_old, y_pred))"
   ]
  },
  {
   "cell_type": "code",
   "execution_count": 165,
   "id": "1374c44a",
   "metadata": {},
   "outputs": [
    {
     "name": "stdout",
     "output_type": "stream",
     "text": [
      "              precision    recall  f1-score   support\n",
      "\n",
      "           0       0.87      0.94      0.90      2636\n",
      "           1       0.69      0.48      0.57       712\n",
      "\n",
      "    accuracy                           0.84      3348\n",
      "   macro avg       0.78      0.71      0.74      3348\n",
      "weighted avg       0.83      0.84      0.83      3348\n",
      "\n"
     ]
    }
   ],
   "source": [
    "print(classification_report(y_train_old, y_pred))"
   ]
  },
  {
   "cell_type": "code",
   "execution_count": 166,
   "id": "5c022bbd",
   "metadata": {},
   "outputs": [
    {
     "name": "stdout",
     "output_type": "stream",
     "text": [
      "Accuracy of KNN classifier on training set: 0.78\n"
     ]
    }
   ],
   "source": [
    "print('Accuracy of KNN classifier on training set: {:.2f}'.format(knn.score(X_validate_old, y_validate_old)))"
   ]
  },
  {
   "cell_type": "markdown",
   "id": "3f3c1659",
   "metadata": {},
   "source": [
    "### Old Customer KNN Precision Score 0.69"
   ]
  },
  {
   "cell_type": "markdown",
   "id": "8e487cc2",
   "metadata": {},
   "source": [
    "# Logistic Regression"
   ]
  },
  {
   "cell_type": "markdown",
   "id": "83cd949a",
   "metadata": {},
   "source": [
    "### Under 90 day customer"
   ]
  },
  {
   "cell_type": "code",
   "execution_count": 167,
   "id": "e2c8b1ba",
   "metadata": {},
   "outputs": [],
   "source": [
    "logit = LogisticRegression(C=1, class_weight={0:1, 1:99}, random_state=123, intercept_scaling=1, solver='lbfgs')"
   ]
  },
  {
   "cell_type": "code",
   "execution_count": 168,
   "id": "530a0eee",
   "metadata": {},
   "outputs": [
    {
     "data": {
      "text/plain": [
       "LogisticRegression(C=1, class_weight={0: 1, 1: 99}, random_state=123)"
      ]
     },
     "execution_count": 168,
     "metadata": {},
     "output_type": "execute_result"
    }
   ],
   "source": [
    "logit.fit(X_train_new, y_train_new)"
   ]
  },
  {
   "cell_type": "code",
   "execution_count": 169,
   "id": "89b56761",
   "metadata": {},
   "outputs": [
    {
     "name": "stdout",
     "output_type": "stream",
     "text": [
      "Coefficient: \n",
      " [[-0.62363863  0.07163227 -0.0034894   0.07122483 -0.01850217  0.42149535\n",
      "  -0.18270361  0.81324637  1.95022623  0.29788205  0.07930867 -1.08955555\n",
      "   0.07930867 -0.41386691  0.07930867  0.01278605  0.07930867 -0.77111451\n",
      "   0.07930867 -0.04563471  0.07930867 -1.12576139 -0.60748366 -0.12252014\n",
      "  -0.5759985   0.07930867  0.30847658  0.4709661   0.41221167]]\n",
      "Intercept: \n",
      " [1.8823469]\n"
     ]
    }
   ],
   "source": [
    "print('Coefficient: \\n', logit.coef_)\n",
    "print('Intercept: \\n', logit.intercept_)"
   ]
  },
  {
   "cell_type": "code",
   "execution_count": 170,
   "id": "fc4bce6d",
   "metadata": {},
   "outputs": [],
   "source": [
    "y_pred = logit.predict(X_train_new)"
   ]
  },
  {
   "cell_type": "code",
   "execution_count": 171,
   "id": "70ae28b6",
   "metadata": {},
   "outputs": [],
   "source": [
    "y_pred_proba = logit.predict_proba(X_train_new)"
   ]
  },
  {
   "cell_type": "code",
   "execution_count": 172,
   "id": "043547be",
   "metadata": {},
   "outputs": [
    {
     "name": "stdout",
     "output_type": "stream",
     "text": [
      "Accuracy of Logistic Regression classifier on training set: 0.57\n"
     ]
    }
   ],
   "source": [
    "print('Accuracy of Logistic Regression classifier on training set: {:.2f}'\n",
    "     .format(logit.score(X_train_new, y_train_new)))"
   ]
  },
  {
   "cell_type": "code",
   "execution_count": 173,
   "id": "1b8e15da",
   "metadata": {},
   "outputs": [
    {
     "name": "stdout",
     "output_type": "stream",
     "text": [
      "[[  0 254]\n",
      " [  0 334]]\n"
     ]
    }
   ],
   "source": [
    "print(confusion_matrix(y_train_new, y_pred))"
   ]
  },
  {
   "cell_type": "code",
   "execution_count": 174,
   "id": "10615f94",
   "metadata": {},
   "outputs": [
    {
     "name": "stdout",
     "output_type": "stream",
     "text": [
      "              precision    recall  f1-score   support\n",
      "\n",
      "           0       0.00      0.00      0.00       254\n",
      "           1       0.57      1.00      0.72       334\n",
      "\n",
      "    accuracy                           0.57       588\n",
      "   macro avg       0.28      0.50      0.36       588\n",
      "weighted avg       0.32      0.57      0.41       588\n",
      "\n"
     ]
    }
   ],
   "source": [
    "print(classification_report(y_train_new, y_pred))"
   ]
  },
  {
   "cell_type": "markdown",
   "id": "67724f47",
   "metadata": {},
   "source": [
    "### New Customer logistic regression precision score: 0.57"
   ]
  },
  {
   "cell_type": "markdown",
   "id": "d5123db6",
   "metadata": {},
   "source": [
    "### Over 90 day customer"
   ]
  },
  {
   "cell_type": "code",
   "execution_count": 175,
   "id": "b9ed6e27",
   "metadata": {},
   "outputs": [],
   "source": [
    "logit = LogisticRegression(C=1, class_weight={0:1, 1:99}, random_state=123, intercept_scaling=1, solver='lbfgs')"
   ]
  },
  {
   "cell_type": "code",
   "execution_count": 176,
   "id": "511a2ca5",
   "metadata": {},
   "outputs": [
    {
     "data": {
      "text/plain": [
       "LogisticRegression(C=1, class_weight={0: 1, 1: 99}, random_state=123)"
      ]
     },
     "execution_count": 176,
     "metadata": {},
     "output_type": "execute_result"
    }
   ],
   "source": [
    "logit.fit(X_train_old, y_train_old)"
   ]
  },
  {
   "cell_type": "code",
   "execution_count": 177,
   "id": "8e9a3139",
   "metadata": {},
   "outputs": [
    {
     "name": "stdout",
     "output_type": "stream",
     "text": [
      "Coefficient: \n",
      " [[-1.79519849e-02  5.29187945e-02 -7.26466961e-05  1.34441578e-02\n",
      "   9.88765526e-02 -4.45168208e-01 -1.69476750e-01  2.15746947e-01\n",
      "   1.11333427e+00 -6.56217175e-02  3.27993351e-02 -2.96952938e-01\n",
      "   3.27993351e-02 -4.57797493e-01  3.27993351e-02 -3.94313965e-01\n",
      "   3.27993351e-02 -5.68418930e-01  3.27993351e-02 -3.42314641e-01\n",
      "   3.27993351e-02  1.18610161e-01 -4.28805973e-01 -1.54684404e+00\n",
      "  -2.94199695e-01  3.27993351e-02  3.81877193e-01  6.76288472e-01\n",
      "   1.59683167e-02]]\n",
      "Intercept: \n",
      " [0.94581485]\n"
     ]
    }
   ],
   "source": [
    "print('Coefficient: \\n', logit.coef_)\n",
    "print('Intercept: \\n', logit.intercept_)"
   ]
  },
  {
   "cell_type": "code",
   "execution_count": 178,
   "id": "b9633325",
   "metadata": {},
   "outputs": [],
   "source": [
    "y_pred = logit.predict(X_train_old)"
   ]
  },
  {
   "cell_type": "code",
   "execution_count": 179,
   "id": "d7ba8129",
   "metadata": {},
   "outputs": [],
   "source": [
    "y_pred_proba = logit.predict_proba(X_train_old)"
   ]
  },
  {
   "cell_type": "code",
   "execution_count": 180,
   "id": "f131b63f",
   "metadata": {},
   "outputs": [
    {
     "name": "stdout",
     "output_type": "stream",
     "text": [
      "Accuracy of Logistic Regression classifier on training set: 0.31\n"
     ]
    }
   ],
   "source": [
    "print('Accuracy of Logistic Regression classifier on training set: {:.2f}'\n",
    "     .format(logit.score(X_train_old, y_train_old)))"
   ]
  },
  {
   "cell_type": "code",
   "execution_count": 181,
   "id": "36d8219c",
   "metadata": {},
   "outputs": [
    {
     "name": "stdout",
     "output_type": "stream",
     "text": [
      "[[ 330 2306]\n",
      " [   1  711]]\n"
     ]
    }
   ],
   "source": [
    "print(confusion_matrix(y_train_old, y_pred))"
   ]
  },
  {
   "cell_type": "code",
   "execution_count": 182,
   "id": "e0d2e901",
   "metadata": {},
   "outputs": [
    {
     "name": "stdout",
     "output_type": "stream",
     "text": [
      "              precision    recall  f1-score   support\n",
      "\n",
      "           0       1.00      0.13      0.22      2636\n",
      "           1       0.24      1.00      0.38       712\n",
      "\n",
      "    accuracy                           0.31      3348\n",
      "   macro avg       0.62      0.56      0.30      3348\n",
      "weighted avg       0.84      0.31      0.26      3348\n",
      "\n"
     ]
    }
   ],
   "source": [
    "print(classification_report(y_train_old, y_pred))"
   ]
  },
  {
   "cell_type": "markdown",
   "id": "121232c5",
   "metadata": {},
   "source": [
    "### Old Customer logistic regression Precision Score: 0.23"
   ]
  },
  {
   "cell_type": "markdown",
   "id": "c888cd44",
   "metadata": {},
   "source": [
    "### Under 90 day best classifier: Random Forest "
   ]
  },
  {
   "cell_type": "markdown",
   "id": "6282c65d",
   "metadata": {},
   "source": [
    "### Over 90 day best classifier: Random Forest"
   ]
  },
  {
   "cell_type": "code",
   "execution_count": 127,
   "id": "a2112706",
   "metadata": {},
   "outputs": [
    {
     "name": "stdout",
     "output_type": "stream",
     "text": [
      "Using cached csv\n"
     ]
    }
   ],
   "source": [
    "df = acquire_telco.get_telco_data()"
   ]
  },
  {
   "cell_type": "code",
   "execution_count": 128,
   "id": "ef4df2a4",
   "metadata": {},
   "outputs": [],
   "source": [
    "def bin_tenure(tenure):\n",
    "    if tenure <= 3: \n",
    "        return \"brand_new\"\n",
    "    else: \n",
    "        return 'not_new'"
   ]
  },
  {
   "cell_type": "code",
   "execution_count": 129,
   "id": "c7d8826c",
   "metadata": {},
   "outputs": [],
   "source": [
    "train[\"tenure_bin\"] = train.tenure.apply(bin_tenure)"
   ]
  },
  {
   "cell_type": "code",
   "execution_count": 130,
   "id": "0adf3cc1",
   "metadata": {},
   "outputs": [],
   "source": [
    "new_customers = train[train.tenure_bin == \"brand_new\"]\n",
    "old_customers = train[train.tenure_bin == \"not_new\"]"
   ]
  },
  {
   "cell_type": "code",
   "execution_count": 110,
   "id": "77f90799",
   "metadata": {},
   "outputs": [],
   "source": [
    "new_customers['under_90_day_customer_prediction'] = af.predict(X_train_new)"
   ]
  },
  {
   "cell_type": "code",
   "execution_count": 123,
   "id": "7d26c93d",
   "metadata": {},
   "outputs": [],
   "source": [
    "new_customers.to_csv('predictions_new.csv')"
   ]
  },
  {
   "cell_type": "code",
   "execution_count": 121,
   "id": "4fb71823",
   "metadata": {},
   "outputs": [],
   "source": [
    "old_customers['over_90_day_customer_prediction'] = gf.predict(X_train_old)"
   ]
  },
  {
   "cell_type": "code",
   "execution_count": 124,
   "id": "de9e3dbb",
   "metadata": {},
   "outputs": [],
   "source": [
    "old_customers.to_csv('predictions_old.csv')"
   ]
  },
  {
   "cell_type": "markdown",
   "id": "822d33f3",
   "metadata": {},
   "source": [
    "# Conclusion"
   ]
  },
  {
   "cell_type": "markdown",
   "id": "569f6583",
   "metadata": {},
   "source": [
    "This report uses monthly charges, total charges, and tenure as a means of describing a categorical feature: i.e. being a fiber optic customer, senior citizen customer etc. It should be noted that monthly charges, total charges, and tenure are all top drivers of churn. "
   ]
  },
  {
   "cell_type": "markdown",
   "id": "0a27638e",
   "metadata": {},
   "source": [
    "### Top factors contributing to churn in the first 90 days: "
   ]
  },
  {
   "cell_type": "markdown",
   "id": "67feed6f",
   "metadata": {},
   "source": [
    "Senior Citizens churn at an especially high rate in the first 90 days "
   ]
  },
  {
   "cell_type": "markdown",
   "id": "c5d4d75e",
   "metadata": {},
   "source": [
    "Customers without tech support churn at a higher rate in the first 90 days than customers without tech support after 90 days"
   ]
  },
  {
   "cell_type": "markdown",
   "id": "63298306",
   "metadata": {},
   "source": [
    "### Top factors contributing to churn over 90 days: "
   ]
  },
  {
   "cell_type": "markdown",
   "id": "40ae4a4a",
   "metadata": {},
   "source": [
    "Fiber optic internet customers churn at a much higher rate than DSL customers "
   ]
  },
  {
   "cell_type": "markdown",
   "id": "bcf1fb81",
   "metadata": {},
   "source": [
    "Customers with features like online backup, online security, tech support, and device protection churn at a lower rate than those without"
   ]
  },
  {
   "cell_type": "markdown",
   "id": "0dff0aba",
   "metadata": {},
   "source": [
    "Monthly costs for customers fluctuating from month to month might be a source of dissatisfaction"
   ]
  },
  {
   "cell_type": "markdown",
   "id": "976edac3",
   "metadata": {},
   "source": [
    "### If I had additional time I would have liked to: "
   ]
  },
  {
   "cell_type": "markdown",
   "id": "f609827a",
   "metadata": {},
   "source": [
    "1. Fine tune models with use of different hyperparameters"
   ]
  },
  {
   "cell_type": "markdown",
   "id": "31765f35",
   "metadata": {},
   "source": [
    "2. Create a function that would produce multiple models "
   ]
  },
  {
   "cell_type": "markdown",
   "id": "404dda60",
   "metadata": {},
   "source": [
    "3. Combine features and/or remove features to improve models"
   ]
  }
 ],
 "metadata": {
  "kernelspec": {
   "display_name": "Python 3 (ipykernel)",
   "language": "python",
   "name": "python3"
  },
  "language_info": {
   "codemirror_mode": {
    "name": "ipython",
    "version": 3
   },
   "file_extension": ".py",
   "mimetype": "text/x-python",
   "name": "python",
   "nbconvert_exporter": "python",
   "pygments_lexer": "ipython3",
   "version": "3.9.7"
  }
 },
 "nbformat": 4,
 "nbformat_minor": 5
}
