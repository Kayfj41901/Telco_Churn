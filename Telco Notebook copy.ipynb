{
 "cells": [
  {
   "cell_type": "code",
   "execution_count": 1,
   "id": "a7360fea",
   "metadata": {},
   "outputs": [],
   "source": [
    "import pandas as pd\n",
    "import numpy as np\n",
    "from scipy import stats\n",
    "import math\n",
    "\n",
    "import matplotlib.pyplot as plt\n",
    "import seaborn as sns\n",
    "\n",
    "from sklearn.preprocessing import LabelEncoder\n",
    "from sklearn.preprocessing import MinMaxScaler\n",
    "\n",
    "from sklearn.model_selection import train_test_split\n",
    "\n",
    "from sklearn.ensemble import RandomForestClassifier\n",
    "from sklearn.neighbors import KNeighborsClassifier\n",
    "from sklearn.metrics import confusion_matrix\n",
    "from sklearn.linear_model import LogisticRegression\n",
    "from sklearn.metrics import classification_report, recall_score\n",
    "from sklearn.tree import DecisionTreeClassifier\n",
    "from sklearn.metrics import f1_score\n",
    "\n",
    "import prepare\n",
    "import prepare_telco\n",
    "\n",
    "# ignore warnings\n",
    "import warnings\n",
    "warnings.filterwarnings(\"ignore\")\n"
   ]
  },
  {
   "cell_type": "markdown",
   "id": "c4a314fc",
   "metadata": {},
   "source": [
    "# Plan"
   ]
  },
  {
   "cell_type": "markdown",
   "id": "8ae18976",
   "metadata": {},
   "source": [
    "### Summary"
   ]
  },
  {
   "cell_type": "markdown",
   "id": "14f43e73",
   "metadata": {},
   "source": [
    "Telco Company's last report reflects a high customer churn rate. This notebook is an evaluation of the main drivers of churn for Telco Co. "
   ]
  },
  {
   "cell_type": "markdown",
   "id": "6311ddaa",
   "metadata": {},
   "source": [
    "### Goals"
   ]
  },
  {
   "cell_type": "markdown",
   "id": "3bbbe8b1",
   "metadata": {},
   "source": [
    "- Identify main drivers of churn \n",
    "- Create a MVP that accurately predicts a customer's likelihood to churn"
   ]
  },
  {
   "cell_type": "markdown",
   "id": "93b15e17",
   "metadata": {},
   "source": [
    "# Acquire"
   ]
  },
  {
   "cell_type": "code",
   "execution_count": 13,
   "id": "72506379",
   "metadata": {},
   "outputs": [],
   "source": [
    "import acquire_telco"
   ]
  },
  {
   "cell_type": "code",
   "execution_count": 29,
   "id": "002adf85",
   "metadata": {},
   "outputs": [
    {
     "name": "stdout",
     "output_type": "stream",
     "text": [
      "Using cached csv\n"
     ]
    }
   ],
   "source": [
    "df = acquire_telco.get_telco_data()\n"
   ]
  },
  {
   "cell_type": "code",
   "execution_count": 15,
   "id": "278cc0a0",
   "metadata": {},
   "outputs": [
    {
     "data": {
      "text/html": [
       "<div>\n",
       "<style scoped>\n",
       "    .dataframe tbody tr th:only-of-type {\n",
       "        vertical-align: middle;\n",
       "    }\n",
       "\n",
       "    .dataframe tbody tr th {\n",
       "        vertical-align: top;\n",
       "    }\n",
       "\n",
       "    .dataframe thead th {\n",
       "        text-align: right;\n",
       "    }\n",
       "</style>\n",
       "<table border=\"1\" class=\"dataframe\">\n",
       "  <thead>\n",
       "    <tr style=\"text-align: right;\">\n",
       "      <th></th>\n",
       "      <th>payment_type_id</th>\n",
       "      <th>contract_type_id</th>\n",
       "      <th>internet_service_type_id</th>\n",
       "      <th>customer_id</th>\n",
       "      <th>gender</th>\n",
       "      <th>senior_citizen</th>\n",
       "      <th>partner</th>\n",
       "      <th>dependents</th>\n",
       "      <th>tenure</th>\n",
       "      <th>phone_service</th>\n",
       "      <th>...</th>\n",
       "      <th>tech_support</th>\n",
       "      <th>streaming_tv</th>\n",
       "      <th>streaming_movies</th>\n",
       "      <th>paperless_billing</th>\n",
       "      <th>monthly_charges</th>\n",
       "      <th>total_charges</th>\n",
       "      <th>churn</th>\n",
       "      <th>internet_service_type</th>\n",
       "      <th>contract_type</th>\n",
       "      <th>payment_type</th>\n",
       "    </tr>\n",
       "  </thead>\n",
       "  <tbody>\n",
       "    <tr>\n",
       "      <th>0</th>\n",
       "      <td>2</td>\n",
       "      <td>2</td>\n",
       "      <td>1</td>\n",
       "      <td>0002-ORFBO</td>\n",
       "      <td>Female</td>\n",
       "      <td>0</td>\n",
       "      <td>Yes</td>\n",
       "      <td>Yes</td>\n",
       "      <td>9</td>\n",
       "      <td>Yes</td>\n",
       "      <td>...</td>\n",
       "      <td>Yes</td>\n",
       "      <td>Yes</td>\n",
       "      <td>No</td>\n",
       "      <td>Yes</td>\n",
       "      <td>65.6</td>\n",
       "      <td>593.3</td>\n",
       "      <td>No</td>\n",
       "      <td>DSL</td>\n",
       "      <td>One year</td>\n",
       "      <td>Mailed check</td>\n",
       "    </tr>\n",
       "    <tr>\n",
       "      <th>1</th>\n",
       "      <td>2</td>\n",
       "      <td>1</td>\n",
       "      <td>1</td>\n",
       "      <td>0003-MKNFE</td>\n",
       "      <td>Male</td>\n",
       "      <td>0</td>\n",
       "      <td>No</td>\n",
       "      <td>No</td>\n",
       "      <td>9</td>\n",
       "      <td>Yes</td>\n",
       "      <td>...</td>\n",
       "      <td>No</td>\n",
       "      <td>No</td>\n",
       "      <td>Yes</td>\n",
       "      <td>No</td>\n",
       "      <td>59.9</td>\n",
       "      <td>542.4</td>\n",
       "      <td>No</td>\n",
       "      <td>DSL</td>\n",
       "      <td>Month-to-month</td>\n",
       "      <td>Mailed check</td>\n",
       "    </tr>\n",
       "    <tr>\n",
       "      <th>2</th>\n",
       "      <td>1</td>\n",
       "      <td>1</td>\n",
       "      <td>2</td>\n",
       "      <td>0004-TLHLJ</td>\n",
       "      <td>Male</td>\n",
       "      <td>0</td>\n",
       "      <td>No</td>\n",
       "      <td>No</td>\n",
       "      <td>4</td>\n",
       "      <td>Yes</td>\n",
       "      <td>...</td>\n",
       "      <td>No</td>\n",
       "      <td>No</td>\n",
       "      <td>No</td>\n",
       "      <td>Yes</td>\n",
       "      <td>73.9</td>\n",
       "      <td>280.85</td>\n",
       "      <td>Yes</td>\n",
       "      <td>Fiber optic</td>\n",
       "      <td>Month-to-month</td>\n",
       "      <td>Electronic check</td>\n",
       "    </tr>\n",
       "  </tbody>\n",
       "</table>\n",
       "<p>3 rows × 24 columns</p>\n",
       "</div>"
      ],
      "text/plain": [
       "   payment_type_id  contract_type_id  internet_service_type_id customer_id  \\\n",
       "0                2                 2                         1  0002-ORFBO   \n",
       "1                2                 1                         1  0003-MKNFE   \n",
       "2                1                 1                         2  0004-TLHLJ   \n",
       "\n",
       "   gender  senior_citizen partner dependents  tenure phone_service  ...  \\\n",
       "0  Female               0     Yes        Yes       9           Yes  ...   \n",
       "1    Male               0      No         No       9           Yes  ...   \n",
       "2    Male               0      No         No       4           Yes  ...   \n",
       "\n",
       "  tech_support streaming_tv streaming_movies paperless_billing  \\\n",
       "0          Yes          Yes               No               Yes   \n",
       "1           No           No              Yes                No   \n",
       "2           No           No               No               Yes   \n",
       "\n",
       "  monthly_charges total_charges churn internet_service_type   contract_type  \\\n",
       "0            65.6         593.3    No                   DSL        One year   \n",
       "1            59.9         542.4    No                   DSL  Month-to-month   \n",
       "2            73.9        280.85   Yes           Fiber optic  Month-to-month   \n",
       "\n",
       "       payment_type  \n",
       "0      Mailed check  \n",
       "1      Mailed check  \n",
       "2  Electronic check  \n",
       "\n",
       "[3 rows x 24 columns]"
      ]
     },
     "execution_count": 15,
     "metadata": {},
     "output_type": "execute_result"
    }
   ],
   "source": [
    "#High level overvue\n",
    "#DataFrame contains int, float, and object types\n",
    "df.head(3)"
   ]
  },
  {
   "cell_type": "markdown",
   "id": "3e7572dc",
   "metadata": {},
   "source": [
    "# Prepare"
   ]
  },
  {
   "cell_type": "markdown",
   "id": "3c504695",
   "metadata": {},
   "source": [
    "Prepare.py accomplishes the following: \n",
    "- Strips total charges of white space \n",
    "- Changes total charges datatype from object to float \n",
    "- splits the data: train, validate, test"
   ]
  },
  {
   "cell_type": "code",
   "execution_count": 16,
   "id": "13713e10",
   "metadata": {},
   "outputs": [
    {
     "data": {
      "text/plain": [
       "Index(['payment_type_id', 'contract_type_id', 'internet_service_type_id',\n",
       "       'customer_id', 'gender', 'senior_citizen', 'partner', 'dependents',\n",
       "       'tenure', 'phone_service', 'multiple_lines', 'online_security',\n",
       "       'online_backup', 'device_protection', 'tech_support', 'streaming_tv',\n",
       "       'streaming_movies', 'paperless_billing', 'monthly_charges',\n",
       "       'total_charges', 'churn', 'internet_service_type', 'contract_type',\n",
       "       'payment_type'],\n",
       "      dtype='object')"
      ]
     },
     "execution_count": 16,
     "metadata": {},
     "output_type": "execute_result"
    }
   ],
   "source": [
    "df.columns"
   ]
  },
  {
   "cell_type": "markdown",
   "id": "d667cdd3",
   "metadata": {},
   "source": [
    "### For the purpose of the machine learning model the 'ids' will be kept and the descriptive columns will be dropped. The cells below can be used as references for id numbers to corresponding string values."
   ]
  },
  {
   "cell_type": "code",
   "execution_count": 17,
   "id": "b0450e9c",
   "metadata": {},
   "outputs": [
    {
     "data": {
      "text/plain": [
       "1    2365\n",
       "2    1612\n",
       "3    1544\n",
       "4    1522\n",
       "Name: payment_type_id, dtype: int64"
      ]
     },
     "execution_count": 17,
     "metadata": {},
     "output_type": "execute_result"
    }
   ],
   "source": [
    "df.payment_type_id.value_counts()"
   ]
  },
  {
   "cell_type": "code",
   "execution_count": 18,
   "id": "58dbe6d5",
   "metadata": {},
   "outputs": [
    {
     "data": {
      "text/plain": [
       "Electronic check             2365\n",
       "Mailed check                 1612\n",
       "Bank transfer (automatic)    1544\n",
       "Credit card (automatic)      1522\n",
       "Name: payment_type, dtype: int64"
      ]
     },
     "execution_count": 18,
     "metadata": {},
     "output_type": "execute_result"
    }
   ],
   "source": [
    "df.payment_type.value_counts()"
   ]
  },
  {
   "cell_type": "code",
   "execution_count": 19,
   "id": "968d0f9e",
   "metadata": {},
   "outputs": [
    {
     "data": {
      "text/plain": [
       "1    3875\n",
       "3    1695\n",
       "2    1473\n",
       "Name: contract_type_id, dtype: int64"
      ]
     },
     "execution_count": 19,
     "metadata": {},
     "output_type": "execute_result"
    }
   ],
   "source": [
    "df.contract_type_id.value_counts()"
   ]
  },
  {
   "cell_type": "code",
   "execution_count": 20,
   "id": "95ed9de7",
   "metadata": {},
   "outputs": [
    {
     "data": {
      "text/plain": [
       "Month-to-month    3875\n",
       "Two year          1695\n",
       "One year          1473\n",
       "Name: contract_type, dtype: int64"
      ]
     },
     "execution_count": 20,
     "metadata": {},
     "output_type": "execute_result"
    }
   ],
   "source": [
    "df.contract_type.value_counts()"
   ]
  },
  {
   "cell_type": "code",
   "execution_count": 21,
   "id": "62631ef0",
   "metadata": {},
   "outputs": [
    {
     "data": {
      "text/plain": [
       "2    3096\n",
       "1    2421\n",
       "3    1526\n",
       "Name: internet_service_type_id, dtype: int64"
      ]
     },
     "execution_count": 21,
     "metadata": {},
     "output_type": "execute_result"
    }
   ],
   "source": [
    "df.internet_service_type_id.value_counts()"
   ]
  },
  {
   "cell_type": "code",
   "execution_count": 22,
   "id": "c2ef5827",
   "metadata": {},
   "outputs": [
    {
     "data": {
      "text/plain": [
       "Fiber optic    3096\n",
       "DSL            2421\n",
       "None           1526\n",
       "Name: internet_service_type, dtype: int64"
      ]
     },
     "execution_count": 22,
     "metadata": {},
     "output_type": "execute_result"
    }
   ],
   "source": [
    "df.internet_service_type.value_counts()"
   ]
  },
  {
   "cell_type": "markdown",
   "id": "e49fdb54",
   "metadata": {},
   "source": [
    "### Ordinal labels are created for non-numeric feature columns"
   ]
  },
  {
   "cell_type": "code",
   "execution_count": 467,
   "id": "dd48a15d",
   "metadata": {},
   "outputs": [],
   "source": [
    "#1 for male, 0 for female\n",
    "#ordinal_label = {k: i for i, k in enumerate(df['gender'].unique(), 0)}\n",
    "#df['gender'] = df['gender'].map(ordinal_label)"
   ]
  },
  {
   "cell_type": "code",
   "execution_count": 468,
   "id": "d368fde5",
   "metadata": {},
   "outputs": [],
   "source": [
    "#0 for yes, 1 for no\n",
    "#ordinal_label2 = {k: i for i, k in enumerate(df['partner'].unique(), 0)}\n",
    "#df['partner'] = df['partner'].map(ordinal_label2)"
   ]
  },
  {
   "cell_type": "code",
   "execution_count": 469,
   "id": "31cb3d32",
   "metadata": {},
   "outputs": [],
   "source": [
    "#0 for yes, 1 for no\n",
    "#ordinal_label3 = {k: i for i, k in enumerate(df['dependents'].unique(), 0)}\n",
    "#df['dependents'] = df['dependents'].map(ordinal_label3)"
   ]
  },
  {
   "cell_type": "code",
   "execution_count": 470,
   "id": "b24da8be",
   "metadata": {},
   "outputs": [],
   "source": [
    "#0 for yes, 1 for no\n",
    "#ordinal_label4 = {k: i for i, k in enumerate(df['phone_service'].unique(), 0)}\n",
    "#df['phone_service'] = df['phone_service'].map(ordinal_label4)"
   ]
  },
  {
   "cell_type": "code",
   "execution_count": 471,
   "id": "56aba6c6",
   "metadata": {},
   "outputs": [],
   "source": [
    "#{'No': 0, 'Yes': 1, 'No internet service': 2}\n",
    "#ordinal_label5 = {k: i for i, k in enumerate(df['multiple_lines'].unique(), 0)}\n",
    "#df['multiple_lines'] = df['multiple_lines'].map(ordinal_label5)"
   ]
  },
  {
   "cell_type": "code",
   "execution_count": 472,
   "id": "4f6be3e2",
   "metadata": {},
   "outputs": [],
   "source": [
    "#ordinal_label6 = {k: i for i, k in enumerate(df['online_security'].unique(), 0)}\n",
    "#df['online_security'] = df['online_security'].map(ordinal_label6)"
   ]
  },
  {
   "cell_type": "code",
   "execution_count": 473,
   "id": "4709fadb",
   "metadata": {},
   "outputs": [],
   "source": [
    "#ordinal_label7 = {k: i for i, k in enumerate(df['online_backup'].unique(), 0)}\n",
    "#df['online_backup'] = df['online_backup'].map(ordinal_label7)"
   ]
  },
  {
   "cell_type": "code",
   "execution_count": 474,
   "id": "f409de84",
   "metadata": {},
   "outputs": [],
   "source": [
    "#{'No': 0, 'Yes': 1, 'No internet service': 2}\n",
    "#ordinal_label8 = {k: i for i, k in enumerate(df['device_protection'].unique(), 0)}\n",
    "#df['device_protection'] = df['device_protection'].map(ordinal_label8)"
   ]
  },
  {
   "cell_type": "code",
   "execution_count": 475,
   "id": "61007d57",
   "metadata": {},
   "outputs": [],
   "source": [
    "#{'Yes': 0, 'No': 1, 'No internet service': 2}\n",
    "#ordinal_label9 = {k: i for i, k in enumerate(df['tech_support'].unique(), 0)}\n",
    "#df['tech_support'] = df['tech_support'].map(ordinal_label9)"
   ]
  },
  {
   "cell_type": "code",
   "execution_count": 476,
   "id": "6d7dd67d",
   "metadata": {},
   "outputs": [],
   "source": [
    "#{'Yes': 0, 'No': 1, 'No internet service': 2}\n",
    "#ordinal_label10 = {k: i for i, k in enumerate(df['streaming_tv'].unique(), 0)}\n",
    "#df['streaming_tv'] = df['streaming_tv'].map(ordinal_label10)"
   ]
  },
  {
   "cell_type": "code",
   "execution_count": 477,
   "id": "a1b17961",
   "metadata": {},
   "outputs": [],
   "source": [
    "#{'No': 0, 'Yes': 1, 'No internet service': 2}\n",
    "#ordinal_label11 = {k: i for i, k in enumerate(df['streaming_movies'].unique(), 0)}\n",
    "#df['streaming_movies'] = df['streaming_movies'].map(ordinal_label11)"
   ]
  },
  {
   "cell_type": "code",
   "execution_count": 478,
   "id": "2e243aa4",
   "metadata": {},
   "outputs": [],
   "source": [
    "#{'Yes': 0, 'No': 1}\n",
    "#ordinal_label12 = {k: i for i, k in enumerate(df['paperless_billing'].unique(), 0)}\n",
    "#df['paperless_billing'] = df['paperless_billing'].map(ordinal_label12)"
   ]
  },
  {
   "cell_type": "code",
   "execution_count": 479,
   "id": "60092294",
   "metadata": {},
   "outputs": [],
   "source": [
    "#{'No': 0, 'Yes': 1}\n",
    "#ordinal_label13 = {k: i for i, k in enumerate(df['churn'].unique(), 0)}\n",
    "#df['churn'] = df['churn'].map(ordinal_label13)"
   ]
  },
  {
   "cell_type": "code",
   "execution_count": 30,
   "id": "aae3346e",
   "metadata": {},
   "outputs": [],
   "source": [
    "df = prepare_telco.prep_telco_data(df)"
   ]
  },
  {
   "cell_type": "code",
   "execution_count": 25,
   "id": "fcc62be5",
   "metadata": {},
   "outputs": [
    {
     "data": {
      "text/html": [
       "<div>\n",
       "<style scoped>\n",
       "    .dataframe tbody tr th:only-of-type {\n",
       "        vertical-align: middle;\n",
       "    }\n",
       "\n",
       "    .dataframe tbody tr th {\n",
       "        vertical-align: top;\n",
       "    }\n",
       "\n",
       "    .dataframe thead th {\n",
       "        text-align: right;\n",
       "    }\n",
       "</style>\n",
       "<table border=\"1\" class=\"dataframe\">\n",
       "  <thead>\n",
       "    <tr style=\"text-align: right;\">\n",
       "      <th></th>\n",
       "      <th>payment_type_id</th>\n",
       "      <th>contract_type_id</th>\n",
       "      <th>internet_service_type_id</th>\n",
       "      <th>gender</th>\n",
       "      <th>senior_citizen</th>\n",
       "      <th>partner</th>\n",
       "      <th>dependents</th>\n",
       "      <th>tenure</th>\n",
       "      <th>phone_service</th>\n",
       "      <th>multiple_lines</th>\n",
       "      <th>online_security</th>\n",
       "      <th>online_backup</th>\n",
       "      <th>device_protection</th>\n",
       "      <th>tech_support</th>\n",
       "      <th>streaming_tv</th>\n",
       "      <th>streaming_movies</th>\n",
       "      <th>paperless_billing</th>\n",
       "      <th>monthly_charges</th>\n",
       "      <th>total_charges</th>\n",
       "      <th>churn</th>\n",
       "    </tr>\n",
       "  </thead>\n",
       "  <tbody>\n",
       "    <tr>\n",
       "      <th>0</th>\n",
       "      <td>2</td>\n",
       "      <td>2</td>\n",
       "      <td>1</td>\n",
       "      <td>0</td>\n",
       "      <td>0</td>\n",
       "      <td>0</td>\n",
       "      <td>0</td>\n",
       "      <td>9</td>\n",
       "      <td>0</td>\n",
       "      <td>0</td>\n",
       "      <td>0</td>\n",
       "      <td>0</td>\n",
       "      <td>0</td>\n",
       "      <td>0</td>\n",
       "      <td>0</td>\n",
       "      <td>0</td>\n",
       "      <td>0</td>\n",
       "      <td>65.6</td>\n",
       "      <td>593.30</td>\n",
       "      <td>0</td>\n",
       "    </tr>\n",
       "    <tr>\n",
       "      <th>1</th>\n",
       "      <td>2</td>\n",
       "      <td>1</td>\n",
       "      <td>1</td>\n",
       "      <td>1</td>\n",
       "      <td>0</td>\n",
       "      <td>1</td>\n",
       "      <td>1</td>\n",
       "      <td>9</td>\n",
       "      <td>0</td>\n",
       "      <td>1</td>\n",
       "      <td>0</td>\n",
       "      <td>1</td>\n",
       "      <td>0</td>\n",
       "      <td>1</td>\n",
       "      <td>1</td>\n",
       "      <td>1</td>\n",
       "      <td>1</td>\n",
       "      <td>59.9</td>\n",
       "      <td>542.40</td>\n",
       "      <td>0</td>\n",
       "    </tr>\n",
       "    <tr>\n",
       "      <th>2</th>\n",
       "      <td>1</td>\n",
       "      <td>1</td>\n",
       "      <td>2</td>\n",
       "      <td>1</td>\n",
       "      <td>0</td>\n",
       "      <td>1</td>\n",
       "      <td>1</td>\n",
       "      <td>4</td>\n",
       "      <td>0</td>\n",
       "      <td>0</td>\n",
       "      <td>0</td>\n",
       "      <td>1</td>\n",
       "      <td>1</td>\n",
       "      <td>1</td>\n",
       "      <td>1</td>\n",
       "      <td>0</td>\n",
       "      <td>0</td>\n",
       "      <td>73.9</td>\n",
       "      <td>280.85</td>\n",
       "      <td>1</td>\n",
       "    </tr>\n",
       "    <tr>\n",
       "      <th>3</th>\n",
       "      <td>1</td>\n",
       "      <td>1</td>\n",
       "      <td>2</td>\n",
       "      <td>1</td>\n",
       "      <td>1</td>\n",
       "      <td>0</td>\n",
       "      <td>1</td>\n",
       "      <td>13</td>\n",
       "      <td>0</td>\n",
       "      <td>0</td>\n",
       "      <td>0</td>\n",
       "      <td>0</td>\n",
       "      <td>1</td>\n",
       "      <td>1</td>\n",
       "      <td>0</td>\n",
       "      <td>1</td>\n",
       "      <td>0</td>\n",
       "      <td>98.0</td>\n",
       "      <td>1237.85</td>\n",
       "      <td>1</td>\n",
       "    </tr>\n",
       "    <tr>\n",
       "      <th>4</th>\n",
       "      <td>2</td>\n",
       "      <td>1</td>\n",
       "      <td>2</td>\n",
       "      <td>0</td>\n",
       "      <td>1</td>\n",
       "      <td>0</td>\n",
       "      <td>1</td>\n",
       "      <td>3</td>\n",
       "      <td>0</td>\n",
       "      <td>0</td>\n",
       "      <td>0</td>\n",
       "      <td>1</td>\n",
       "      <td>0</td>\n",
       "      <td>0</td>\n",
       "      <td>0</td>\n",
       "      <td>0</td>\n",
       "      <td>0</td>\n",
       "      <td>83.9</td>\n",
       "      <td>267.40</td>\n",
       "      <td>1</td>\n",
       "    </tr>\n",
       "  </tbody>\n",
       "</table>\n",
       "</div>"
      ],
      "text/plain": [
       "   payment_type_id  contract_type_id  internet_service_type_id  gender  \\\n",
       "0                2                 2                         1       0   \n",
       "1                2                 1                         1       1   \n",
       "2                1                 1                         2       1   \n",
       "3                1                 1                         2       1   \n",
       "4                2                 1                         2       0   \n",
       "\n",
       "   senior_citizen  partner  dependents  tenure  phone_service  multiple_lines  \\\n",
       "0               0        0           0       9              0               0   \n",
       "1               0        1           1       9              0               1   \n",
       "2               0        1           1       4              0               0   \n",
       "3               1        0           1      13              0               0   \n",
       "4               1        0           1       3              0               0   \n",
       "\n",
       "   online_security  online_backup  device_protection  tech_support  \\\n",
       "0                0              0                  0             0   \n",
       "1                0              1                  0             1   \n",
       "2                0              1                  1             1   \n",
       "3                0              0                  1             1   \n",
       "4                0              1                  0             0   \n",
       "\n",
       "   streaming_tv  streaming_movies  paperless_billing  monthly_charges  \\\n",
       "0             0                 0                  0             65.6   \n",
       "1             1                 1                  1             59.9   \n",
       "2             1                 0                  0             73.9   \n",
       "3             0                 1                  0             98.0   \n",
       "4             0                 0                  0             83.9   \n",
       "\n",
       "   total_charges  churn  \n",
       "0         593.30      0  \n",
       "1         542.40      0  \n",
       "2         280.85      1  \n",
       "3        1237.85      1  \n",
       "4         267.40      1  "
      ]
     },
     "execution_count": 25,
     "metadata": {},
     "output_type": "execute_result"
    }
   ],
   "source": [
    "df.head()"
   ]
  },
  {
   "cell_type": "markdown",
   "id": "e94d21dd",
   "metadata": {},
   "source": [
    "### Sort customers into two categories before train/validate split"
   ]
  },
  {
   "cell_type": "code",
   "execution_count": 31,
   "id": "2237ab27",
   "metadata": {},
   "outputs": [],
   "source": [
    "def bin_tenure(tenure):\n",
    "    if tenure <= 3: \n",
    "        return \"brand_new\"\n",
    "    else: \n",
    "        return 'not_new'"
   ]
  },
  {
   "cell_type": "code",
   "execution_count": 32,
   "id": "3eca59a5",
   "metadata": {},
   "outputs": [],
   "source": [
    "df[\"tenure_bin\"] = df.tenure.apply(bin_tenure)"
   ]
  },
  {
   "cell_type": "code",
   "execution_count": 33,
   "id": "f3dedeec",
   "metadata": {},
   "outputs": [],
   "source": [
    "new_customers = df[df.tenure_bin == \"brand_new\"]\n",
    "old_customers = df[df.tenure_bin == \"not_new\"]"
   ]
  },
  {
   "cell_type": "markdown",
   "id": "2c5893dc",
   "metadata": {},
   "source": [
    "### New Customers"
   ]
  },
  {
   "cell_type": "code",
   "execution_count": 34,
   "id": "713cf934",
   "metadata": {},
   "outputs": [],
   "source": [
    "train_validate, test = train_test_split(new_customers, test_size=.2, random_state=123, stratify=new_customers.churn)"
   ]
  },
  {
   "cell_type": "code",
   "execution_count": 35,
   "id": "473d481f",
   "metadata": {},
   "outputs": [],
   "source": [
    "train, validate = train_test_split(train_validate, test_size=.3, random_state=123, stratify=train_validate.churn)"
   ]
  },
  {
   "cell_type": "code",
   "execution_count": 36,
   "id": "56a409fb",
   "metadata": {},
   "outputs": [
    {
     "data": {
      "text/plain": [
       "(588, 21)"
      ]
     },
     "execution_count": 36,
     "metadata": {},
     "output_type": "execute_result"
    }
   ],
   "source": [
    "train.shape"
   ]
  },
  {
   "cell_type": "code",
   "execution_count": 37,
   "id": "a37eb1d1",
   "metadata": {},
   "outputs": [
    {
     "data": {
      "text/plain": [
       "(252, 21)"
      ]
     },
     "execution_count": 37,
     "metadata": {},
     "output_type": "execute_result"
    }
   ],
   "source": [
    "validate.shape\n"
   ]
  },
  {
   "cell_type": "code",
   "execution_count": 38,
   "id": "fca928bd",
   "metadata": {},
   "outputs": [
    {
     "data": {
      "text/plain": [
       "(211, 21)"
      ]
     },
     "execution_count": 38,
     "metadata": {},
     "output_type": "execute_result"
    }
   ],
   "source": [
    "test.shape"
   ]
  },
  {
   "cell_type": "code",
   "execution_count": 39,
   "id": "a02fb3b6",
   "metadata": {},
   "outputs": [],
   "source": [
    "X_train_new = train.drop(columns=['churn'])\n",
    "y_train_new = train.churn\n",
    "\n",
    "X_validate_new = validate.drop(columns=['churn'])\n",
    "y_validate_new = validate.churn\n",
    "\n",
    "X_test_new = test.drop(columns=['churn'])\n",
    "y_test_new = test.churn"
   ]
  },
  {
   "cell_type": "code",
   "execution_count": 40,
   "id": "a7db8cd3",
   "metadata": {},
   "outputs": [
    {
     "data": {
      "text/plain": [
       "(588, 20)"
      ]
     },
     "execution_count": 40,
     "metadata": {},
     "output_type": "execute_result"
    }
   ],
   "source": [
    "X_train_new.shape"
   ]
  },
  {
   "cell_type": "code",
   "execution_count": 41,
   "id": "10128cf1",
   "metadata": {},
   "outputs": [
    {
     "data": {
      "text/plain": [
       "3815    0\n",
       "6915    0\n",
       "2049    1\n",
       "3988    1\n",
       "5891    0\n",
       "Name: churn, dtype: int64"
      ]
     },
     "execution_count": 41,
     "metadata": {},
     "output_type": "execute_result"
    }
   ],
   "source": [
    "y_train_new.head()"
   ]
  },
  {
   "cell_type": "code",
   "execution_count": 42,
   "id": "61b2fc2f",
   "metadata": {},
   "outputs": [
    {
     "data": {
      "text/plain": [
       "(252, 20)"
      ]
     },
     "execution_count": 42,
     "metadata": {},
     "output_type": "execute_result"
    }
   ],
   "source": [
    "X_validate_new.shape"
   ]
  },
  {
   "cell_type": "code",
   "execution_count": 43,
   "id": "626e5990",
   "metadata": {},
   "outputs": [
    {
     "data": {
      "text/plain": [
       "(211, 20)"
      ]
     },
     "execution_count": 43,
     "metadata": {},
     "output_type": "execute_result"
    }
   ],
   "source": [
    "X_test_new.shape"
   ]
  },
  {
   "cell_type": "markdown",
   "id": "849b13ff",
   "metadata": {},
   "source": [
    "### Old Customers"
   ]
  },
  {
   "cell_type": "code",
   "execution_count": 44,
   "id": "51e24f7c",
   "metadata": {},
   "outputs": [],
   "source": [
    "train_validate, test = train_test_split(old_customers, test_size=.2, random_state=123, stratify=old_customers.churn)"
   ]
  },
  {
   "cell_type": "code",
   "execution_count": 45,
   "id": "6ae65557",
   "metadata": {},
   "outputs": [],
   "source": [
    "train, validate = train_test_split(train_validate, test_size=.3, random_state=123, stratify=train_validate.churn)"
   ]
  },
  {
   "cell_type": "code",
   "execution_count": 46,
   "id": "3f03129d",
   "metadata": {},
   "outputs": [
    {
     "data": {
      "text/plain": [
       "(3348, 21)"
      ]
     },
     "execution_count": 46,
     "metadata": {},
     "output_type": "execute_result"
    }
   ],
   "source": [
    "train.shape"
   ]
  },
  {
   "cell_type": "code",
   "execution_count": 47,
   "id": "3f9cec63",
   "metadata": {},
   "outputs": [
    {
     "data": {
      "text/plain": [
       "(1436, 21)"
      ]
     },
     "execution_count": 47,
     "metadata": {},
     "output_type": "execute_result"
    }
   ],
   "source": [
    "validate.shape"
   ]
  },
  {
   "cell_type": "code",
   "execution_count": 48,
   "id": "53ca7cda",
   "metadata": {},
   "outputs": [
    {
     "data": {
      "text/plain": [
       "(1197, 21)"
      ]
     },
     "execution_count": 48,
     "metadata": {},
     "output_type": "execute_result"
    }
   ],
   "source": [
    "test.shape"
   ]
  },
  {
   "cell_type": "code",
   "execution_count": 49,
   "id": "85852d27",
   "metadata": {},
   "outputs": [],
   "source": [
    "X_train_old = train.drop(columns=['churn'])\n",
    "y_train_old = train.churn\n",
    "\n",
    "X_validate_old = validate.drop(columns=['churn'])\n",
    "y_validate_old = validate.churn\n",
    "\n",
    "X_test_old = test.drop(columns=['churn'])\n",
    "y_test_old = test.churn"
   ]
  },
  {
   "cell_type": "code",
   "execution_count": 50,
   "id": "e9f52cdd",
   "metadata": {},
   "outputs": [
    {
     "data": {
      "text/plain": [
       "(3348, 20)"
      ]
     },
     "execution_count": 50,
     "metadata": {},
     "output_type": "execute_result"
    }
   ],
   "source": [
    "X_train_old.shape"
   ]
  },
  {
   "cell_type": "code",
   "execution_count": 51,
   "id": "26ba9d67",
   "metadata": {},
   "outputs": [
    {
     "data": {
      "text/plain": [
       "(1436, 20)"
      ]
     },
     "execution_count": 51,
     "metadata": {},
     "output_type": "execute_result"
    }
   ],
   "source": [
    "X_validate_old.shape"
   ]
  },
  {
   "cell_type": "code",
   "execution_count": 52,
   "id": "b4eacf22",
   "metadata": {},
   "outputs": [
    {
     "data": {
      "text/plain": [
       "(1436, 20)"
      ]
     },
     "execution_count": 52,
     "metadata": {},
     "output_type": "execute_result"
    }
   ],
   "source": [
    "X_validate_old.shape"
   ]
  },
  {
   "cell_type": "markdown",
   "id": "7befc6f9",
   "metadata": {},
   "source": [
    "# Explore"
   ]
  },
  {
   "cell_type": "markdown",
   "id": "f48ab036",
   "metadata": {},
   "source": [
    "### Import original dataframe for exploratory purposes. "
   ]
  },
  {
   "cell_type": "code",
   "execution_count": 26,
   "id": "e3406af7",
   "metadata": {},
   "outputs": [
    {
     "name": "stdout",
     "output_type": "stream",
     "text": [
      "Using cached csv\n"
     ]
    }
   ],
   "source": [
    "df_explore = acquire_telco.get_telco_data()"
   ]
  },
  {
   "cell_type": "code",
   "execution_count": 27,
   "id": "010c3f7b",
   "metadata": {},
   "outputs": [],
   "source": [
    "train_validate, test = train_test_split(df_explore, test_size=.2, random_state=123, stratify=df_explore.churn)"
   ]
  },
  {
   "cell_type": "code",
   "execution_count": 28,
   "id": "dfd738a1",
   "metadata": {},
   "outputs": [],
   "source": [
    "train, validate = train_test_split(train_validate, test_size=.3, random_state=123, stratify=train_validate.churn)"
   ]
  },
  {
   "cell_type": "markdown",
   "id": "3481e422",
   "metadata": {},
   "source": [
    "How many customers overall churned?"
   ]
  },
  {
   "cell_type": "code",
   "execution_count": 208,
   "id": "b5817a5d",
   "metadata": {},
   "outputs": [
    {
     "data": {
      "text/plain": [
       "No     2897\n",
       "Yes    1046\n",
       "Name: churn, dtype: int64"
      ]
     },
     "execution_count": 208,
     "metadata": {},
     "output_type": "execute_result"
    }
   ],
   "source": [
    "train.churn.value_counts()"
   ]
  },
  {
   "cell_type": "markdown",
   "id": "27895f22",
   "metadata": {},
   "source": [
    "Takeaway: In this dataset 26.5% of customer's churned"
   ]
  },
  {
   "cell_type": "markdown",
   "id": "5f7f1fbf",
   "metadata": {},
   "source": [
    "For a complete set of visual comparisons of features to churn rate please see original notebook."
   ]
  },
  {
   "cell_type": "markdown",
   "id": "3fddcadf",
   "metadata": {},
   "source": [
    "### Churn by Feature"
   ]
  },
  {
   "cell_type": "markdown",
   "id": "09b15a36",
   "metadata": {},
   "source": [
    "Divide tenure: First 90 day customers vs customers over 90 days. "
   ]
  },
  {
   "cell_type": "code",
   "execution_count": 213,
   "id": "6dab6f4b",
   "metadata": {},
   "outputs": [],
   "source": [
    "def bin_tenure(tenure):\n",
    "    if tenure <= 3: \n",
    "        return \"brand_new\"\n",
    "    else: \n",
    "        return 'not_new'"
   ]
  },
  {
   "cell_type": "code",
   "execution_count": 214,
   "id": "c35b202b",
   "metadata": {},
   "outputs": [],
   "source": [
    "train[\"tenure_bin\"] = train.tenure.apply(bin_tenure)"
   ]
  },
  {
   "cell_type": "code",
   "execution_count": 215,
   "id": "bba303d7",
   "metadata": {},
   "outputs": [],
   "source": [
    "new_customers = train[train.tenure_bin == \"brand_new\"]\n",
    "old_customers = train[train.tenure_bin == \"not_new\"]"
   ]
  },
  {
   "cell_type": "markdown",
   "id": "33f55c22",
   "metadata": {},
   "source": [
    "### What can be learned from customers who churn in their first 90 days? "
   ]
  },
  {
   "cell_type": "code",
   "execution_count": 216,
   "id": "1a02669e",
   "metadata": {},
   "outputs": [
    {
     "data": {
      "text/plain": [
       "<AxesSubplot:xlabel='senior_citizen'>"
      ]
     },
     "execution_count": 216,
     "metadata": {},
     "output_type": "execute_result"
    },
    {
     "data": {
      "image/png": "[encoded data removed]",
      "text/plain": [
       "<Figure size 432x288 with 1 Axes>"
      ]
     },
     "metadata": {
      "needs_background": "light"
     },
     "output_type": "display_data"
    }
   ],
   "source": [
    "pd.crosstab(new_customers.senior_citizen, new_customers.churn, normalize=\"index\").plot.bar()"
   ]
  },
  {
   "cell_type": "markdown",
   "id": "b4c95f2a",
   "metadata": {},
   "source": [
    "Takeaway: Senior citizens churn at a high rate in the first 90 days. Further investigation required."
   ]
  },
  {
   "cell_type": "code",
   "execution_count": 219,
   "id": "b0a31a45",
   "metadata": {},
   "outputs": [
    {
     "data": {
      "text/plain": [
       "<AxesSubplot:xlabel='online_security'>"
      ]
     },
     "execution_count": 219,
     "metadata": {},
     "output_type": "execute_result"
    },
    {
     "data": {
      "image/png": "[encoded data removed]",
      "text/plain": [
       "<Figure size 432x288 with 1 Axes>"
      ]
     },
     "metadata": {
      "needs_background": "light"
     },
     "output_type": "display_data"
    }
   ],
   "source": [
    "pd.crosstab(new_customers.online_security, new_customers.churn, normalize=\"index\").plot.bar()"
   ]
  },
  {
   "cell_type": "markdown",
   "id": "446664d3",
   "metadata": {},
   "source": [
    "Takeaway: Online security churn rate in the first 90 days is similar to overall online security churn rate. No further investigation is required."
   ]
  },
  {
   "cell_type": "code",
   "execution_count": 31,
   "id": "f5343b96",
   "metadata": {},
   "outputs": [
    {
     "data": {
      "text/plain": [
       "<AxesSubplot:xlabel='tech_support'>"
      ]
     },
     "execution_count": 31,
     "metadata": {},
     "output_type": "execute_result"
    },
    {
     "data": {
      "image/png": "[encoded data removed]",
      "text/plain": [
       "<Figure size 432x288 with 1 Axes>"
      ]
     },
     "metadata": {
      "needs_background": "light"
     },
     "output_type": "display_data"
    }
   ],
   "source": [
    "pd.crosstab(new_customers.tech_support, new_customers.churn, normalize=\"index\").plot.bar()"
   ]
  },
  {
   "cell_type": "markdown",
   "id": "110ef896",
   "metadata": {},
   "source": [
    "Takeaway: Customers without tech support churn at a higher rate than those with tech support; customers without tech support in the first ninety days churn at a rate nearly twice that of those with tech support. Further investigation is required"
   ]
  },
  {
   "cell_type": "markdown",
   "id": "27239ba6",
   "metadata": {},
   "source": [
    "### What can be learned about customers who churned after 90 days?"
   ]
  },
  {
   "cell_type": "code",
   "execution_count": 33,
   "id": "b45debc0",
   "metadata": {},
   "outputs": [
    {
     "data": {
      "text/plain": [
       "<AxesSubplot:xlabel='senior_citizen'>"
      ]
     },
     "execution_count": 33,
     "metadata": {},
     "output_type": "execute_result"
    },
    {
     "data": {
      "image/png": "[encoded data removed]",
      "text/plain": [
       "<Figure size 432x288 with 1 Axes>"
      ]
     },
     "metadata": {
      "needs_background": "light"
     },
     "output_type": "display_data"
    }
   ],
   "source": [
    "pd.crosstab(old_customers.senior_citizen, old_customers.churn, normalize=\"index\").plot.bar()"
   ]
  },
  {
   "cell_type": "markdown",
   "id": "e4589228",
   "metadata": {},
   "source": [
    "Takeaway: Senior citizens still churn at a higher rate than non senior citizens."
   ]
  },
  {
   "cell_type": "code",
   "execution_count": 36,
   "id": "40397f35",
   "metadata": {},
   "outputs": [
    {
     "data": {
      "text/plain": [
       "<AxesSubplot:xlabel='online_security'>"
      ]
     },
     "execution_count": 36,
     "metadata": {},
     "output_type": "execute_result"
    },
    {
     "data": {
      "image/png": "[encoded data removed]",
      "text/plain": [
       "<Figure size 432x288 with 1 Axes>"
      ]
     },
     "metadata": {
      "needs_background": "light"
     },
     "output_type": "display_data"
    }
   ],
   "source": [
    "pd.crosstab(old_customers.online_security, old_customers.churn, normalize=\"index\").plot.bar()"
   ]
  },
  {
   "cell_type": "markdown",
   "id": "b1acc711",
   "metadata": {},
   "source": [
    "Takeaway: Customers without online security churn at a higher rate than customers with online security. Further investigation required. "
   ]
  },
  {
   "cell_type": "code",
   "execution_count": 39,
   "id": "da59925d",
   "metadata": {},
   "outputs": [
    {
     "data": {
      "text/plain": [
       "<AxesSubplot:xlabel='tech_support'>"
      ]
     },
     "execution_count": 39,
     "metadata": {},
     "output_type": "execute_result"
    },
    {
     "data": {
      "image/png": "[encoded data removed]",
      "text/plain": [
       "<Figure size 432x288 with 1 Axes>"
      ]
     },
     "metadata": {
      "needs_background": "light"
     },
     "output_type": "display_data"
    }
   ],
   "source": [
    "pd.crosstab(old_customers.tech_support, old_customers.churn, normalize=\"index\").plot.bar()"
   ]
  },
  {
   "cell_type": "markdown",
   "id": "b7d43978",
   "metadata": {},
   "source": [
    "Takeaway: Customers without tech support churn at a higher rate than customers with tech support. Further investigation required.\n"
   ]
  },
  {
   "cell_type": "markdown",
   "id": "4fd62747",
   "metadata": {},
   "source": [
    "# Statistical Analysis"
   ]
  },
  {
   "cell_type": "markdown",
   "id": "10ee331a",
   "metadata": {},
   "source": [
    "### Statistical Analysis will only be performed on features that appear to have a significant relationship with churn: \n",
    "- Senior Citizen \n",
    "- Online Security \n",
    "- Tech Support \n",
    "- Online Backup \n",
    "- Device Protection\n",
    "\n"
   ]
  },
  {
   "cell_type": "markdown",
   "id": "9c61995b",
   "metadata": {},
   "source": [
    "### Chi Square test for overall train set"
   ]
  },
  {
   "cell_type": "code",
   "execution_count": 41,
   "id": "80109682",
   "metadata": {},
   "outputs": [],
   "source": [
    "alpha = 0.05"
   ]
  },
  {
   "cell_type": "markdown",
   "id": "a1de8a45",
   "metadata": {},
   "source": [
    "### Senior Citizen"
   ]
  },
  {
   "cell_type": "markdown",
   "id": "8a38370f",
   "metadata": {},
   "source": [
    "Initial Hypothesis: \n",
    "- H_0: Rate of churn is independent of being a senior citizen. \n",
    "- H_a: Rate of churn is not independent of being a senior citizen. "
   ]
  },
  {
   "cell_type": "code",
   "execution_count": 42,
   "id": "dba32f6d",
   "metadata": {},
   "outputs": [
    {
     "data": {
      "text/html": [
       "<div>\n",
       "<style scoped>\n",
       "    .dataframe tbody tr th:only-of-type {\n",
       "        vertical-align: middle;\n",
       "    }\n",
       "\n",
       "    .dataframe tbody tr th {\n",
       "        vertical-align: top;\n",
       "    }\n",
       "\n",
       "    .dataframe thead th {\n",
       "        text-align: right;\n",
       "    }\n",
       "</style>\n",
       "<table border=\"1\" class=\"dataframe\">\n",
       "  <thead>\n",
       "    <tr style=\"text-align: right;\">\n",
       "      <th>churn</th>\n",
       "      <th>No</th>\n",
       "      <th>Yes</th>\n",
       "    </tr>\n",
       "    <tr>\n",
       "      <th>senior_citizen</th>\n",
       "      <th></th>\n",
       "      <th></th>\n",
       "    </tr>\n",
       "  </thead>\n",
       "  <tbody>\n",
       "    <tr>\n",
       "      <th>0</th>\n",
       "      <td>2527</td>\n",
       "      <td>775</td>\n",
       "    </tr>\n",
       "    <tr>\n",
       "      <th>1</th>\n",
       "      <td>364</td>\n",
       "      <td>271</td>\n",
       "    </tr>\n",
       "  </tbody>\n",
       "</table>\n",
       "</div>"
      ],
      "text/plain": [
       "churn             No  Yes\n",
       "senior_citizen           \n",
       "0               2527  775\n",
       "1                364  271"
      ]
     },
     "execution_count": 42,
     "metadata": {},
     "output_type": "execute_result"
    }
   ],
   "source": [
    "senior_citizen_customer = pd.crosstab(train.senior_citizen, train.churn)\n",
    "senior_citizen_customer"
   ]
  },
  {
   "cell_type": "code",
   "execution_count": 43,
   "id": "37beb561",
   "metadata": {},
   "outputs": [
    {
     "name": "stdout",
     "output_type": "stream",
     "text": [
      "[[2424.70967742  877.29032258]\n",
      " [ 466.29032258  168.70967742]]\n",
      "p-val: 1.7561315684822695e-23\n"
     ]
    }
   ],
   "source": [
    "chi2, senior, degf, expected_senior = stats.chi2_contingency(senior_citizen_customer)\n",
    "print(expected_senior)\n",
    "print(f\"p-val: {senior}\")"
   ]
  },
  {
   "cell_type": "code",
   "execution_count": 44,
   "id": "f042fead",
   "metadata": {},
   "outputs": [
    {
     "name": "stdout",
     "output_type": "stream",
     "text": [
      "We reject the null hypothesis.\n"
     ]
    }
   ],
   "source": [
    "if senior < alpha:\n",
    "    print(\"We reject the null hypothesis.\")\n",
    "else:\n",
    "    print(\"We fail to reject the null hypothesis.\")"
   ]
  },
  {
   "cell_type": "markdown",
   "id": "a16df8f5",
   "metadata": {},
   "source": [
    "### Online Security"
   ]
  },
  {
   "cell_type": "markdown",
   "id": "8e9ffbec",
   "metadata": {},
   "source": [
    "Initial Hypothesis: \n",
    "- H_0: Rate of churn is independent of having online security. \n",
    "- H_a: Rate of churn is not independent of having online security. "
   ]
  },
  {
   "cell_type": "code",
   "execution_count": 45,
   "id": "ef8f7987",
   "metadata": {},
   "outputs": [
    {
     "data": {
      "text/html": [
       "<div>\n",
       "<style scoped>\n",
       "    .dataframe tbody tr th:only-of-type {\n",
       "        vertical-align: middle;\n",
       "    }\n",
       "\n",
       "    .dataframe tbody tr th {\n",
       "        vertical-align: top;\n",
       "    }\n",
       "\n",
       "    .dataframe thead th {\n",
       "        text-align: right;\n",
       "    }\n",
       "</style>\n",
       "<table border=\"1\" class=\"dataframe\">\n",
       "  <thead>\n",
       "    <tr style=\"text-align: right;\">\n",
       "      <th>churn</th>\n",
       "      <th>No</th>\n",
       "      <th>Yes</th>\n",
       "    </tr>\n",
       "    <tr>\n",
       "      <th>online_security</th>\n",
       "      <th></th>\n",
       "      <th></th>\n",
       "    </tr>\n",
       "  </thead>\n",
       "  <tbody>\n",
       "    <tr>\n",
       "      <th>No</th>\n",
       "      <td>1099</td>\n",
       "      <td>819</td>\n",
       "    </tr>\n",
       "    <tr>\n",
       "      <th>No internet service</th>\n",
       "      <td>803</td>\n",
       "      <td>64</td>\n",
       "    </tr>\n",
       "    <tr>\n",
       "      <th>Yes</th>\n",
       "      <td>989</td>\n",
       "      <td>163</td>\n",
       "    </tr>\n",
       "  </tbody>\n",
       "</table>\n",
       "</div>"
      ],
      "text/plain": [
       "churn                  No  Yes\n",
       "online_security               \n",
       "No                   1099  819\n",
       "No internet service   803   64\n",
       "Yes                   989  163"
      ]
     },
     "execution_count": 45,
     "metadata": {},
     "output_type": "execute_result"
    }
   ],
   "source": [
    "online_security_customer = pd.crosstab(train.online_security, train.churn)\n",
    "online_security_customer"
   ]
  },
  {
   "cell_type": "code",
   "execution_count": 46,
   "id": "99396204",
   "metadata": {},
   "outputs": [
    {
     "name": "stdout",
     "output_type": "stream",
     "text": [
      "[[1408.41706883  509.58293117]\n",
      " [ 636.6515113   230.3484887 ]\n",
      " [ 845.93141986  306.06858014]]\n",
      "p-val: 1.3862996282206897e-111\n"
     ]
    }
   ],
   "source": [
    "chi2, online_security, degf, expected_online_security = stats.chi2_contingency(online_security_customer)\n",
    "print(expected_online_security)\n",
    "print(f\"p-val: {online_security}\")"
   ]
  },
  {
   "cell_type": "code",
   "execution_count": 47,
   "id": "93fc6517",
   "metadata": {},
   "outputs": [
    {
     "name": "stdout",
     "output_type": "stream",
     "text": [
      "We reject the null hypothesis.\n"
     ]
    }
   ],
   "source": [
    "if online_security < alpha:\n",
    "    print(\"We reject the null hypothesis.\")\n",
    "else:\n",
    "    print(\"We fail to reject the null hypothesis.\")"
   ]
  },
  {
   "cell_type": "markdown",
   "id": "8f959bec",
   "metadata": {},
   "source": [
    "### Tech Support"
   ]
  },
  {
   "cell_type": "markdown",
   "id": "32d48c0a",
   "metadata": {},
   "source": [
    "Initial Hypothesis: \n",
    "- H_0: Rate of churn is independent of having tech support. \n",
    "- H_a: Rate of churn is not independent of having tech support. "
   ]
  },
  {
   "cell_type": "code",
   "execution_count": 48,
   "id": "004f9c18",
   "metadata": {},
   "outputs": [
    {
     "data": {
      "text/html": [
       "<div>\n",
       "<style scoped>\n",
       "    .dataframe tbody tr th:only-of-type {\n",
       "        vertical-align: middle;\n",
       "    }\n",
       "\n",
       "    .dataframe tbody tr th {\n",
       "        vertical-align: top;\n",
       "    }\n",
       "\n",
       "    .dataframe thead th {\n",
       "        text-align: right;\n",
       "    }\n",
       "</style>\n",
       "<table border=\"1\" class=\"dataframe\">\n",
       "  <thead>\n",
       "    <tr style=\"text-align: right;\">\n",
       "      <th>churn</th>\n",
       "      <th>No</th>\n",
       "      <th>Yes</th>\n",
       "    </tr>\n",
       "    <tr>\n",
       "      <th>tech_support</th>\n",
       "      <th></th>\n",
       "      <th></th>\n",
       "    </tr>\n",
       "  </thead>\n",
       "  <tbody>\n",
       "    <tr>\n",
       "      <th>No</th>\n",
       "      <td>1126</td>\n",
       "      <td>805</td>\n",
       "    </tr>\n",
       "    <tr>\n",
       "      <th>No internet service</th>\n",
       "      <td>803</td>\n",
       "      <td>64</td>\n",
       "    </tr>\n",
       "    <tr>\n",
       "      <th>Yes</th>\n",
       "      <td>962</td>\n",
       "      <td>177</td>\n",
       "    </tr>\n",
       "  </tbody>\n",
       "</table>\n",
       "</div>"
      ],
      "text/plain": [
       "churn                  No  Yes\n",
       "tech_support                  \n",
       "No                   1126  805\n",
       "No internet service   803   64\n",
       "Yes                   962  177"
      ]
     },
     "execution_count": 48,
     "metadata": {},
     "output_type": "execute_result"
    }
   ],
   "source": [
    "tech_support_customer = pd.crosstab(train.tech_support, train.churn)\n",
    "tech_support_customer "
   ]
  },
  {
   "cell_type": "code",
   "execution_count": 49,
   "id": "176249bd",
   "metadata": {},
   "outputs": [
    {
     "name": "stdout",
     "output_type": "stream",
     "text": [
      "[[1417.96316993  513.03683007]\n",
      " [ 636.6515113   230.3484887 ]\n",
      " [ 836.38531877  302.61468123]]\n",
      "p-val: 8.373959266633126e-101\n"
     ]
    }
   ],
   "source": [
    "chi2, tech_support, degf, expected_tech_support = stats.chi2_contingency(tech_support_customer)\n",
    "print(expected_tech_support)\n",
    "print(f\"p-val: {tech_support}\")"
   ]
  },
  {
   "cell_type": "code",
   "execution_count": 50,
   "id": "d603c83a",
   "metadata": {},
   "outputs": [
    {
     "name": "stdout",
     "output_type": "stream",
     "text": [
      "We reject the null hypothesis.\n"
     ]
    }
   ],
   "source": [
    "if tech_support < alpha:\n",
    "    print(\"We reject the null hypothesis.\")\n",
    "else:\n",
    "    print(\"We fail to reject the null hypothesis.\")"
   ]
  },
  {
   "cell_type": "markdown",
   "id": "4fd39b37",
   "metadata": {},
   "source": [
    "### Online Backup "
   ]
  },
  {
   "cell_type": "markdown",
   "id": "f83b4371",
   "metadata": {},
   "source": [
    "Initial Hypothesis: \n",
    "- H_0: Rate of churn is independent of having online backup. \n",
    "- H_a: Rate of churn is not independent of having online backup. "
   ]
  },
  {
   "cell_type": "code",
   "execution_count": 51,
   "id": "5998e799",
   "metadata": {},
   "outputs": [
    {
     "data": {
      "text/html": [
       "<div>\n",
       "<style scoped>\n",
       "    .dataframe tbody tr th:only-of-type {\n",
       "        vertical-align: middle;\n",
       "    }\n",
       "\n",
       "    .dataframe tbody tr th {\n",
       "        vertical-align: top;\n",
       "    }\n",
       "\n",
       "    .dataframe thead th {\n",
       "        text-align: right;\n",
       "    }\n",
       "</style>\n",
       "<table border=\"1\" class=\"dataframe\">\n",
       "  <thead>\n",
       "    <tr style=\"text-align: right;\">\n",
       "      <th>churn</th>\n",
       "      <th>No</th>\n",
       "      <th>Yes</th>\n",
       "    </tr>\n",
       "    <tr>\n",
       "      <th>online_backup</th>\n",
       "      <th></th>\n",
       "      <th></th>\n",
       "    </tr>\n",
       "  </thead>\n",
       "  <tbody>\n",
       "    <tr>\n",
       "      <th>No</th>\n",
       "      <td>1023</td>\n",
       "      <td>674</td>\n",
       "    </tr>\n",
       "    <tr>\n",
       "      <th>No internet service</th>\n",
       "      <td>803</td>\n",
       "      <td>64</td>\n",
       "    </tr>\n",
       "    <tr>\n",
       "      <th>Yes</th>\n",
       "      <td>1065</td>\n",
       "      <td>308</td>\n",
       "    </tr>\n",
       "  </tbody>\n",
       "</table>\n",
       "</div>"
      ],
      "text/plain": [
       "churn                  No  Yes\n",
       "online_backup                 \n",
       "No                   1023  674\n",
       "No internet service   803   64\n",
       "Yes                  1065  308"
      ]
     },
     "execution_count": 51,
     "metadata": {},
     "output_type": "execute_result"
    }
   ],
   "source": [
    "online_backup_customer = pd.crosstab(train.online_backup, train.churn)\n",
    "online_backup_customer "
   ]
  },
  {
   "cell_type": "code",
   "execution_count": 52,
   "id": "2c16aee7",
   "metadata": {},
   "outputs": [
    {
     "name": "stdout",
     "output_type": "stream",
     "text": [
      "[[1246.13335027  450.86664973]\n",
      " [ 636.6515113   230.3484887 ]\n",
      " [1008.21513843  364.78486157]]\n",
      "p-val: 1.6093415124241013e-71\n"
     ]
    }
   ],
   "source": [
    "chi2, online_backup, degf, expected_online_backup = stats.chi2_contingency(online_backup_customer)\n",
    "print(expected_online_backup)\n",
    "print(f\"p-val: {online_backup}\")"
   ]
  },
  {
   "cell_type": "code",
   "execution_count": 53,
   "id": "c48f7d6b",
   "metadata": {},
   "outputs": [
    {
     "name": "stdout",
     "output_type": "stream",
     "text": [
      "We reject the null hypothesis.\n"
     ]
    }
   ],
   "source": [
    "if online_backup < alpha:\n",
    "    print(\"We reject the null hypothesis.\")\n",
    "else:\n",
    "    print(\"We fail to reject the null hypothesis.\")"
   ]
  },
  {
   "cell_type": "markdown",
   "id": "d7edb3fc",
   "metadata": {},
   "source": [
    "### Device Protection"
   ]
  },
  {
   "cell_type": "markdown",
   "id": "a93c8b2f",
   "metadata": {},
   "source": [
    "Initial Hypothesis: \n",
    "- H_0: Rate of churn is independent of having device protection. \n",
    "- H_a: Rate of churn is not independent of having device protection. "
   ]
  },
  {
   "cell_type": "code",
   "execution_count": 54,
   "id": "f34082c7",
   "metadata": {},
   "outputs": [
    {
     "data": {
      "text/html": [
       "<div>\n",
       "<style scoped>\n",
       "    .dataframe tbody tr th:only-of-type {\n",
       "        vertical-align: middle;\n",
       "    }\n",
       "\n",
       "    .dataframe tbody tr th {\n",
       "        vertical-align: top;\n",
       "    }\n",
       "\n",
       "    .dataframe thead th {\n",
       "        text-align: right;\n",
       "    }\n",
       "</style>\n",
       "<table border=\"1\" class=\"dataframe\">\n",
       "  <thead>\n",
       "    <tr style=\"text-align: right;\">\n",
       "      <th>churn</th>\n",
       "      <th>No</th>\n",
       "      <th>Yes</th>\n",
       "    </tr>\n",
       "    <tr>\n",
       "      <th>device_protection</th>\n",
       "      <th></th>\n",
       "      <th></th>\n",
       "    </tr>\n",
       "  </thead>\n",
       "  <tbody>\n",
       "    <tr>\n",
       "      <th>No</th>\n",
       "      <td>1027</td>\n",
       "      <td>666</td>\n",
       "    </tr>\n",
       "    <tr>\n",
       "      <th>No internet service</th>\n",
       "      <td>803</td>\n",
       "      <td>64</td>\n",
       "    </tr>\n",
       "    <tr>\n",
       "      <th>Yes</th>\n",
       "      <td>1061</td>\n",
       "      <td>316</td>\n",
       "    </tr>\n",
       "  </tbody>\n",
       "</table>\n",
       "</div>"
      ],
      "text/plain": [
       "churn                  No  Yes\n",
       "device_protection             \n",
       "No                   1027  666\n",
       "No internet service   803   64\n",
       "Yes                  1061  316"
      ]
     },
     "execution_count": 54,
     "metadata": {},
     "output_type": "execute_result"
    }
   ],
   "source": [
    "device_protected_customer = pd.crosstab(train.device_protection, train.churn)\n",
    "device_protected_customer"
   ]
  },
  {
   "cell_type": "code",
   "execution_count": 55,
   "id": "aa3b441f",
   "metadata": {},
   "outputs": [
    {
     "name": "stdout",
     "output_type": "stream",
     "text": [
      "[[1243.19608839  449.80391161]\n",
      " [ 636.6515113   230.3484887 ]\n",
      " [1011.1524003   365.8475997 ]]\n",
      "p-val: 5.47884290275652e-69\n"
     ]
    }
   ],
   "source": [
    "chi2, device_protection, degf, expected_device_protection = stats.chi2_contingency(device_protected_customer)\n",
    "print(expected_device_protection)\n",
    "print(f\"p-val: {device_protection}\")"
   ]
  },
  {
   "cell_type": "code",
   "execution_count": 56,
   "id": "10fc3660",
   "metadata": {},
   "outputs": [
    {
     "name": "stdout",
     "output_type": "stream",
     "text": [
      "We reject the null hypothesis.\n"
     ]
    }
   ],
   "source": [
    "if device_protection < alpha:\n",
    "    print(\"We reject the null hypothesis.\")\n",
    "else:\n",
    "    print(\"We fail to reject the null hypothesis.\")"
   ]
  },
  {
   "cell_type": "markdown",
   "id": "54ccc18f",
   "metadata": {},
   "source": [
    "### Tech Support New Customer "
   ]
  },
  {
   "cell_type": "markdown",
   "id": "6e4a240d",
   "metadata": {},
   "source": [
    "Initial Hypothesis: \n",
    "- H_0: Rate of churn for new customers is independent of having tech support. \n",
    "- H_a: Rate of churn for new customers is not independent of having tech support. "
   ]
  },
  {
   "cell_type": "code",
   "execution_count": 221,
   "id": "e6254a50",
   "metadata": {},
   "outputs": [
    {
     "data": {
      "text/html": [
       "<div>\n",
       "<style scoped>\n",
       "    .dataframe tbody tr th:only-of-type {\n",
       "        vertical-align: middle;\n",
       "    }\n",
       "\n",
       "    .dataframe tbody tr th {\n",
       "        vertical-align: top;\n",
       "    }\n",
       "\n",
       "    .dataframe thead th {\n",
       "        text-align: right;\n",
       "    }\n",
       "</style>\n",
       "<table border=\"1\" class=\"dataframe\">\n",
       "  <thead>\n",
       "    <tr style=\"text-align: right;\">\n",
       "      <th>churn</th>\n",
       "      <th>No</th>\n",
       "      <th>Yes</th>\n",
       "    </tr>\n",
       "    <tr>\n",
       "      <th>tech_support</th>\n",
       "      <th></th>\n",
       "      <th></th>\n",
       "    </tr>\n",
       "  </thead>\n",
       "  <tbody>\n",
       "    <tr>\n",
       "      <th>No</th>\n",
       "      <td>116</td>\n",
       "      <td>269</td>\n",
       "    </tr>\n",
       "    <tr>\n",
       "      <th>No internet service</th>\n",
       "      <td>97</td>\n",
       "      <td>44</td>\n",
       "    </tr>\n",
       "    <tr>\n",
       "      <th>Yes</th>\n",
       "      <td>32</td>\n",
       "      <td>20</td>\n",
       "    </tr>\n",
       "  </tbody>\n",
       "</table>\n",
       "</div>"
      ],
      "text/plain": [
       "churn                 No  Yes\n",
       "tech_support                 \n",
       "No                   116  269\n",
       "No internet service   97   44\n",
       "Yes                   32   20"
      ]
     },
     "execution_count": 221,
     "metadata": {},
     "output_type": "execute_result"
    }
   ],
   "source": [
    "tech_support_customer = pd.crosstab(new_customers.tech_support, new_customers.churn)\n",
    "tech_support_customer "
   ]
  },
  {
   "cell_type": "code",
   "execution_count": 222,
   "id": "5cf040de",
   "metadata": {},
   "outputs": [
    {
     "name": "stdout",
     "output_type": "stream",
     "text": [
      "[[163.19204152 221.80795848]\n",
      " [ 59.76643599  81.23356401]\n",
      " [ 22.04152249  29.95847751]]\n",
      "p-val: 2.6162287495568325e-16\n"
     ]
    }
   ],
   "source": [
    "chi2, tech_support, degf, expected_tech_support = stats.chi2_contingency(tech_support_customer)\n",
    "print(expected_tech_support)\n",
    "print(f\"p-val: {tech_support}\")"
   ]
  },
  {
   "cell_type": "code",
   "execution_count": 223,
   "id": "f78e2720",
   "metadata": {},
   "outputs": [
    {
     "name": "stdout",
     "output_type": "stream",
     "text": [
      "We reject the null hypothesis.\n"
     ]
    }
   ],
   "source": [
    "if tech_support < alpha:\n",
    "    print(\"We reject the null hypothesis.\")\n",
    "else:\n",
    "    print(\"We fail to reject the null hypothesis.\")"
   ]
  },
  {
   "cell_type": "markdown",
   "id": "de111cfa",
   "metadata": {},
   "source": [
    "### Senior Citizen New Customer"
   ]
  },
  {
   "cell_type": "markdown",
   "id": "9797c950",
   "metadata": {},
   "source": [
    "Initial Hypothesis: \n",
    "- H_0: Rate of churn for new customers is independent of being a senior citizen. \n",
    "- H_a: Rate of churn for new customers is not independent of being a senior citizen. "
   ]
  },
  {
   "cell_type": "code",
   "execution_count": 224,
   "id": "a6b1c733",
   "metadata": {},
   "outputs": [
    {
     "data": {
      "text/html": [
       "<div>\n",
       "<style scoped>\n",
       "    .dataframe tbody tr th:only-of-type {\n",
       "        vertical-align: middle;\n",
       "    }\n",
       "\n",
       "    .dataframe tbody tr th {\n",
       "        vertical-align: top;\n",
       "    }\n",
       "\n",
       "    .dataframe thead th {\n",
       "        text-align: right;\n",
       "    }\n",
       "</style>\n",
       "<table border=\"1\" class=\"dataframe\">\n",
       "  <thead>\n",
       "    <tr style=\"text-align: right;\">\n",
       "      <th>churn</th>\n",
       "      <th>No</th>\n",
       "      <th>Yes</th>\n",
       "    </tr>\n",
       "    <tr>\n",
       "      <th>senior_citizen</th>\n",
       "      <th></th>\n",
       "      <th></th>\n",
       "    </tr>\n",
       "  </thead>\n",
       "  <tbody>\n",
       "    <tr>\n",
       "      <th>0</th>\n",
       "      <td>232</td>\n",
       "      <td>266</td>\n",
       "    </tr>\n",
       "    <tr>\n",
       "      <th>1</th>\n",
       "      <td>13</td>\n",
       "      <td>67</td>\n",
       "    </tr>\n",
       "  </tbody>\n",
       "</table>\n",
       "</div>"
      ],
      "text/plain": [
       "churn            No  Yes\n",
       "senior_citizen          \n",
       "0               232  266\n",
       "1                13   67"
      ]
     },
     "execution_count": 224,
     "metadata": {},
     "output_type": "execute_result"
    }
   ],
   "source": [
    "senior_citizen_customer = pd.crosstab(new_customers.senior_citizen, new_customers.churn)\n",
    "senior_citizen_customer"
   ]
  },
  {
   "cell_type": "code",
   "execution_count": 225,
   "id": "a57560b6",
   "metadata": {},
   "outputs": [
    {
     "name": "stdout",
     "output_type": "stream",
     "text": [
      "[[211.0899654 286.9100346]\n",
      " [ 33.9100346  46.0899654]]\n",
      "p-val: 6.533416300990865e-07\n"
     ]
    }
   ],
   "source": [
    "chi2, senior, degf, expected_senior = stats.chi2_contingency(senior_citizen_customer)\n",
    "print(expected_senior)\n",
    "print(f\"p-val: {senior}\")"
   ]
  },
  {
   "cell_type": "code",
   "execution_count": 226,
   "id": "aa2cbaaa",
   "metadata": {},
   "outputs": [
    {
     "name": "stdout",
     "output_type": "stream",
     "text": [
      "We reject the null hypothesis.\n"
     ]
    }
   ],
   "source": [
    "if senior < alpha:\n",
    "    print(\"We reject the null hypothesis.\")\n",
    "else:\n",
    "    print(\"We fail to reject the null hypothesis.\")"
   ]
  },
  {
   "cell_type": "markdown",
   "id": "3f31ff2a",
   "metadata": {},
   "source": [
    "Takeaways: "
   ]
  },
  {
   "cell_type": "markdown",
   "id": "9a0e69cf",
   "metadata": {},
   "source": [
    "# Modeling\n"
   ]
  },
  {
   "cell_type": "markdown",
   "id": "dc101a41",
   "metadata": {},
   "source": [
    "Baseline Model"
   ]
  },
  {
   "cell_type": "markdown",
   "id": "f8066ee9",
   "metadata": {},
   "source": [
    "Because approximately 27% of customers churn, the baseline model is 1-0.27 = 0.73"
   ]
  },
  {
   "cell_type": "markdown",
   "id": "9d45ca87",
   "metadata": {},
   "source": [
    "# Decision Trees "
   ]
  },
  {
   "cell_type": "markdown",
   "id": "56d83727",
   "metadata": {},
   "source": [
    "### Under 90 day customer"
   ]
  },
  {
   "cell_type": "code",
   "execution_count": 56,
   "id": "2dcbd238",
   "metadata": {},
   "outputs": [],
   "source": [
    "from sklearn.tree import DecisionTreeClassifier, plot_tree"
   ]
  },
  {
   "cell_type": "code",
   "execution_count": 57,
   "id": "cffe3fcd",
   "metadata": {},
   "outputs": [],
   "source": [
    "clf = DecisionTreeClassifier(max_depth=3, random_state=123)"
   ]
  },
  {
   "cell_type": "code",
   "execution_count": 58,
   "id": "92fdba0d",
   "metadata": {},
   "outputs": [],
   "source": [
    "\n",
    "X_train_new = X_train_new.drop(columns=['tenure_bin'])\n"
   ]
  },
  {
   "cell_type": "code",
   "execution_count": 59,
   "id": "c5f2f061",
   "metadata": {},
   "outputs": [],
   "source": [
    "y_train_new = y_train_new.drop(columns=['tenure_bin'])\n"
   ]
  },
  {
   "cell_type": "code",
   "execution_count": 60,
   "id": "b75a5532",
   "metadata": {},
   "outputs": [],
   "source": [
    "clf = clf.fit(X_train_new, y_train_new)"
   ]
  },
  {
   "cell_type": "code",
   "execution_count": 61,
   "id": "6a67683c",
   "metadata": {},
   "outputs": [
    {
     "data": {
      "text/plain": [
       "[Text(418.5, 428.08500000000004, 'online_security <= 0.5\\ngini = 0.491\\nsamples = 588\\nvalue = [254, 334]\\nclass = 1'),\n",
       " Text(209.25, 305.775, 'internet_service_type_id <= 1.5\\ngini = 0.431\\nsamples = 407\\nvalue = [128, 279]\\nclass = 1'),\n",
       " Text(104.625, 183.46500000000003, 'total_charges <= 194.125\\ngini = 0.492\\nsamples = 176\\nvalue = [77, 99]\\nclass = 1'),\n",
       " Text(52.3125, 61.15499999999997, 'gini = 0.489\\nsamples = 172\\nvalue = [73, 99]\\nclass = 1'),\n",
       " Text(156.9375, 61.15499999999997, 'gini = 0.0\\nsamples = 4\\nvalue = [4, 0]\\nclass = 0'),\n",
       " Text(313.875, 183.46500000000003, 'total_charges <= 120.0\\ngini = 0.344\\nsamples = 231\\nvalue = [51, 180]\\nclass = 1'),\n",
       " Text(261.5625, 61.15499999999997, 'gini = 0.198\\nsamples = 126\\nvalue = [14, 112]\\nclass = 1'),\n",
       " Text(366.1875, 61.15499999999997, 'gini = 0.456\\nsamples = 105\\nvalue = [37, 68]\\nclass = 1'),\n",
       " Text(627.75, 305.775, 'paperless_billing <= 0.5\\ngini = 0.423\\nsamples = 181\\nvalue = [126, 55]\\nclass = 0'),\n",
       " Text(523.125, 183.46500000000003, 'tenure <= 1.5\\ngini = 0.497\\nsamples = 72\\nvalue = [39, 33]\\nclass = 0'),\n",
       " Text(470.8125, 61.15499999999997, 'gini = 0.48\\nsamples = 40\\nvalue = [16, 24]\\nclass = 1'),\n",
       " Text(575.4375, 61.15499999999997, 'gini = 0.404\\nsamples = 32\\nvalue = [23, 9]\\nclass = 0'),\n",
       " Text(732.375, 183.46500000000003, 'total_charges <= 36.35\\ngini = 0.322\\nsamples = 109\\nvalue = [87, 22]\\nclass = 0'),\n",
       " Text(680.0625, 61.15499999999997, 'gini = 0.422\\nsamples = 66\\nvalue = [46, 20]\\nclass = 0'),\n",
       " Text(784.6875, 61.15499999999997, 'gini = 0.089\\nsamples = 43\\nvalue = [41, 2]\\nclass = 0')]"
      ]
     },
     "execution_count": 61,
     "metadata": {},
     "output_type": "execute_result"
    },
    {
     "data": {
      "image/png": "[encoded data removed]",
      "text/plain": [
       "<Figure size 1080x648 with 1 Axes>"
      ]
     },
     "metadata": {
      "needs_background": "light"
     },
     "output_type": "display_data"
    }
   ],
   "source": [
    "plt.figure(figsize=(15,9))\n",
    "plot_tree(clf, feature_names=X_train_new.columns, class_names=clf.classes_.astype(str), rounded=True)"
   ]
  },
  {
   "cell_type": "code",
   "execution_count": 62,
   "id": "1495df7c",
   "metadata": {},
   "outputs": [
    {
     "data": {
      "text/plain": [
       "array([1, 0, 1, 0, 0])"
      ]
     },
     "execution_count": 62,
     "metadata": {},
     "output_type": "execute_result"
    }
   ],
   "source": [
    "y_pred = clf.predict(X_train_new)\n",
    "y_pred[0:5]"
   ]
  },
  {
   "cell_type": "code",
   "execution_count": 63,
   "id": "e5fd0412",
   "metadata": {},
   "outputs": [
    {
     "data": {
      "text/plain": [
       "array([[0.4244186 , 0.5755814 ],\n",
       "       [0.95348837, 0.04651163],\n",
       "       [0.4       , 0.6       ],\n",
       "       [0.6969697 , 0.3030303 ],\n",
       "       [0.95348837, 0.04651163]])"
      ]
     },
     "execution_count": 63,
     "metadata": {},
     "output_type": "execute_result"
    }
   ],
   "source": [
    "y_pred_proba = clf.predict_proba(X_train_new)\n",
    "y_pred_proba[0:5]"
   ]
  },
  {
   "cell_type": "code",
   "execution_count": 64,
   "id": "bf84fcc5",
   "metadata": {},
   "outputs": [
    {
     "name": "stdout",
     "output_type": "stream",
     "text": [
      "              precision    recall  f1-score   support\n",
      "\n",
      "           0       0.79      0.45      0.57       254\n",
      "           1       0.68      0.91      0.78       334\n",
      "\n",
      "    accuracy                           0.71       588\n",
      "   macro avg       0.74      0.68      0.68       588\n",
      "weighted avg       0.73      0.71      0.69       588\n",
      "\n"
     ]
    }
   ],
   "source": [
    "print(classification_report(y_train_new, y_pred))"
   ]
  },
  {
   "cell_type": "code",
   "execution_count": 65,
   "id": "0cd8f51f",
   "metadata": {},
   "outputs": [
    {
     "data": {
      "text/plain": [
       "Index(['online_security', 'total_charges', 'internet_service_type_id',\n",
       "       'paperless_billing', 'tenure', 'contract_type_id', 'gender',\n",
       "       'senior_citizen', 'partner', 'dependents', 'multiple_lines',\n",
       "       'phone_service', 'monthly_charges', 'online_backup',\n",
       "       'device_protection', 'tech_support', 'streaming_tv', 'streaming_movies',\n",
       "       'payment_type_id'],\n",
       "      dtype='object')"
      ]
     },
     "execution_count": 65,
     "metadata": {},
     "output_type": "execute_result"
    }
   ],
   "source": [
    "X_train_new.columns[clf.feature_importances_.argsort()[::-1]]"
   ]
  },
  {
   "cell_type": "code",
   "execution_count": 66,
   "id": "548de2ac",
   "metadata": {},
   "outputs": [],
   "source": [
    "X_validate_new = X_validate_new.drop(columns=['tenure_bin'])"
   ]
  },
  {
   "cell_type": "code",
   "execution_count": 67,
   "id": "57a772b3",
   "metadata": {},
   "outputs": [],
   "source": [
    "y_validate_new = y_validate_new.drop(columns=['tenure_bin'])"
   ]
  },
  {
   "cell_type": "code",
   "execution_count": 68,
   "id": "6b8635b0",
   "metadata": {},
   "outputs": [
    {
     "name": "stdout",
     "output_type": "stream",
     "text": [
      "Accuracy of random forest classifier on test set: 0.64\n"
     ]
    }
   ],
   "source": [
    "print('Accuracy of random forest classifier on test set: {:.2f}'\n",
    "     .format(clf.score(X_validate_new, y_validate_new)))"
   ]
  },
  {
   "cell_type": "markdown",
   "id": "f85c5648",
   "metadata": {},
   "source": [
    "### New Customer Precision Decision Tree 0.73"
   ]
  },
  {
   "cell_type": "markdown",
   "id": "fe3c7a87",
   "metadata": {},
   "source": [
    "### Over 90 day customer"
   ]
  },
  {
   "cell_type": "code",
   "execution_count": 69,
   "id": "9e438046",
   "metadata": {},
   "outputs": [],
   "source": [
    "dlf = DecisionTreeClassifier(max_depth=3, random_state=123)"
   ]
  },
  {
   "cell_type": "code",
   "execution_count": 70,
   "id": "0ba292fb",
   "metadata": {},
   "outputs": [],
   "source": [
    "X_train_old = X_train_old.drop(columns=['tenure_bin'])"
   ]
  },
  {
   "cell_type": "code",
   "execution_count": 71,
   "id": "d6bded32",
   "metadata": {},
   "outputs": [],
   "source": [
    "y_train_old = y_train_old.drop(columns=['tenure_bin'])"
   ]
  },
  {
   "cell_type": "code",
   "execution_count": 72,
   "id": "7423edee",
   "metadata": {},
   "outputs": [],
   "source": [
    "dlf = dlf.fit(X_train_old, y_train_old)"
   ]
  },
  {
   "cell_type": "code",
   "execution_count": 73,
   "id": "d3ee9d21",
   "metadata": {},
   "outputs": [
    {
     "data": {
      "text/plain": [
       "[Text(418.5, 428.08500000000004, 'contract_type_id <= 1.5\\ngini = 0.335\\nsamples = 3348\\nvalue = [2636, 712]\\nclass = 0'),\n",
       " Text(209.25, 305.775, 'monthly_charges <= 69.975\\ngini = 0.466\\nsamples = 1628\\nvalue = [1026, 602]\\nclass = 0'),\n",
       " Text(104.625, 183.46500000000003, 'tenure <= 6.5\\ngini = 0.331\\nsamples = 664\\nvalue = [525, 139]\\nclass = 0'),\n",
       " Text(52.3125, 61.15499999999997, 'gini = 0.476\\nsamples = 115\\nvalue = [70, 45]\\nclass = 0'),\n",
       " Text(156.9375, 61.15499999999997, 'gini = 0.284\\nsamples = 549\\nvalue = [455, 94]\\nclass = 0'),\n",
       " Text(313.875, 183.46500000000003, 'tenure <= 15.5\\ngini = 0.499\\nsamples = 964\\nvalue = [501, 463]\\nclass = 0'),\n",
       " Text(261.5625, 61.15499999999997, 'gini = 0.463\\nsamples = 340\\nvalue = [124, 216]\\nclass = 1'),\n",
       " Text(366.1875, 61.15499999999997, 'gini = 0.478\\nsamples = 624\\nvalue = [377, 247]\\nclass = 0'),\n",
       " Text(627.75, 305.775, 'monthly_charges <= 95.225\\ngini = 0.12\\nsamples = 1720\\nvalue = [1610, 110]\\nclass = 0'),\n",
       " Text(523.125, 183.46500000000003, 'contract_type_id <= 2.5\\ngini = 0.074\\nsamples = 1324\\nvalue = [1273, 51]\\nclass = 0'),\n",
       " Text(470.8125, 61.15499999999997, 'gini = 0.134\\nsamples = 583\\nvalue = [541, 42]\\nclass = 0'),\n",
       " Text(575.4375, 61.15499999999997, 'gini = 0.024\\nsamples = 741\\nvalue = [732, 9]\\nclass = 0'),\n",
       " Text(732.375, 183.46500000000003, 'tenure <= 20.5\\ngini = 0.254\\nsamples = 396\\nvalue = [337, 59]\\nclass = 0'),\n",
       " Text(680.0625, 61.15499999999997, 'gini = 0.408\\nsamples = 7\\nvalue = [2, 5]\\nclass = 1'),\n",
       " Text(784.6875, 61.15499999999997, 'gini = 0.239\\nsamples = 389\\nvalue = [335, 54]\\nclass = 0')]"
      ]
     },
     "execution_count": 73,
     "metadata": {},
     "output_type": "execute_result"
    },
    {
     "data": {
      "image/png": "[encoded data removed]",
      "text/plain": [
       "<Figure size 1080x648 with 1 Axes>"
      ]
     },
     "metadata": {
      "needs_background": "light"
     },
     "output_type": "display_data"
    }
   ],
   "source": [
    "plt.figure(figsize=(15,9))\n",
    "plot_tree(dlf, feature_names=X_train_old.columns, class_names=dlf.classes_.astype(str), rounded=True)"
   ]
  },
  {
   "cell_type": "code",
   "execution_count": 74,
   "id": "0eae1106",
   "metadata": {},
   "outputs": [
    {
     "data": {
      "text/plain": [
       "array([0, 0, 0, 1, 0])"
      ]
     },
     "execution_count": 74,
     "metadata": {},
     "output_type": "execute_result"
    }
   ],
   "source": [
    "y_pred = dlf.predict(X_train_old)\n",
    "y_pred[0:5]"
   ]
  },
  {
   "cell_type": "code",
   "execution_count": 75,
   "id": "39784aec",
   "metadata": {},
   "outputs": [
    {
     "data": {
      "text/plain": [
       "array([[0.60416667, 0.39583333],\n",
       "       [0.60416667, 0.39583333],\n",
       "       [0.98785425, 0.01214575],\n",
       "       [0.36470588, 0.63529412],\n",
       "       [0.92795883, 0.07204117]])"
      ]
     },
     "execution_count": 75,
     "metadata": {},
     "output_type": "execute_result"
    }
   ],
   "source": [
    "y_pred_proba = dlf.predict_proba(X_train_old)\n",
    "y_pred_proba[0:5]"
   ]
  },
  {
   "cell_type": "code",
   "execution_count": 76,
   "id": "1297e808",
   "metadata": {},
   "outputs": [
    {
     "name": "stdout",
     "output_type": "stream",
     "text": [
      "              precision    recall  f1-score   support\n",
      "\n",
      "           0       0.84      0.95      0.89      2636\n",
      "           1       0.64      0.31      0.42       712\n",
      "\n",
      "    accuracy                           0.82      3348\n",
      "   macro avg       0.74      0.63      0.65      3348\n",
      "weighted avg       0.79      0.82      0.79      3348\n",
      "\n"
     ]
    }
   ],
   "source": [
    "print(classification_report(y_train_old, y_pred))"
   ]
  },
  {
   "cell_type": "code",
   "execution_count": 77,
   "id": "ea373d33",
   "metadata": {},
   "outputs": [
    {
     "data": {
      "text/plain": [
       "Index(['contract_type_id', 'monthly_charges', 'tenure', 'total_charges',\n",
       "       'phone_service', 'internet_service_type_id', 'gender', 'senior_citizen',\n",
       "       'partner', 'dependents', 'multiple_lines', 'online_security',\n",
       "       'online_backup', 'device_protection', 'tech_support', 'streaming_tv',\n",
       "       'streaming_movies', 'paperless_billing', 'payment_type_id'],\n",
       "      dtype='object')"
      ]
     },
     "execution_count": 77,
     "metadata": {},
     "output_type": "execute_result"
    }
   ],
   "source": [
    "X_train_old.columns[dlf.feature_importances_.argsort()[::-1]]"
   ]
  },
  {
   "cell_type": "code",
   "execution_count": 78,
   "id": "acf25da4",
   "metadata": {},
   "outputs": [],
   "source": [
    "X_validate_old = X_validate_old.drop(columns=['tenure_bin'])"
   ]
  },
  {
   "cell_type": "code",
   "execution_count": 79,
   "id": "3233be25",
   "metadata": {},
   "outputs": [],
   "source": [
    "y_validate_old = y_validate_old.drop(columns=['tenure_bin'])"
   ]
  },
  {
   "cell_type": "code",
   "execution_count": 80,
   "id": "b95212b2",
   "metadata": {},
   "outputs": [
    {
     "name": "stdout",
     "output_type": "stream",
     "text": [
      "Accuracy of random forest classifier on test set: 0.81\n"
     ]
    }
   ],
   "source": [
    "print('Accuracy of random forest classifier on test set: {:.2f}'\n",
    "     .format(dlf.score(X_validate_old, y_validate_old)))"
   ]
  },
  {
   "cell_type": "markdown",
   "id": "b8be7236",
   "metadata": {},
   "source": [
    "### Old Customer Decision Tree Precision: 0.64"
   ]
  },
  {
   "cell_type": "markdown",
   "id": "6bd0e471",
   "metadata": {},
   "source": [
    "### Random Forest"
   ]
  },
  {
   "cell_type": "markdown",
   "id": "aab902fc",
   "metadata": {},
   "source": [
    "### Under 90 day customer"
   ]
  },
  {
   "cell_type": "code",
   "execution_count": 81,
   "id": "f9c8a296",
   "metadata": {},
   "outputs": [],
   "source": [
    "af = RandomForestClassifier(bootstrap=True, \n",
    "                            class_weight=None, \n",
    "                            criterion='gini',\n",
    "                            min_samples_leaf=1,\n",
    "                            n_estimators=100,\n",
    "                            max_depth=10, \n",
    "                            random_state=123)"
   ]
  },
  {
   "cell_type": "code",
   "execution_count": 82,
   "id": "7b1d9271",
   "metadata": {},
   "outputs": [
    {
     "data": {
      "text/plain": [
       "RandomForestClassifier(max_depth=10, random_state=123)"
      ]
     },
     "execution_count": 82,
     "metadata": {},
     "output_type": "execute_result"
    }
   ],
   "source": [
    "af.fit(X_train_new, y_train_new)"
   ]
  },
  {
   "cell_type": "code",
   "execution_count": 83,
   "id": "7abaaee1",
   "metadata": {},
   "outputs": [
    {
     "data": {
      "text/plain": [
       "Index(['total_charges', 'monthly_charges', 'payment_type_id',\n",
       "       'paperless_billing', 'tenure', 'online_backup', 'online_security',\n",
       "       'internet_service_type_id', 'tech_support', 'streaming_movies',\n",
       "       'gender', 'multiple_lines', 'device_protection', 'streaming_tv',\n",
       "       'senior_citizen', 'dependents', 'partner', 'phone_service',\n",
       "       'contract_type_id'],\n",
       "      dtype='object')"
      ]
     },
     "execution_count": 83,
     "metadata": {},
     "output_type": "execute_result"
    }
   ],
   "source": [
    "X_train_new.columns[af.feature_importances_.argsort()[::-1]]"
   ]
  },
  {
   "cell_type": "code",
   "execution_count": 84,
   "id": "b93733aa",
   "metadata": {},
   "outputs": [],
   "source": [
    "y_pred = af.predict(X_train_new)"
   ]
  },
  {
   "cell_type": "code",
   "execution_count": 85,
   "id": "7097e08b",
   "metadata": {},
   "outputs": [],
   "source": [
    "y_pred_proba = af.predict_proba(X_train_new)"
   ]
  },
  {
   "cell_type": "code",
   "execution_count": 86,
   "id": "15fbbfa2",
   "metadata": {},
   "outputs": [
    {
     "name": "stdout",
     "output_type": "stream",
     "text": [
      "Accuracy of random forest classifier on training set: 0.96\n"
     ]
    }
   ],
   "source": [
    "print('Accuracy of random forest classifier on training set: {:.2f}'\n",
    "     .format(af.score(X_train_new, y_train_new)))"
   ]
  },
  {
   "cell_type": "code",
   "execution_count": 87,
   "id": "15fdaf0f",
   "metadata": {},
   "outputs": [
    {
     "name": "stdout",
     "output_type": "stream",
     "text": [
      "[[240  14]\n",
      " [ 10 324]]\n"
     ]
    },
    {
     "data": {
      "text/html": [
       "<div>\n",
       "<style scoped>\n",
       "    .dataframe tbody tr th:only-of-type {\n",
       "        vertical-align: middle;\n",
       "    }\n",
       "\n",
       "    .dataframe tbody tr th {\n",
       "        vertical-align: top;\n",
       "    }\n",
       "\n",
       "    .dataframe thead th {\n",
       "        text-align: right;\n",
       "    }\n",
       "</style>\n",
       "<table border=\"1\" class=\"dataframe\">\n",
       "  <thead>\n",
       "    <tr style=\"text-align: right;\">\n",
       "      <th></th>\n",
       "      <th>0</th>\n",
       "      <th>1</th>\n",
       "    </tr>\n",
       "  </thead>\n",
       "  <tbody>\n",
       "    <tr>\n",
       "      <th>0</th>\n",
       "      <td>240</td>\n",
       "      <td>14</td>\n",
       "    </tr>\n",
       "    <tr>\n",
       "      <th>1</th>\n",
       "      <td>10</td>\n",
       "      <td>324</td>\n",
       "    </tr>\n",
       "  </tbody>\n",
       "</table>\n",
       "</div>"
      ],
      "text/plain": [
       "     0    1\n",
       "0  240   14\n",
       "1   10  324"
      ]
     },
     "execution_count": 87,
     "metadata": {},
     "output_type": "execute_result"
    }
   ],
   "source": [
    "print(confusion_matrix(y_train_new, y_pred))\n",
    "y_train_new.value_counts()\n",
    "labels = sorted(y_train_new.unique())\n",
    "\n",
    "pd.DataFrame(confusion_matrix(y_train_new, y_pred), index=labels, columns=labels)"
   ]
  },
  {
   "cell_type": "code",
   "execution_count": 88,
   "id": "0fd7c87f",
   "metadata": {},
   "outputs": [
    {
     "name": "stdout",
     "output_type": "stream",
     "text": [
      "              precision    recall  f1-score   support\n",
      "\n",
      "           0       0.96      0.94      0.95       254\n",
      "           1       0.96      0.97      0.96       334\n",
      "\n",
      "    accuracy                           0.96       588\n",
      "   macro avg       0.96      0.96      0.96       588\n",
      "weighted avg       0.96      0.96      0.96       588\n",
      "\n"
     ]
    }
   ],
   "source": [
    "print(classification_report(y_train_new, y_pred))"
   ]
  },
  {
   "cell_type": "code",
   "execution_count": 89,
   "id": "5a429ac8",
   "metadata": {},
   "outputs": [
    {
     "name": "stdout",
     "output_type": "stream",
     "text": [
      "Accuracy of random forest classifier on test set: 0.66\n"
     ]
    }
   ],
   "source": [
    "print('Accuracy of random forest classifier on test set: {:.2f}'\n",
    "     .format(af.score(X_validate_new, y_validate_new)))"
   ]
  },
  {
   "cell_type": "markdown",
   "id": "89ea43a7",
   "metadata": {},
   "source": [
    "### New Customer Random Forest Precision: 0.95"
   ]
  },
  {
   "cell_type": "code",
   "execution_count": 101,
   "id": "f3fc4ea6",
   "metadata": {},
   "outputs": [],
   "source": [
    "X_test_new = X_test_new.drop(columns=['tenure_bin'])"
   ]
  },
  {
   "cell_type": "code",
   "execution_count": 100,
   "id": "6095a7f4",
   "metadata": {},
   "outputs": [],
   "source": [
    "y_test_new = y_test_new.drop(columns=['tenure_bin'])"
   ]
  },
  {
   "cell_type": "code",
   "execution_count": 102,
   "id": "271e5a89",
   "metadata": {},
   "outputs": [
    {
     "name": "stdout",
     "output_type": "stream",
     "text": [
      "Accuracy of random forest classifier on test set: 0.69\n"
     ]
    }
   ],
   "source": [
    "print('Accuracy of random forest classifier on test set: {:.2f}'\n",
    "     .format(af.score(X_test_new, y_test_new)))"
   ]
  },
  {
   "cell_type": "markdown",
   "id": "a1b1ed3f",
   "metadata": {},
   "source": [
    "### Over 90 day customer"
   ]
  },
  {
   "cell_type": "code",
   "execution_count": 112,
   "id": "3e4b7df4",
   "metadata": {},
   "outputs": [],
   "source": [
    "gf = RandomForestClassifier(bootstrap=True, \n",
    "                            class_weight=None, \n",
    "                            criterion='gini',\n",
    "                            min_samples_leaf=1,\n",
    "                            n_estimators=100,\n",
    "                            max_depth=10, \n",
    "                            random_state=123)"
   ]
  },
  {
   "cell_type": "code",
   "execution_count": 113,
   "id": "b8f4fc29",
   "metadata": {},
   "outputs": [
    {
     "data": {
      "text/plain": [
       "RandomForestClassifier(max_depth=10, random_state=123)"
      ]
     },
     "execution_count": 113,
     "metadata": {},
     "output_type": "execute_result"
    }
   ],
   "source": [
    "gf.fit(X_train_old, y_train_old)"
   ]
  },
  {
   "cell_type": "code",
   "execution_count": 114,
   "id": "234615cb",
   "metadata": {},
   "outputs": [
    {
     "data": {
      "text/plain": [
       "Index(['monthly_charges', 'total_charges', 'tenure', 'contract_type_id',\n",
       "       'payment_type_id', 'online_security', 'internet_service_type_id',\n",
       "       'tech_support', 'device_protection', 'streaming_tv', 'online_backup',\n",
       "       'multiple_lines', 'streaming_movies', 'paperless_billing', 'gender',\n",
       "       'dependents', 'partner', 'senior_citizen', 'phone_service'],\n",
       "      dtype='object')"
      ]
     },
     "execution_count": 114,
     "metadata": {},
     "output_type": "execute_result"
    }
   ],
   "source": [
    "X_train_old.columns[gf.feature_importances_.argsort()[::-1]]"
   ]
  },
  {
   "cell_type": "code",
   "execution_count": 115,
   "id": "c9c3ae35",
   "metadata": {},
   "outputs": [],
   "source": [
    "y_pred = gf.predict(X_train_old)"
   ]
  },
  {
   "cell_type": "code",
   "execution_count": 116,
   "id": "1099a70d",
   "metadata": {},
   "outputs": [],
   "source": [
    "y_pred_proba = gf.predict_proba(X_train_old)"
   ]
  },
  {
   "cell_type": "code",
   "execution_count": 117,
   "id": "683c552a",
   "metadata": {},
   "outputs": [
    {
     "name": "stdout",
     "output_type": "stream",
     "text": [
      "Accuracy of random forest classifier on training set: 0.92\n"
     ]
    }
   ],
   "source": [
    "print('Accuracy of random forest classifier on training set: {:.2f}'\n",
    "     .format(gf.score(X_train_old, y_train_old)))"
   ]
  },
  {
   "cell_type": "code",
   "execution_count": 118,
   "id": "3a68ad5a",
   "metadata": {},
   "outputs": [
    {
     "name": "stdout",
     "output_type": "stream",
     "text": [
      "[[2575   61]\n",
      " [ 207  505]]\n"
     ]
    },
    {
     "data": {
      "text/html": [
       "<div>\n",
       "<style scoped>\n",
       "    .dataframe tbody tr th:only-of-type {\n",
       "        vertical-align: middle;\n",
       "    }\n",
       "\n",
       "    .dataframe tbody tr th {\n",
       "        vertical-align: top;\n",
       "    }\n",
       "\n",
       "    .dataframe thead th {\n",
       "        text-align: right;\n",
       "    }\n",
       "</style>\n",
       "<table border=\"1\" class=\"dataframe\">\n",
       "  <thead>\n",
       "    <tr style=\"text-align: right;\">\n",
       "      <th></th>\n",
       "      <th>0</th>\n",
       "      <th>1</th>\n",
       "    </tr>\n",
       "  </thead>\n",
       "  <tbody>\n",
       "    <tr>\n",
       "      <th>0</th>\n",
       "      <td>2575</td>\n",
       "      <td>61</td>\n",
       "    </tr>\n",
       "    <tr>\n",
       "      <th>1</th>\n",
       "      <td>207</td>\n",
       "      <td>505</td>\n",
       "    </tr>\n",
       "  </tbody>\n",
       "</table>\n",
       "</div>"
      ],
      "text/plain": [
       "      0    1\n",
       "0  2575   61\n",
       "1   207  505"
      ]
     },
     "execution_count": 118,
     "metadata": {},
     "output_type": "execute_result"
    }
   ],
   "source": [
    "print(confusion_matrix(y_train_old, y_pred))\n",
    "y_train_old.value_counts()\n",
    "labels = sorted(y_train_old.unique())\n",
    "\n",
    "pd.DataFrame(confusion_matrix(y_train_old, y_pred), index=labels, columns=labels)"
   ]
  },
  {
   "cell_type": "code",
   "execution_count": 119,
   "id": "c018c00e",
   "metadata": {},
   "outputs": [
    {
     "name": "stdout",
     "output_type": "stream",
     "text": [
      "              precision    recall  f1-score   support\n",
      "\n",
      "           0       0.93      0.98      0.95      2636\n",
      "           1       0.89      0.71      0.79       712\n",
      "\n",
      "    accuracy                           0.92      3348\n",
      "   macro avg       0.91      0.84      0.87      3348\n",
      "weighted avg       0.92      0.92      0.92      3348\n",
      "\n"
     ]
    }
   ],
   "source": [
    "print(classification_report(y_train_old, y_pred))"
   ]
  },
  {
   "cell_type": "code",
   "execution_count": 120,
   "id": "b78d235f",
   "metadata": {},
   "outputs": [
    {
     "name": "stdout",
     "output_type": "stream",
     "text": [
      "Accuracy of random forest classifier on test set: 0.69\n"
     ]
    }
   ],
   "source": [
    "print('Accuracy of random forest classifier on test set: {:.2f}'\n",
    "     .format(af.score(X_validate_old, y_validate_old)))"
   ]
  },
  {
   "cell_type": "markdown",
   "id": "119ecacd",
   "metadata": {},
   "source": [
    "### Old Customer Random Forest Precision 0.89"
   ]
  },
  {
   "cell_type": "code",
   "execution_count": 103,
   "id": "a822e1e2",
   "metadata": {},
   "outputs": [],
   "source": [
    "X_test_old = X_test_old.drop(columns=['tenure_bin'])"
   ]
  },
  {
   "cell_type": "code",
   "execution_count": 104,
   "id": "a6e823e5",
   "metadata": {},
   "outputs": [],
   "source": [
    "y_test_old = y_test_old.drop(columns=['tenure_bin'])"
   ]
  },
  {
   "cell_type": "code",
   "execution_count": 105,
   "id": "56fbb523",
   "metadata": {},
   "outputs": [
    {
     "name": "stdout",
     "output_type": "stream",
     "text": [
      "Accuracy of random forest classifier on test set: 0.68\n"
     ]
    }
   ],
   "source": [
    "print('Accuracy of random forest classifier on test set: {:.2f}'\n",
    "     .format(af.score(X_test_old, y_test_old)))"
   ]
  },
  {
   "cell_type": "markdown",
   "id": "500e8e8f",
   "metadata": {},
   "source": [
    "# KNN"
   ]
  },
  {
   "cell_type": "markdown",
   "id": "9f325e80",
   "metadata": {},
   "source": [
    "### Under 90 day customer "
   ]
  },
  {
   "cell_type": "code",
   "execution_count": 569,
   "id": "78b6c82b",
   "metadata": {},
   "outputs": [],
   "source": [
    "from sklearn.neighbors import KNeighborsClassifier"
   ]
  },
  {
   "cell_type": "code",
   "execution_count": 570,
   "id": "739d7209",
   "metadata": {},
   "outputs": [],
   "source": [
    "knn = KNeighborsClassifier(n_neighbors=5, weights='uniform')\n"
   ]
  },
  {
   "cell_type": "code",
   "execution_count": 571,
   "id": "adfc1c7b",
   "metadata": {},
   "outputs": [
    {
     "data": {
      "text/plain": [
       "KNeighborsClassifier()"
      ]
     },
     "execution_count": 571,
     "metadata": {},
     "output_type": "execute_result"
    }
   ],
   "source": [
    "knn.fit(X_train_new, y_train_new)"
   ]
  },
  {
   "cell_type": "code",
   "execution_count": 572,
   "id": "1f1c0e13",
   "metadata": {},
   "outputs": [],
   "source": [
    "y_pred = knn.predict(X_train_new)"
   ]
  },
  {
   "cell_type": "code",
   "execution_count": 573,
   "id": "28c1ff21",
   "metadata": {},
   "outputs": [],
   "source": [
    "y_pred_proba = knn.predict_proba(X_train_new)"
   ]
  },
  {
   "cell_type": "code",
   "execution_count": 574,
   "id": "80177979",
   "metadata": {},
   "outputs": [
    {
     "name": "stdout",
     "output_type": "stream",
     "text": [
      "Accuracy of KNN classifier on training set: 0.75\n"
     ]
    }
   ],
   "source": [
    "print('Accuracy of KNN classifier on training set: {:.2f}'.format(knn.score(X_train_new, y_train_new)))"
   ]
  },
  {
   "cell_type": "code",
   "execution_count": 575,
   "id": "05f1f594",
   "metadata": {},
   "outputs": [
    {
     "name": "stdout",
     "output_type": "stream",
     "text": [
      "[[ 67  42]\n",
      " [ 20 123]]\n"
     ]
    }
   ],
   "source": [
    "print(confusion_matrix(y_train_new, y_pred))"
   ]
  },
  {
   "cell_type": "code",
   "execution_count": 576,
   "id": "80f11d97",
   "metadata": {},
   "outputs": [
    {
     "name": "stdout",
     "output_type": "stream",
     "text": [
      "              precision    recall  f1-score   support\n",
      "\n",
      "           0       0.77      0.61      0.68       109\n",
      "           1       0.75      0.86      0.80       143\n",
      "\n",
      "    accuracy                           0.75       252\n",
      "   macro avg       0.76      0.74      0.74       252\n",
      "weighted avg       0.76      0.75      0.75       252\n",
      "\n"
     ]
    }
   ],
   "source": [
    "print(classification_report(y_train_new, y_pred))"
   ]
  },
  {
   "cell_type": "code",
   "execution_count": 577,
   "id": "7faa4c2f",
   "metadata": {},
   "outputs": [
    {
     "name": "stdout",
     "output_type": "stream",
     "text": [
      "Accuracy of KNN classifier on training set: 0.75\n"
     ]
    }
   ],
   "source": [
    "print('Accuracy of KNN classifier on training set: {:.2f}'.format(knn.score(X_validate_new, y_validate_new)))"
   ]
  },
  {
   "cell_type": "markdown",
   "id": "ae64993f",
   "metadata": {},
   "source": [
    "### New Customer KNN Precison Score: 0.75"
   ]
  },
  {
   "cell_type": "markdown",
   "id": "c0e2aa01",
   "metadata": {},
   "source": [
    "### Over 90 day customer "
   ]
  },
  {
   "cell_type": "code",
   "execution_count": 578,
   "id": "60e74b5f",
   "metadata": {},
   "outputs": [],
   "source": [
    "knn = KNeighborsClassifier(n_neighbors=5, weights='uniform')"
   ]
  },
  {
   "cell_type": "code",
   "execution_count": 579,
   "id": "bd9e29a2",
   "metadata": {},
   "outputs": [
    {
     "data": {
      "text/plain": [
       "KNeighborsClassifier()"
      ]
     },
     "execution_count": 579,
     "metadata": {},
     "output_type": "execute_result"
    }
   ],
   "source": [
    "knn.fit(X_train_old, y_train_old)"
   ]
  },
  {
   "cell_type": "code",
   "execution_count": 580,
   "id": "e6bfeec5",
   "metadata": {},
   "outputs": [],
   "source": [
    "y_pred = knn.predict(X_train_old)"
   ]
  },
  {
   "cell_type": "code",
   "execution_count": 581,
   "id": "4702ad40",
   "metadata": {},
   "outputs": [],
   "source": [
    "y_pred_proba = knn.predict_proba(X_train_old)"
   ]
  },
  {
   "cell_type": "code",
   "execution_count": 582,
   "id": "533f8de7",
   "metadata": {},
   "outputs": [
    {
     "name": "stdout",
     "output_type": "stream",
     "text": [
      "Accuracy of KNN classifier on training set: 0.84\n"
     ]
    }
   ],
   "source": [
    "print('Accuracy of KNN classifier on training set: {:.2f}'.format(knn.score(X_train_old, y_train_old)))"
   ]
  },
  {
   "cell_type": "code",
   "execution_count": 583,
   "id": "d5559a2b",
   "metadata": {},
   "outputs": [
    {
     "name": "stdout",
     "output_type": "stream",
     "text": [
      "[[2482  154]\n",
      " [ 371  341]]\n"
     ]
    }
   ],
   "source": [
    "print(confusion_matrix(y_train_old, y_pred))"
   ]
  },
  {
   "cell_type": "code",
   "execution_count": 584,
   "id": "1374c44a",
   "metadata": {},
   "outputs": [
    {
     "name": "stdout",
     "output_type": "stream",
     "text": [
      "              precision    recall  f1-score   support\n",
      "\n",
      "           0       0.87      0.94      0.90      2636\n",
      "           1       0.69      0.48      0.57       712\n",
      "\n",
      "    accuracy                           0.84      3348\n",
      "   macro avg       0.78      0.71      0.73      3348\n",
      "weighted avg       0.83      0.84      0.83      3348\n",
      "\n"
     ]
    }
   ],
   "source": [
    "print(classification_report(y_train_old, y_pred))"
   ]
  },
  {
   "cell_type": "code",
   "execution_count": 585,
   "id": "5c022bbd",
   "metadata": {},
   "outputs": [
    {
     "name": "stdout",
     "output_type": "stream",
     "text": [
      "Accuracy of KNN classifier on training set: 0.78\n"
     ]
    }
   ],
   "source": [
    "print('Accuracy of KNN classifier on training set: {:.2f}'.format(knn.score(X_validate_old, y_validate_old)))"
   ]
  },
  {
   "cell_type": "markdown",
   "id": "34f63abf",
   "metadata": {},
   "source": [
    "### Old Customer KNN Precision Score 0.69"
   ]
  },
  {
   "cell_type": "markdown",
   "id": "8e487cc2",
   "metadata": {},
   "source": [
    "# Logistic Regression"
   ]
  },
  {
   "cell_type": "markdown",
   "id": "83cd949a",
   "metadata": {},
   "source": [
    "### Under 90 day customer"
   ]
  },
  {
   "cell_type": "code",
   "execution_count": 586,
   "id": "e2c8b1ba",
   "metadata": {},
   "outputs": [],
   "source": [
    "logit = LogisticRegression(C=1, class_weight={0:1, 1:99}, random_state=123, intercept_scaling=1, solver='lbfgs')"
   ]
  },
  {
   "cell_type": "code",
   "execution_count": 588,
   "id": "530a0eee",
   "metadata": {},
   "outputs": [
    {
     "data": {
      "text/plain": [
       "LogisticRegression(C=1, class_weight={0: 1, 1: 99}, random_state=123)"
      ]
     },
     "execution_count": 588,
     "metadata": {},
     "output_type": "execute_result"
    }
   ],
   "source": [
    "logit.fit(X_train_new, y_train_new)"
   ]
  },
  {
   "cell_type": "code",
   "execution_count": 589,
   "id": "89b56761",
   "metadata": {},
   "outputs": [
    {
     "name": "stdout",
     "output_type": "stream",
     "text": [
      "Coefficient: \n",
      " [[-4.18392376e-01 -2.16221123e+00 -9.98527864e-01  1.76071858e-01\n",
      "   1.49937635e-01  1.09402337e-01  9.55881273e-01 -2.52729673e-01\n",
      "   9.19237562e-01  4.19548969e-01  8.72056974e-01  1.50141668e+00\n",
      "  -5.28591333e-01  1.86912100e+00  3.55303912e-01 -7.24138815e-01\n",
      "  -6.06290756e-02  7.56903290e-02  1.24396970e-03]]\n",
      "Intercept: \n",
      " [0.89304389]\n"
     ]
    }
   ],
   "source": [
    "print('Coefficient: \\n', logit.coef_)\n",
    "print('Intercept: \\n', logit.intercept_)"
   ]
  },
  {
   "cell_type": "code",
   "execution_count": 590,
   "id": "fc4bce6d",
   "metadata": {},
   "outputs": [],
   "source": [
    "y_pred = logit.predict(X_train_new)"
   ]
  },
  {
   "cell_type": "code",
   "execution_count": 591,
   "id": "70ae28b6",
   "metadata": {},
   "outputs": [],
   "source": [
    "y_pred_proba = logit.predict_proba(X_train_new)"
   ]
  },
  {
   "cell_type": "code",
   "execution_count": 592,
   "id": "043547be",
   "metadata": {},
   "outputs": [
    {
     "name": "stdout",
     "output_type": "stream",
     "text": [
      "Accuracy of Logistic Regression classifier on training set: 0.57\n"
     ]
    }
   ],
   "source": [
    "print('Accuracy of Logistic Regression classifier on training set: {:.2f}'\n",
    "     .format(logit.score(X_train_new, y_train_new)))"
   ]
  },
  {
   "cell_type": "code",
   "execution_count": 593,
   "id": "1b8e15da",
   "metadata": {},
   "outputs": [
    {
     "name": "stdout",
     "output_type": "stream",
     "text": [
      "[[  1 108]\n",
      " [  0 143]]\n"
     ]
    }
   ],
   "source": [
    "print(confusion_matrix(y_train_new, y_pred))"
   ]
  },
  {
   "cell_type": "code",
   "execution_count": 594,
   "id": "10615f94",
   "metadata": {},
   "outputs": [
    {
     "name": "stdout",
     "output_type": "stream",
     "text": [
      "              precision    recall  f1-score   support\n",
      "\n",
      "           0       1.00      0.01      0.02       109\n",
      "           1       0.57      1.00      0.73       143\n",
      "\n",
      "    accuracy                           0.57       252\n",
      "   macro avg       0.78      0.50      0.37       252\n",
      "weighted avg       0.76      0.57      0.42       252\n",
      "\n"
     ]
    }
   ],
   "source": [
    "print(classification_report(y_train_new, y_pred))"
   ]
  },
  {
   "cell_type": "markdown",
   "id": "df6416b9",
   "metadata": {},
   "source": [
    "### New Customer logistic regression precision score: 0.57"
   ]
  },
  {
   "cell_type": "markdown",
   "id": "d5123db6",
   "metadata": {},
   "source": [
    "### Over 90 day customer"
   ]
  },
  {
   "cell_type": "code",
   "execution_count": 595,
   "id": "b9ed6e27",
   "metadata": {},
   "outputs": [],
   "source": [
    "logit = LogisticRegression(C=1, class_weight={0:1, 1:99}, random_state=123, intercept_scaling=1, solver='lbfgs')"
   ]
  },
  {
   "cell_type": "code",
   "execution_count": 596,
   "id": "511a2ca5",
   "metadata": {},
   "outputs": [
    {
     "data": {
      "text/plain": [
       "LogisticRegression(C=1, class_weight={0: 1, 1: 99}, random_state=123)"
      ]
     },
     "execution_count": 596,
     "metadata": {},
     "output_type": "execute_result"
    }
   ],
   "source": [
    "logit.fit(X_train_old, y_train_old)"
   ]
  },
  {
   "cell_type": "code",
   "execution_count": 597,
   "id": "8e9a3139",
   "metadata": {},
   "outputs": [
    {
     "name": "stdout",
     "output_type": "stream",
     "text": [
      "Coefficient: \n",
      " [[ 2.75550444e-02 -8.46827817e-01  9.06669502e-02  1.50132469e-01\n",
      "   1.76698372e-01  1.20387448e-01  3.56972890e-01 -7.61250366e-03\n",
      "   3.85868923e-01  4.72711345e-01 -3.02642040e-01  2.98945390e-01\n",
      "  -2.44917287e-01  4.58943015e-01  1.72962637e-01  6.30690176e-02\n",
      "  -7.69305743e-02  5.05964212e-02 -2.35213248e-04]]\n",
      "Intercept: \n",
      " [0.25869807]\n"
     ]
    }
   ],
   "source": [
    "print('Coefficient: \\n', logit.coef_)\n",
    "print('Intercept: \\n', logit.intercept_)"
   ]
  },
  {
   "cell_type": "code",
   "execution_count": 598,
   "id": "b9633325",
   "metadata": {},
   "outputs": [],
   "source": [
    "y_pred = logit.predict(X_train_old)"
   ]
  },
  {
   "cell_type": "code",
   "execution_count": 599,
   "id": "d7ba8129",
   "metadata": {},
   "outputs": [],
   "source": [
    "y_pred_proba = logit.predict_proba(X_train_old)"
   ]
  },
  {
   "cell_type": "code",
   "execution_count": 600,
   "id": "f131b63f",
   "metadata": {},
   "outputs": [
    {
     "name": "stdout",
     "output_type": "stream",
     "text": [
      "Accuracy of Logistic Regression classifier on training set: 0.29\n"
     ]
    }
   ],
   "source": [
    "print('Accuracy of Logistic Regression classifier on training set: {:.2f}'\n",
    "     .format(logit.score(X_train_old, y_train_old)))"
   ]
  },
  {
   "cell_type": "code",
   "execution_count": 601,
   "id": "36d8219c",
   "metadata": {},
   "outputs": [
    {
     "name": "stdout",
     "output_type": "stream",
     "text": [
      "[[ 263 2373]\n",
      " [   1  711]]\n"
     ]
    }
   ],
   "source": [
    "print(confusion_matrix(y_train_old, y_pred))"
   ]
  },
  {
   "cell_type": "code",
   "execution_count": 602,
   "id": "e0d2e901",
   "metadata": {},
   "outputs": [
    {
     "name": "stdout",
     "output_type": "stream",
     "text": [
      "              precision    recall  f1-score   support\n",
      "\n",
      "           0       1.00      0.10      0.18      2636\n",
      "           1       0.23      1.00      0.37       712\n",
      "\n",
      "    accuracy                           0.29      3348\n",
      "   macro avg       0.61      0.55      0.28      3348\n",
      "weighted avg       0.83      0.29      0.22      3348\n",
      "\n"
     ]
    }
   ],
   "source": [
    "print(classification_report(y_train_old, y_pred))"
   ]
  },
  {
   "cell_type": "markdown",
   "id": "f27dfbf0",
   "metadata": {},
   "source": [
    "### Old Customer logistic regression Precision Score: 0.23"
   ]
  },
  {
   "cell_type": "markdown",
   "id": "c888cd44",
   "metadata": {},
   "source": [
    "### Under 90 day best classifier: Random Forest "
   ]
  },
  {
   "cell_type": "markdown",
   "id": "6282c65d",
   "metadata": {},
   "source": [
    "### Over 90 day best classifier: Random Forest"
   ]
  },
  {
   "cell_type": "code",
   "execution_count": 127,
   "id": "a2112706",
   "metadata": {},
   "outputs": [
    {
     "name": "stdout",
     "output_type": "stream",
     "text": [
      "Using cached csv\n"
     ]
    }
   ],
   "source": [
    "df = acquire_telco.get_telco_data()"
   ]
  },
  {
   "cell_type": "code",
   "execution_count": 128,
   "id": "0da6d949",
   "metadata": {},
   "outputs": [],
   "source": [
    "def bin_tenure(tenure):\n",
    "    if tenure <= 3: \n",
    "        return \"brand_new\"\n",
    "    else: \n",
    "        return 'not_new'"
   ]
  },
  {
   "cell_type": "code",
   "execution_count": 129,
   "id": "dd6c5781",
   "metadata": {},
   "outputs": [],
   "source": [
    "train[\"tenure_bin\"] = train.tenure.apply(bin_tenure)"
   ]
  },
  {
   "cell_type": "code",
   "execution_count": 130,
   "id": "008e1987",
   "metadata": {},
   "outputs": [],
   "source": [
    "new_customers = train[train.tenure_bin == \"brand_new\"]\n",
    "old_customers = train[train.tenure_bin == \"not_new\"]"
   ]
  },
  {
   "cell_type": "code",
   "execution_count": 110,
   "id": "77f90799",
   "metadata": {},
   "outputs": [],
   "source": [
    "new_customers['under_90_day_customer_prediction'] = af.predict(X_train_new)"
   ]
  },
  {
   "cell_type": "code",
   "execution_count": 123,
   "id": "7d26c93d",
   "metadata": {},
   "outputs": [],
   "source": [
    "new_customers.to_csv('predictions_new.csv')"
   ]
  },
  {
   "cell_type": "code",
   "execution_count": 121,
   "id": "4fb71823",
   "metadata": {},
   "outputs": [],
   "source": [
    "old_customers['over_90_day_customer_prediction'] = gf.predict(X_train_old)"
   ]
  },
  {
   "cell_type": "code",
   "execution_count": 124,
   "id": "de9e3dbb",
   "metadata": {},
   "outputs": [],
   "source": [
    "old_customers.to_csv('predictions_old.csv')"
   ]
  },
  {
   "cell_type": "markdown",
   "id": "822d33f3",
   "metadata": {},
   "source": [
    "# Conclusion"
   ]
  },
  {
   "cell_type": "markdown",
   "id": "569f6583",
   "metadata": {},
   "source": [
    "This report uses monthly charges, total charges, and tenure as a means of describing a categorical feature: i.e. being a fiber optic customer, senior citizen customer etc. It should be noted that monthly charges, total charges, and tenure are all top drivers of churn. "
   ]
  },
  {
   "cell_type": "markdown",
   "id": "0a27638e",
   "metadata": {},
   "source": [
    "### Top factors contributing to churn in the first 90 days: "
   ]
  },
  {
   "cell_type": "markdown",
   "id": "69330955",
   "metadata": {},
   "source": [
    "Senior Citizens churn at an especially high rate in the first 90 days "
   ]
  },
  {
   "cell_type": "markdown",
   "id": "5584146e",
   "metadata": {},
   "source": [
    "Customers without tech support churn at a higher rate in the first 90 days than customers without tech support after 90 days"
   ]
  },
  {
   "cell_type": "markdown",
   "id": "63298306",
   "metadata": {},
   "source": [
    "### Top factors contributing to churn over 90 days: "
   ]
  },
  {
   "cell_type": "markdown",
   "id": "cc697dfa",
   "metadata": {},
   "source": [
    "Fiber optic internet customers churn at a much higher rate than DSL customers "
   ]
  },
  {
   "cell_type": "markdown",
   "id": "23d8d99a",
   "metadata": {},
   "source": [
    "Customers with features like online backup, online security, tech support, and device protection churn at a lower rate than those without"
   ]
  },
  {
   "cell_type": "markdown",
   "id": "1e415408",
   "metadata": {},
   "source": [
    "Monthly costs for customers fluctuating from month to month might be a source of dissatisfaction"
   ]
  },
  {
   "cell_type": "markdown",
   "id": "976edac3",
   "metadata": {},
   "source": [
    "### If I had additional time I would have liked to: "
   ]
  },
  {
   "cell_type": "markdown",
   "id": "f609827a",
   "metadata": {},
   "source": [
    "1. Fine tune models with use of different hyperparameters"
   ]
  },
  {
   "cell_type": "markdown",
   "id": "31765f35",
   "metadata": {},
   "source": [
    "2. Create a function that would produce multiple models "
   ]
  },
  {
   "cell_type": "markdown",
   "id": "404dda60",
   "metadata": {},
   "source": [
    "3. Combine features and/or remove features to improve models"
   ]
  }
 ],
 "metadata": {
  "kernelspec": {
   "display_name": "Python 3 (ipykernel)",
   "language": "python",
   "name": "python3"
  },
  "language_info": {
   "codemirror_mode": {
    "name": "ipython",
    "version": 3
   },
   "file_extension": ".py",
   "mimetype": "text/x-python",
   "name": "python",
   "nbconvert_exporter": "python",
   "pygments_lexer": "ipython3",
   "version": "3.9.7"
  }
 },
 "nbformat": 4,
 "nbformat_minor": 5
}
