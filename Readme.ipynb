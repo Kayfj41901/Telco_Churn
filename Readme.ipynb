{
 "cells": [
  {
   "cell_type": "markdown",
   "id": "89e9ebdb",
   "metadata": {},
   "source": [
    "# Evaluating Churn at Telco Co"
   ]
  },
  {
   "cell_type": "markdown",
   "id": "31649003",
   "metadata": {},
   "source": [
    "Introduction: The purpose of this project is to identify drivers of churn at TelcoCo. This task is accomplished by the following: \n",
    "- Acquiring the data from the CodeUp SQL database \n",
    "- Preparing the data \n",
    "- Exploring the data \n",
    "- Visualizing the data \n",
    "- Modeling the data"
   ]
  },
  {
   "cell_type": "markdown",
   "id": "bbd00381",
   "metadata": {},
   "source": [
    "### Project Goals"
   ]
  },
  {
   "cell_type": "markdown",
   "id": "8e39d217",
   "metadata": {},
   "source": [
    "- Find drivers for customer churn at Telco. Why are customers churning? \n",
    "- Construct a ML classification model that accurately predicts customer churn \n",
    "- Deliver a report that a non-data scientist can read through and understand what steps are taken, why and what was the outcome?"
   ]
  },
  {
   "cell_type": "markdown",
   "id": "b3db96e1",
   "metadata": {},
   "source": [
    "### Deliverables"
   ]
  },
  {
   "cell_type": "markdown",
   "id": "ebb11050",
   "metadata": {},
   "source": [
    "- Readme: project description with goals, initial hypothesis and/or questions, data dictionary, project planning, instructions how someone else can reproduce your project and findings, key findings, recommendations, and takeaways from your project "
   ]
  },
  {
   "cell_type": "markdown",
   "id": "516c65aa",
   "metadata": {},
   "source": [
    "- Final Report: a report that has filtered out all the extraneous elements. Report must include four visualizations paired with questions. Report must also include at least two statistical tests.  "
   ]
  },
  {
   "cell_type": "markdown",
   "id": "5e7db5d2",
   "metadata": {},
   "source": [
    "- Prediction CSV file- 3 columns: customer_id, probability of churn, and prediction of churn. "
   ]
  },
  {
   "cell_type": "markdown",
   "id": "e7bb1890",
   "metadata": {},
   "source": [
    "Prepare.py:\n",
    "- Drops duplicate columns: payment_type_id, internet_service_type_id, contract_type_id, customer_id\n",
    "- Encodes: gender, partner, dependents, phone service, paperless billing, and churn \n",
    "- Creates dummy variables: multiple lines, online security, online backup, device protection, tech support, streaming tv, streaming movies, contract type, internet service type, payment type\n",
    "- Concat dummy DataFrame to original DataFrame\n",
    "- Strips total charges of white space\n",
    "- Changes total charges datatype from object to float \n",
    "- Splits the data: train, validate, test"
   ]
  },
  {
   "cell_type": "markdown",
   "id": "784fb3bf",
   "metadata": {},
   "source": [
    "Acquire_telco.py\n",
    "- Used to download dataset from SQL "
   ]
  },
  {
   "cell_type": "markdown",
   "id": "270f3810",
   "metadata": {},
   "source": [
    "Data Dictionary\n",
    "Customer Identification and Demographic Data:\n",
    "- Customer ID \n",
    "- Gender \n",
    "- Partner status \n",
    "- Dependent status \n",
    "- Senior citizen status \n",
    "- Tenure in months \n",
    "- Monthly charges \n",
    "- Total charges \n",
    "- Paperless Billing \n",
    "- Payment type \n",
    "- Multiple lines : One Line, Multiple Lines, No Phone Service \n",
    "- Internet Service Type: Fiber Optic, DSL, None \n",
    "- Internet Service Option columns \n",
    "- Online security\n",
    "- Online backup\n",
    "- Device protection\n",
    "- Tech support\n",
    "- Streaming TV\n",
    "- Streaming movies\n",
    "- Churn status "
   ]
  },
  {
   "cell_type": "markdown",
   "id": "f41cd82b",
   "metadata": {},
   "source": [
    "To Reproduce this Project: "
   ]
  },
  {
   "cell_type": "markdown",
   "id": "5bf77baa",
   "metadata": {},
   "source": [
    "In order to reproduce this project download acquire_telco.py, prepare.py, prepare_telco.py and Telco Presentation Final.ipnyb. You will need an env.py to access the CodeUp SQL database. Import .py files including your own personal env.py into the Telco Presentation Final notebook and run it. "
   ]
  },
  {
   "cell_type": "markdown",
   "id": "3ca40736",
   "metadata": {},
   "source": [
    "# Conclusion"
   ]
  },
  {
   "cell_type": "markdown",
   "id": "a95ec6ee",
   "metadata": {},
   "source": [
    "The main drivers of churn are: fiber optic internet customers, customers who pay by Electronic check, and senior citizen customers"
   ]
  },
  {
   "cell_type": "markdown",
   "id": "2f93d7f1",
   "metadata": {},
   "source": [
    "Add on services like online security, online backup, and tech support might support better customer retention"
   ]
  },
  {
   "cell_type": "markdown",
   "id": "e08f24c6",
   "metadata": {},
   "source": [
    "Monthly cost and total cost is also a driver of churn"
   ]
  },
  {
   "cell_type": "markdown",
   "id": "303539bc",
   "metadata": {},
   "source": [
    "Month to month customers churn at a higher rate than customers under contract"
   ]
  }
 ],
 "metadata": {
  "kernelspec": {
   "display_name": "Python 3 (ipykernel)",
   "language": "python",
   "name": "python3"
  },
  "language_info": {
   "codemirror_mode": {
    "name": "ipython",
    "version": 3
   },
   "file_extension": ".py",
   "mimetype": "text/x-python",
   "name": "python",
   "nbconvert_exporter": "python",
   "pygments_lexer": "ipython3",
   "version": "3.9.7"
  }
 },
 "nbformat": 4,
 "nbformat_minor": 5
}
